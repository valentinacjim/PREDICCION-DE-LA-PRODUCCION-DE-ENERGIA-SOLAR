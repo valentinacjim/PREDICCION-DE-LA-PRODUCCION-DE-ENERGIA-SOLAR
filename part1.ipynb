{
 "cells": [
  {
   "attachments": {},
   "cell_type": "markdown",
   "id": "79d35281",
   "metadata": {},
   "source": [
    "# PREDICCIÓN DE LA PRODUCCIÓN DE ENERGÍA SOLAR\n"
   ]
  },
  {
   "attachments": {},
   "cell_type": "markdown",
   "id": "97b0fd22",
   "metadata": {},
   "source": [
    "# Importación de librerías"
   ]
  },
  {
   "cell_type": "code",
   "execution_count": 77,
   "id": "1f10d37b",
   "metadata": {},
   "outputs": [],
   "source": [
    "import pandas as pd\n",
    "import numpy as np\n",
    "import seaborn as sns\n",
    "import time\n",
    "\n",
    "# Librerías de métricas\n",
    "from sklearn.metrics import mean_absolute_error\n",
    "from sklearn.metrics import mean_squared_error\n",
    "\n",
    "# Librerías de modelos\n",
    "from sklearn.dummy import DummyRegressor\n",
    "from sklearn.neighbors import KNeighborsRegressor\n",
    "from sklearn.linear_model import LinearRegression\n",
    "from sklearn.tree import DecisionTreeRegressor\n",
    "from sklearn.svm import SVR\n",
    "from sklearn.preprocessing import StandardScaler, RobustScaler\n",
    "from sklearn.ensemble import RandomForestRegressor\n",
    "\n",
    "from sklearn.pipeline import make_pipeline, Pipeline\n",
    "from sklearn.compose import ColumnTransformer\n",
    "from sklearn.model_selection import PredefinedSplit\n",
    "\n",
    "# Librerías de búsqueda de hiperparámetros\n",
    "from sklearn.model_selection import GridSearchCV\n"
   ]
  },
  {
   "attachments": {},
   "cell_type": "markdown",
   "id": "831414e0",
   "metadata": {},
   "source": [
    "# Importación de datos"
   ]
  },
  {
   "cell_type": "code",
   "execution_count": 78,
   "id": "6fd2f555",
   "metadata": {
    "scrolled": true
   },
   "outputs": [],
   "source": [
    "disp_df = pd.read_csv(\"datos/disp_st2ns1.txt.bz2\",\n",
    "    compression=\"bz2\",\n",
    "    index_col=0)"
   ]
  },
  {
   "attachments": {},
   "cell_type": "markdown",
   "id": "f91e577c",
   "metadata": {},
   "source": [
    "# Analisis Exploratorio de Datos"
   ]
  },
  {
   "attachments": {},
   "cell_type": "markdown",
   "id": "0d0ad362",
   "metadata": {},
   "source": [
    "Comprobamos la cantidad de datos que tenemos en el dataset"
   ]
  },
  {
   "cell_type": "code",
   "execution_count": 79,
   "id": "bc8739ae",
   "metadata": {},
   "outputs": [
    {
     "name": "stdout",
     "output_type": "stream",
     "text": [
      "Cantidad de Filas y columnas: (4380, 76)\n",
      "Nombre columnas: Index(['apcp_sf1_1', 'apcp_sf2_1', 'apcp_sf3_1', 'apcp_sf4_1', 'apcp_sf5_1',\n",
      "       'dlwrf_s1_1', 'dlwrf_s2_1', 'dlwrf_s3_1', 'dlwrf_s4_1', 'dlwrf_s5_1',\n",
      "       'dswrf_s1_1', 'dswrf_s2_1', 'dswrf_s3_1', 'dswrf_s4_1', 'dswrf_s5_1',\n",
      "       'pres_ms1_1', 'pres_ms2_1', 'pres_ms3_1', 'pres_ms4_1', 'pres_ms5_1',\n",
      "       'pwat_ea1_1', 'pwat_ea2_1', 'pwat_ea3_1', 'pwat_ea4_1', 'pwat_ea5_1',\n",
      "       'spfh_2m1_1', 'spfh_2m2_1', 'spfh_2m3_1', 'spfh_2m4_1', 'spfh_2m5_1',\n",
      "       'tcdc_ea1_1', 'tcdc_ea2_1', 'tcdc_ea3_1', 'tcdc_ea4_1', 'tcdc_ea5_1',\n",
      "       'tcolc_e1_1', 'tcolc_e2_1', 'tcolc_e3_1', 'tcolc_e4_1', 'tcolc_e5_1',\n",
      "       'tmax_2m1_1', 'tmax_2m2_1', 'tmax_2m3_1', 'tmax_2m4_1', 'tmax_2m5_1',\n",
      "       'tmin_2m1_1', 'tmin_2m2_1', 'tmin_2m3_1', 'tmin_2m4_1', 'tmin_2m5_1',\n",
      "       'tmp_2m_1_1', 'tmp_2m_2_1', 'tmp_2m_3_1', 'tmp_2m_4_1', 'tmp_2m_5_1',\n",
      "       'tmp_sfc1_1', 'tmp_sfc2_1', 'tmp_sfc3_1', 'tmp_sfc4_1', 'tmp_sfc5_1',\n",
      "       'ulwrf_s1_1', 'ulwrf_s2_1', 'ulwrf_s3_1', 'ulwrf_s4_1', 'ulwrf_s5_1',\n",
      "       'ulwrf_t1_1', 'ulwrf_t2_1', 'ulwrf_t3_1', 'ulwrf_t4_1', 'ulwrf_t5_1',\n",
      "       'uswrf_s1_1', 'uswrf_s2_1', 'uswrf_s3_1', 'uswrf_s4_1', 'uswrf_s5_1',\n",
      "       'salida'],\n",
      "      dtype='object')\n"
     ]
    }
   ],
   "source": [
    "disp_df_eda = disp_df.copy()\n",
    "\n",
    "print('Cantidad de Filas y columnas:', disp_df_eda.shape)\n",
    "print('Nombre columnas:', disp_df_eda.columns)"
   ]
  },
  {
   "cell_type": "code",
   "execution_count": 80,
   "id": "19654e93",
   "metadata": {},
   "outputs": [
    {
     "name": "stdout",
     "output_type": "stream",
     "text": [
      "<class 'pandas.core.frame.DataFrame'>\n",
      "Index: 4380 entries, V1 to V4380\n",
      "Data columns (total 76 columns):\n",
      " #   Column      Non-Null Count  Dtype  \n",
      "---  ------      --------------  -----  \n",
      " 0   apcp_sf1_1  4380 non-null   float64\n",
      " 1   apcp_sf2_1  4380 non-null   float64\n",
      " 2   apcp_sf3_1  4380 non-null   float64\n",
      " 3   apcp_sf4_1  4380 non-null   float64\n",
      " 4   apcp_sf5_1  4380 non-null   float64\n",
      " 5   dlwrf_s1_1  4380 non-null   float64\n",
      " 6   dlwrf_s2_1  4380 non-null   float64\n",
      " 7   dlwrf_s3_1  4380 non-null   float64\n",
      " 8   dlwrf_s4_1  4380 non-null   float64\n",
      " 9   dlwrf_s5_1  4380 non-null   float64\n",
      " 10  dswrf_s1_1  4380 non-null   float64\n",
      " 11  dswrf_s2_1  4380 non-null   float64\n",
      " 12  dswrf_s3_1  4380 non-null   float64\n",
      " 13  dswrf_s4_1  4380 non-null   float64\n",
      " 14  dswrf_s5_1  4380 non-null   float64\n",
      " 15  pres_ms1_1  4380 non-null   float64\n",
      " 16  pres_ms2_1  4380 non-null   float64\n",
      " 17  pres_ms3_1  4380 non-null   float64\n",
      " 18  pres_ms4_1  4380 non-null   float64\n",
      " 19  pres_ms5_1  4380 non-null   float64\n",
      " 20  pwat_ea1_1  4380 non-null   float64\n",
      " 21  pwat_ea2_1  4380 non-null   float64\n",
      " 22  pwat_ea3_1  4380 non-null   float64\n",
      " 23  pwat_ea4_1  4380 non-null   float64\n",
      " 24  pwat_ea5_1  4380 non-null   float64\n",
      " 25  spfh_2m1_1  4380 non-null   float64\n",
      " 26  spfh_2m2_1  4380 non-null   float64\n",
      " 27  spfh_2m3_1  4380 non-null   float64\n",
      " 28  spfh_2m4_1  4380 non-null   float64\n",
      " 29  spfh_2m5_1  4380 non-null   float64\n",
      " 30  tcdc_ea1_1  4380 non-null   float64\n",
      " 31  tcdc_ea2_1  4380 non-null   float64\n",
      " 32  tcdc_ea3_1  4380 non-null   float64\n",
      " 33  tcdc_ea4_1  4380 non-null   float64\n",
      " 34  tcdc_ea5_1  4380 non-null   float64\n",
      " 35  tcolc_e1_1  4380 non-null   float64\n",
      " 36  tcolc_e2_1  4380 non-null   float64\n",
      " 37  tcolc_e3_1  4380 non-null   float64\n",
      " 38  tcolc_e4_1  4380 non-null   float64\n",
      " 39  tcolc_e5_1  4380 non-null   float64\n",
      " 40  tmax_2m1_1  4380 non-null   float64\n",
      " 41  tmax_2m2_1  4380 non-null   float64\n",
      " 42  tmax_2m3_1  4380 non-null   float64\n",
      " 43  tmax_2m4_1  4380 non-null   float64\n",
      " 44  tmax_2m5_1  4380 non-null   float64\n",
      " 45  tmin_2m1_1  4380 non-null   float64\n",
      " 46  tmin_2m2_1  4380 non-null   float64\n",
      " 47  tmin_2m3_1  4380 non-null   float64\n",
      " 48  tmin_2m4_1  4380 non-null   float64\n",
      " 49  tmin_2m5_1  4380 non-null   float64\n",
      " 50  tmp_2m_1_1  4380 non-null   float64\n",
      " 51  tmp_2m_2_1  4380 non-null   float64\n",
      " 52  tmp_2m_3_1  4380 non-null   float64\n",
      " 53  tmp_2m_4_1  4380 non-null   float64\n",
      " 54  tmp_2m_5_1  4380 non-null   float64\n",
      " 55  tmp_sfc1_1  4380 non-null   float64\n",
      " 56  tmp_sfc2_1  4380 non-null   float64\n",
      " 57  tmp_sfc3_1  4380 non-null   float64\n",
      " 58  tmp_sfc4_1  4380 non-null   float64\n",
      " 59  tmp_sfc5_1  4380 non-null   float64\n",
      " 60  ulwrf_s1_1  4380 non-null   float64\n",
      " 61  ulwrf_s2_1  4380 non-null   float64\n",
      " 62  ulwrf_s3_1  4380 non-null   float64\n",
      " 63  ulwrf_s4_1  4380 non-null   float64\n",
      " 64  ulwrf_s5_1  4380 non-null   float64\n",
      " 65  ulwrf_t1_1  4380 non-null   float64\n",
      " 66  ulwrf_t2_1  4380 non-null   float64\n",
      " 67  ulwrf_t3_1  4380 non-null   float64\n",
      " 68  ulwrf_t4_1  4380 non-null   float64\n",
      " 69  ulwrf_t5_1  4380 non-null   float64\n",
      " 70  uswrf_s1_1  4380 non-null   float64\n",
      " 71  uswrf_s2_1  4380 non-null   float64\n",
      " 72  uswrf_s3_1  4380 non-null   float64\n",
      " 73  uswrf_s4_1  4380 non-null   float64\n",
      " 74  uswrf_s5_1  4380 non-null   float64\n",
      " 75  salida      4380 non-null   int64  \n",
      "dtypes: float64(75), int64(1)\n",
      "memory usage: 2.6+ MB\n"
     ]
    }
   ],
   "source": [
    "disp_df_eda.info()"
   ]
  },
  {
   "cell_type": "code",
   "execution_count": 81,
   "id": "846becb9",
   "metadata": {},
   "outputs": [
    {
     "data": {
      "text/html": [
       "<div>\n",
       "<style scoped>\n",
       "    .dataframe tbody tr th:only-of-type {\n",
       "        vertical-align: middle;\n",
       "    }\n",
       "\n",
       "    .dataframe tbody tr th {\n",
       "        vertical-align: top;\n",
       "    }\n",
       "\n",
       "    .dataframe thead th {\n",
       "        text-align: right;\n",
       "    }\n",
       "</style>\n",
       "<table border=\"1\" class=\"dataframe\">\n",
       "  <thead>\n",
       "    <tr style=\"text-align: right;\">\n",
       "      <th></th>\n",
       "      <th>apcp_sf1_1</th>\n",
       "      <th>apcp_sf2_1</th>\n",
       "      <th>apcp_sf3_1</th>\n",
       "      <th>apcp_sf4_1</th>\n",
       "      <th>apcp_sf5_1</th>\n",
       "      <th>dlwrf_s1_1</th>\n",
       "      <th>dlwrf_s2_1</th>\n",
       "      <th>dlwrf_s3_1</th>\n",
       "      <th>dlwrf_s4_1</th>\n",
       "      <th>dlwrf_s5_1</th>\n",
       "      <th>...</th>\n",
       "      <th>ulwrf_t2_1</th>\n",
       "      <th>ulwrf_t3_1</th>\n",
       "      <th>ulwrf_t4_1</th>\n",
       "      <th>ulwrf_t5_1</th>\n",
       "      <th>uswrf_s1_1</th>\n",
       "      <th>uswrf_s2_1</th>\n",
       "      <th>uswrf_s3_1</th>\n",
       "      <th>uswrf_s4_1</th>\n",
       "      <th>uswrf_s5_1</th>\n",
       "      <th>salida</th>\n",
       "    </tr>\n",
       "  </thead>\n",
       "  <tbody>\n",
       "    <tr>\n",
       "      <th>count</th>\n",
       "      <td>4380.000000</td>\n",
       "      <td>4380.000000</td>\n",
       "      <td>4380.000000</td>\n",
       "      <td>4380.000000</td>\n",
       "      <td>4380.000000</td>\n",
       "      <td>4380.000000</td>\n",
       "      <td>4380.000000</td>\n",
       "      <td>4380.000000</td>\n",
       "      <td>4380.000000</td>\n",
       "      <td>4380.000000</td>\n",
       "      <td>...</td>\n",
       "      <td>4380.000000</td>\n",
       "      <td>4380.000000</td>\n",
       "      <td>4380.000000</td>\n",
       "      <td>4380.000000</td>\n",
       "      <td>4380.000000</td>\n",
       "      <td>4380.000000</td>\n",
       "      <td>4380.000000</td>\n",
       "      <td>4380.000000</td>\n",
       "      <td>4380.000000</td>\n",
       "      <td>4.380000e+03</td>\n",
       "    </tr>\n",
       "    <tr>\n",
       "      <th>mean</th>\n",
       "      <td>0.606809</td>\n",
       "      <td>0.252764</td>\n",
       "      <td>0.480446</td>\n",
       "      <td>0.271476</td>\n",
       "      <td>0.514641</td>\n",
       "      <td>316.698532</td>\n",
       "      <td>317.381851</td>\n",
       "      <td>324.682998</td>\n",
       "      <td>343.757513</td>\n",
       "      <td>343.097254</td>\n",
       "      <td>...</td>\n",
       "      <td>247.300145</td>\n",
       "      <td>251.597699</td>\n",
       "      <td>261.916025</td>\n",
       "      <td>260.870143</td>\n",
       "      <td>0.076235</td>\n",
       "      <td>38.585222</td>\n",
       "      <td>76.064674</td>\n",
       "      <td>126.504047</td>\n",
       "      <td>99.087049</td>\n",
       "      <td>1.629826e+07</td>\n",
       "    </tr>\n",
       "    <tr>\n",
       "      <th>std</th>\n",
       "      <td>2.275740</td>\n",
       "      <td>0.999809</td>\n",
       "      <td>1.774720</td>\n",
       "      <td>1.086599</td>\n",
       "      <td>1.886735</td>\n",
       "      <td>55.637609</td>\n",
       "      <td>57.874376</td>\n",
       "      <td>58.702133</td>\n",
       "      <td>60.860672</td>\n",
       "      <td>60.693451</td>\n",
       "      <td>...</td>\n",
       "      <td>36.804219</td>\n",
       "      <td>36.382653</td>\n",
       "      <td>39.190955</td>\n",
       "      <td>38.734023</td>\n",
       "      <td>0.255491</td>\n",
       "      <td>25.984861</td>\n",
       "      <td>30.784078</td>\n",
       "      <td>40.571154</td>\n",
       "      <td>35.454368</td>\n",
       "      <td>7.965298e+06</td>\n",
       "    </tr>\n",
       "    <tr>\n",
       "      <th>min</th>\n",
       "      <td>0.000000</td>\n",
       "      <td>0.000000</td>\n",
       "      <td>0.000000</td>\n",
       "      <td>0.000000</td>\n",
       "      <td>0.000000</td>\n",
       "      <td>158.971770</td>\n",
       "      <td>160.032903</td>\n",
       "      <td>165.524543</td>\n",
       "      <td>183.671312</td>\n",
       "      <td>186.342961</td>\n",
       "      <td>...</td>\n",
       "      <td>113.559602</td>\n",
       "      <td>118.679132</td>\n",
       "      <td>119.393449</td>\n",
       "      <td>121.951425</td>\n",
       "      <td>0.000000</td>\n",
       "      <td>0.000000</td>\n",
       "      <td>3.181818</td>\n",
       "      <td>4.363636</td>\n",
       "      <td>2.545455</td>\n",
       "      <td>5.100000e+05</td>\n",
       "    </tr>\n",
       "    <tr>\n",
       "      <th>25%</th>\n",
       "      <td>0.000000</td>\n",
       "      <td>0.000000</td>\n",
       "      <td>0.000000</td>\n",
       "      <td>0.000000</td>\n",
       "      <td>0.000000</td>\n",
       "      <td>271.219564</td>\n",
       "      <td>268.889864</td>\n",
       "      <td>275.709318</td>\n",
       "      <td>293.757163</td>\n",
       "      <td>292.834810</td>\n",
       "      <td>...</td>\n",
       "      <td>230.482578</td>\n",
       "      <td>233.976283</td>\n",
       "      <td>245.721419</td>\n",
       "      <td>243.850282</td>\n",
       "      <td>0.000000</td>\n",
       "      <td>14.000000</td>\n",
       "      <td>53.431818</td>\n",
       "      <td>108.454545</td>\n",
       "      <td>74.795455</td>\n",
       "      <td>1.062375e+07</td>\n",
       "    </tr>\n",
       "    <tr>\n",
       "      <th>50%</th>\n",
       "      <td>0.000000</td>\n",
       "      <td>0.000000</td>\n",
       "      <td>0.000000</td>\n",
       "      <td>0.000000</td>\n",
       "      <td>0.000000</td>\n",
       "      <td>321.106932</td>\n",
       "      <td>323.063311</td>\n",
       "      <td>329.708327</td>\n",
       "      <td>346.763388</td>\n",
       "      <td>345.883918</td>\n",
       "      <td>...</td>\n",
       "      <td>253.309217</td>\n",
       "      <td>257.270334</td>\n",
       "      <td>270.790095</td>\n",
       "      <td>269.300432</td>\n",
       "      <td>0.000000</td>\n",
       "      <td>35.363636</td>\n",
       "      <td>79.272727</td>\n",
       "      <td>135.909091</td>\n",
       "      <td>104.818182</td>\n",
       "      <td>1.635690e+07</td>\n",
       "    </tr>\n",
       "    <tr>\n",
       "      <th>75%</th>\n",
       "      <td>0.109091</td>\n",
       "      <td>0.051818</td>\n",
       "      <td>0.127500</td>\n",
       "      <td>0.036364</td>\n",
       "      <td>0.090909</td>\n",
       "      <td>366.145476</td>\n",
       "      <td>370.147353</td>\n",
       "      <td>378.509126</td>\n",
       "      <td>399.600853</td>\n",
       "      <td>398.728281</td>\n",
       "      <td>...</td>\n",
       "      <td>274.861445</td>\n",
       "      <td>278.800420</td>\n",
       "      <td>290.139446</td>\n",
       "      <td>289.699652</td>\n",
       "      <td>0.000000</td>\n",
       "      <td>61.818182</td>\n",
       "      <td>102.727273</td>\n",
       "      <td>155.204545</td>\n",
       "      <td>129.545455</td>\n",
       "      <td>2.312775e+07</td>\n",
       "    </tr>\n",
       "    <tr>\n",
       "      <th>max</th>\n",
       "      <td>43.009090</td>\n",
       "      <td>16.846364</td>\n",
       "      <td>28.399091</td>\n",
       "      <td>26.381818</td>\n",
       "      <td>36.875455</td>\n",
       "      <td>426.173970</td>\n",
       "      <td>427.486894</td>\n",
       "      <td>429.693146</td>\n",
       "      <td>455.566337</td>\n",
       "      <td>453.910406</td>\n",
       "      <td>...</td>\n",
       "      <td>311.991660</td>\n",
       "      <td>315.569164</td>\n",
       "      <td>328.920274</td>\n",
       "      <td>327.253141</td>\n",
       "      <td>1.000000</td>\n",
       "      <td>92.272727</td>\n",
       "      <td>192.636364</td>\n",
       "      <td>450.636364</td>\n",
       "      <td>313.909091</td>\n",
       "      <td>3.122700e+07</td>\n",
       "    </tr>\n",
       "  </tbody>\n",
       "</table>\n",
       "<p>8 rows × 76 columns</p>\n",
       "</div>"
      ],
      "text/plain": [
       "        apcp_sf1_1   apcp_sf2_1   apcp_sf3_1   apcp_sf4_1   apcp_sf5_1  \\\n",
       "count  4380.000000  4380.000000  4380.000000  4380.000000  4380.000000   \n",
       "mean      0.606809     0.252764     0.480446     0.271476     0.514641   \n",
       "std       2.275740     0.999809     1.774720     1.086599     1.886735   \n",
       "min       0.000000     0.000000     0.000000     0.000000     0.000000   \n",
       "25%       0.000000     0.000000     0.000000     0.000000     0.000000   \n",
       "50%       0.000000     0.000000     0.000000     0.000000     0.000000   \n",
       "75%       0.109091     0.051818     0.127500     0.036364     0.090909   \n",
       "max      43.009090    16.846364    28.399091    26.381818    36.875455   \n",
       "\n",
       "        dlwrf_s1_1   dlwrf_s2_1   dlwrf_s3_1   dlwrf_s4_1   dlwrf_s5_1  ...  \\\n",
       "count  4380.000000  4380.000000  4380.000000  4380.000000  4380.000000  ...   \n",
       "mean    316.698532   317.381851   324.682998   343.757513   343.097254  ...   \n",
       "std      55.637609    57.874376    58.702133    60.860672    60.693451  ...   \n",
       "min     158.971770   160.032903   165.524543   183.671312   186.342961  ...   \n",
       "25%     271.219564   268.889864   275.709318   293.757163   292.834810  ...   \n",
       "50%     321.106932   323.063311   329.708327   346.763388   345.883918  ...   \n",
       "75%     366.145476   370.147353   378.509126   399.600853   398.728281  ...   \n",
       "max     426.173970   427.486894   429.693146   455.566337   453.910406  ...   \n",
       "\n",
       "        ulwrf_t2_1   ulwrf_t3_1   ulwrf_t4_1   ulwrf_t5_1   uswrf_s1_1  \\\n",
       "count  4380.000000  4380.000000  4380.000000  4380.000000  4380.000000   \n",
       "mean    247.300145   251.597699   261.916025   260.870143     0.076235   \n",
       "std      36.804219    36.382653    39.190955    38.734023     0.255491   \n",
       "min     113.559602   118.679132   119.393449   121.951425     0.000000   \n",
       "25%     230.482578   233.976283   245.721419   243.850282     0.000000   \n",
       "50%     253.309217   257.270334   270.790095   269.300432     0.000000   \n",
       "75%     274.861445   278.800420   290.139446   289.699652     0.000000   \n",
       "max     311.991660   315.569164   328.920274   327.253141     1.000000   \n",
       "\n",
       "        uswrf_s2_1   uswrf_s3_1   uswrf_s4_1   uswrf_s5_1        salida  \n",
       "count  4380.000000  4380.000000  4380.000000  4380.000000  4.380000e+03  \n",
       "mean     38.585222    76.064674   126.504047    99.087049  1.629826e+07  \n",
       "std      25.984861    30.784078    40.571154    35.454368  7.965298e+06  \n",
       "min       0.000000     3.181818     4.363636     2.545455  5.100000e+05  \n",
       "25%      14.000000    53.431818   108.454545    74.795455  1.062375e+07  \n",
       "50%      35.363636    79.272727   135.909091   104.818182  1.635690e+07  \n",
       "75%      61.818182   102.727273   155.204545   129.545455  2.312775e+07  \n",
       "max      92.272727   192.636364   450.636364   313.909091  3.122700e+07  \n",
       "\n",
       "[8 rows x 76 columns]"
      ]
     },
     "execution_count": 81,
     "metadata": {},
     "output_type": "execute_result"
    }
   ],
   "source": [
    "disp_df_eda.describe()"
   ]
  },
  {
   "attachments": {},
   "cell_type": "markdown",
   "id": "94a08406",
   "metadata": {},
   "source": [
    "Tomamos una muestra de las 15 variables en el primer momento del día siguiente para ver como se distribuyen los datos"
   ]
  },
  {
   "cell_type": "code",
   "execution_count": 82,
   "id": "c4000384",
   "metadata": {},
   "outputs": [],
   "source": [
    "for field in disp_df_eda:\n",
    "    if field[-3] != \"i\" and int(field[-3]) != 1:\n",
    "        disp_df_eda.drop(field, axis=1, inplace=True)"
   ]
  },
  {
   "attachments": {},
   "cell_type": "markdown",
   "id": "7fb8b0b5",
   "metadata": {},
   "source": [
    "Correlación entre variables"
   ]
  },
  {
   "cell_type": "code",
   "execution_count": 83,
   "id": "8a375f20",
   "metadata": {},
   "outputs": [
    {
     "data": {
      "text/plain": [
       "<Axes: >"
      ]
     },
     "execution_count": 83,
     "metadata": {},
     "output_type": "execute_result"
    },
    {
     "data": {
      "image/png": "[encoded data removed]",
      "text/plain": [
       "<Figure size 640x480 with 2 Axes>"
      ]
     },
     "metadata": {},
     "output_type": "display_data"
    }
   ],
   "source": [
    "corr = disp_df_eda.corr()\n",
    "lower_tri = corr.where(np.tril(np.ones(corr.shape),k=-1).astype(bool)) \n",
    "sns.heatmap(lower_tri, xticklabels=corr.columns, yticklabels=corr.columns, cmap= \"tab10\")"
   ]
  },
  {
   "attachments": {},
   "cell_type": "markdown",
   "id": "b487d6ee",
   "metadata": {},
   "source": [
    "Podemos observar que las variables que mayor correlacción positiva presentan son aquellas correspondientes a la temperatura (tmax_2m1,...,tmp_sfc1) con la variable de ulwrf_t1.\n",
    "corr negativa (pres_ms1 -> dlwrf_s1); (spfh_2m1 -> pres_ms1); (tmax_2m1-ulwrf_s1 -> pres_ms1); (ulwrf_t1 -> tcdc_ea1-tcolc_e1)"
   ]
  },
  {
   "cell_type": "code",
   "execution_count": 84,
   "id": "671d1c08",
   "metadata": {},
   "outputs": [
    {
     "name": "stdout",
     "output_type": "stream",
     "text": [
      "7 ['tcolc_e1_1', 'tcolc_e2_1', 'tcolc_e3_1', 'tcolc_e4_1', 'tcolc_e5_1', 'tmax_2m5_1', 'tmin_2m3_1']\n",
      "7 [35, 36, 37, 38, 39, 44, 47]\n"
     ]
    },
    {
     "data": {
      "text/plain": [
       "<Axes: >"
      ]
     },
     "execution_count": 84,
     "metadata": {},
     "output_type": "execute_result"
    },
    {
     "data": {
      "image/png": "[encoded data removed]",
      "text/plain": [
       "<Figure size 640x480 with 2 Axes>"
      ]
     },
     "metadata": {},
     "output_type": "display_data"
    }
   ],
   "source": [
    "disp_df_corr = disp_df.copy()\n",
    "corr = disp_df_corr.corr()\n",
    "lower_tri = corr.where(np.tril(np.ones(corr.shape),k=-1).astype(bool)) \n",
    "to_drop = []\n",
    "to_drop_num = []\n",
    "\n",
    "for field in lower_tri:\n",
    "    for index, row in lower_tri.iterrows():\n",
    "        if row[field] > 0.9995 or row[field] < -0.9995:\n",
    "            if index not in to_drop:\n",
    "                to_drop.append(index)\n",
    "                #insert the numeric index of the column to drop\n",
    "                to_drop_num.append(disp_df.columns.get_loc(index))\n",
    "                disp_df_corr.drop(index, axis=1, inplace=True)\n",
    "print(len(to_drop),to_drop)\n",
    "print(len(to_drop_num),to_drop_num)\n",
    "\n",
    "sns.heatmap(disp_df_corr.corr(), xticklabels=disp_df_corr.columns, yticklabels=disp_df_corr.columns, cmap= \"tab10\")\n",
    "\n"
   ]
  },
  {
   "attachments": {},
   "cell_type": "markdown",
   "id": "f37a719a",
   "metadata": {},
   "source": [
    "Detección de valores atípicos"
   ]
  },
  {
   "cell_type": "code",
   "execution_count": 85,
   "id": "8a43f6eb",
   "metadata": {},
   "outputs": [
    {
     "data": {
      "text/plain": [
       "<Axes: >"
      ]
     },
     "execution_count": 85,
     "metadata": {},
     "output_type": "execute_result"
    },
    {
     "data": {
      "image/png": "[encoded data removed]",
      "text/plain": [
       "<Figure size 1500x500 with 1 Axes>"
      ]
     },
     "metadata": {},
     "output_type": "display_data"
    }
   ],
   "source": [
    "disp_df_wo_outliers = disp_df_eda.copy()\n",
    "        \n",
    "disp_df_std = disp_df_wo_outliers.std()\n",
    "disp_df_mean = disp_df_wo_outliers.mean()\n",
    "anomaly_cut_off = disp_df_std * 2\n",
    "lower_limit  = disp_df_mean - anomaly_cut_off\n",
    "upper_limit = disp_df_mean + anomaly_cut_off\n",
    "\n",
    "for index, row in disp_df_wo_outliers.iterrows():\n",
    "    if row.iloc[0] < lower_limit.iloc[0] or row.iloc[0] > upper_limit.iloc[0]:\n",
    "        disp_df_wo_outliers.drop(index, inplace=True)\n",
    "\n",
    "disp_df_wo_outliers.plot(kind='line', figsize=(15, 5))\n"
   ]
  },
  {
   "attachments": {},
   "cell_type": "markdown",
   "id": "847d0167",
   "metadata": {},
   "source": [
    "# Preparación de datos\n"
   ]
  },
  {
   "cell_type": "markdown",
   "id": "f405b090",
   "metadata": {},
   "source": [
    "## Train, test y validación"
   ]
  },
  {
   "attachments": {},
   "cell_type": "markdown",
   "id": "76699ff9",
   "metadata": {},
   "source": [
    "Dividimos los datos en los conjuntos de train y test. A su vez dividimos el conjunto de train para preparar las comparaciones entre los diferentes modelos."
   ]
  },
  {
   "cell_type": "code",
   "execution_count": 86,
   "id": "101d41d5",
   "metadata": {},
   "outputs": [],
   "source": [
    "#preparación del predefined split\n",
    "\n",
    "train = disp_df.iloc[:10*365]\n",
    "test = disp_df.iloc[10*365:]\n",
    "\n",
    "N_train_train = 365*8\n",
    "N_train_val = 365*2\n",
    "\n",
    "train_fold = [-1]*N_train_train + [0]*N_train_val\n",
    "\n",
    "split_index = PredefinedSplit(test_fold=train_fold)\n",
    "#train_split = cv.split(disp_df)\n",
    "\n",
    "# for train, validation in train_split:\n",
    "#     split = (train,validation)\n",
    "#     train_train_split = train\n",
    "#     train_validation_split = validation\n"
   ]
  },
  {
   "cell_type": "code",
   "execution_count": 87,
   "id": "23fb0c87",
   "metadata": {},
   "outputs": [],
   "source": [
    "X_disp = disp_df.iloc[:, :75]\n",
    "Y_disp = disp_df.iloc[:, 75]\n",
    "\n",
    "train = disp_df.iloc[:10*365]\n",
    "test = disp_df.iloc[10*365:]\n",
    "\n",
    "X_train = train.iloc[:, :75]\n",
    "Y_train = train.iloc[:, 75]\n",
    "\n",
    "X_test = test.iloc[:, :75]\n",
    "Y_test = test.iloc[:, 75]\n",
    "\n",
    "train_train = train.iloc[:8*365]\n",
    "train_validation = train.iloc[8*365:]\n",
    "\n",
    "#separamos la variable objetivo en los sets de entrenamiento y validación\n",
    "X_train_train = train_train.iloc[:, :75]\n",
    "Y_train_train = train_train.iloc[:, 75]\n",
    "X_train_validation = train_validation.iloc[:, :75]\n",
    "Y_train_validation = train_validation.iloc[:, 75]\n"
   ]
  },
  {
   "attachments": {},
   "cell_type": "markdown",
   "id": "1db2d25f",
   "metadata": {},
   "source": [
    "## Datos comunes"
   ]
  },
  {
   "attachments": {},
   "cell_type": "markdown",
   "id": "eedba24a",
   "metadata": {},
   "source": [
    "### Normalización"
   ]
  },
  {
   "cell_type": "code",
   "execution_count": 88,
   "id": "2f3e2aa3",
   "metadata": {},
   "outputs": [],
   "source": [
    "scaler_x = StandardScaler()\n",
    "X_train_norm = scaler_x.fit_transform(X_train)\n",
    "X_test_norm = scaler_x.transform(X_test)\n",
    "\n",
    "scaler_y = StandardScaler()\n",
    "Y_train_norm = scaler_y.fit_transform(Y_train.values.reshape(-1, 1)).ravel()\n",
    "Y_test_norm = scaler_y.transform(Y_test.values.reshape(-1, 1)).ravel()\n"
   ]
  },
  {
   "cell_type": "code",
   "execution_count": 89,
   "id": "9bf6cc84",
   "metadata": {},
   "outputs": [],
   "source": [
    "scaler_x = StandardScaler()\n",
    "X_train_train_norm = scaler_x.fit_transform(X_train_train)\n",
    "X_train_validation_norm = scaler_x.transform(X_train_validation)\n",
    "\n",
    "scaler_y = StandardScaler()\n",
    "Y_train_train_norm = scaler_y.fit_transform(Y_train_train.values.reshape(-1, 1)).ravel()\n",
    "Y_train_validation_norm = scaler_y.transform(Y_train_validation.values.reshape(-1, 1)).ravel()"
   ]
  },
  {
   "attachments": {},
   "cell_type": "markdown",
   "id": "a051baa0",
   "metadata": {},
   "source": [
    "# Baseline"
   ]
  },
  {
   "attachments": {},
   "cell_type": "markdown",
   "id": "239cfc6c",
   "metadata": {},
   "source": [
    "## Creación de un modelo dummy"
   ]
  },
  {
   "cell_type": "code",
   "execution_count": 90,
   "id": "d9cc12b7",
   "metadata": {},
   "outputs": [
    {
     "name": "stdout",
     "output_type": "stream",
     "text": [
      "dummy MAE:  6720947.2602739725\n",
      "dummy RMSE:  7809144.902737563\n",
      "dummy score:  -0.003940687559321532\n"
     ]
    }
   ],
   "source": [
    "dummy = DummyRegressor(strategy=\"median\")\n",
    "dummy.fit(X_train_train, Y_train_train)\n",
    "dummy_pred = dummy.predict(X_train_validation)\n",
    "\n",
    "dummy_mae = mean_absolute_error(Y_train_validation, dummy_pred)\n",
    "print(\"dummy MAE: \", dummy_mae)\n",
    "\n",
    "dummy_rmse = np.sqrt(mean_squared_error(Y_train_validation,dummy_pred))\n",
    "print(\"dummy RMSE: \", dummy_rmse)\n",
    "\n",
    "dummy_score = dummy.score(X_train_validation, Y_train_validation)\n",
    "print(\"dummy score: \", dummy_score)"
   ]
  },
  {
   "attachments": {},
   "cell_type": "markdown",
   "id": "cc0b53bc",
   "metadata": {},
   "source": [
    "## Métodos Básicos"
   ]
  },
  {
   "cell_type": "markdown",
   "id": "7a961076",
   "metadata": {},
   "source": [
    "### KNeighborsRegressor "
   ]
  },
  {
   "cell_type": "code",
   "execution_count": 91,
   "id": "594a3460",
   "metadata": {},
   "outputs": [
    {
     "name": "stdout",
     "output_type": "stream",
     "text": [
      "MAE:  2536714.7671232875\n",
      "RMSE:  3675153.3534838464\n",
      "Puntuación:  0.777642376391267\n",
      "Tiempo de ejecución:  0.7301640510559082\n"
     ]
    }
   ],
   "source": [
    "start = time.time()\n",
    "\n",
    "KNN_reg = KNeighborsRegressor()\n",
    "\n",
    "KNN_reg.fit(X_train_train_norm, Y_train_train_norm)\n",
    "KNN_reg_pred_norm = KNN_reg.predict(X_train_validation_norm)\n",
    "KNN_reg_pred = scaler_y.inverse_transform(KNN_reg_pred_norm.reshape(-1, 1)).ravel()\n",
    "\n",
    "end = time.time()\n",
    "\n",
    "# Métricas\n",
    "KNN_reg_mae = mean_absolute_error(Y_train_validation, KNN_reg_pred)\n",
    "print(\"MAE: \", KNN_reg_mae)\n",
    "\n",
    "KNN_reg_rmse = np.sqrt(mean_squared_error(Y_train_validation, KNN_reg_pred))\n",
    "print(\"RMSE: \", KNN_reg_rmse)\n",
    "\n",
    "\n",
    "print(\"Puntuación: \", KNN_reg.score(X_train_validation_norm, Y_train_validation_norm))\n",
    "print(\"Tiempo de ejecución: \", end - start)"
   ]
  },
  {
   "attachments": {},
   "cell_type": "markdown",
   "id": "5107a42e",
   "metadata": {},
   "source": [
    "### Árbol de regresión"
   ]
  },
  {
   "cell_type": "code",
   "execution_count": 92,
   "id": "856cf6c8",
   "metadata": {},
   "outputs": [
    {
     "name": "stdout",
     "output_type": "stream",
     "text": [
      "MAE:  3344148.493150685\n",
      "RMSE:  4829894.676721137\n",
      "Puntuación:  0.6159600420419615\n",
      "Tiempo de ejecución:  0.6502273082733154\n"
     ]
    }
   ],
   "source": [
    "start = time.time()\n",
    "\n",
    "tree_reg = DecisionTreeRegressor(random_state=2)\n",
    "tree_reg.fit(X_train_train, Y_train_train)\n",
    "tree_reg_pred = tree_reg.predict(X_train_validation)\n",
    "\n",
    "end = time.time()\n",
    "\n",
    "tree_reg_mae = mean_absolute_error(Y_train_validation, tree_reg_pred)\n",
    "print(\"MAE: \", tree_reg_mae)\n",
    "\n",
    "tree_reg_rmse = np.sqrt(mean_squared_error(Y_train_validation, tree_reg_pred))\n",
    "print(\"RMSE: \", tree_reg_rmse)\n",
    "\n",
    "print(\"Puntuación: \", tree_reg.score(X_train_validation, Y_train_validation))\n",
    "print(\"Tiempo de ejecución: \", end - start)\n"
   ]
  },
  {
   "attachments": {},
   "cell_type": "markdown",
   "id": "bca4e092",
   "metadata": {},
   "source": [
    "### Regresión lineal"
   ]
  },
  {
   "cell_type": "code",
   "execution_count": 93,
   "id": "43a6a568",
   "metadata": {},
   "outputs": [
    {
     "name": "stdout",
     "output_type": "stream",
     "text": [
      "MAE:  2265683.8029644764\n",
      "RMSE:  3268115.476041282\n",
      "Puntuación:  0.8241688243985801\n",
      "Tiempo de ejecución:  0.08202576637268066\n"
     ]
    }
   ],
   "source": [
    "start = time.time()\n",
    "\n",
    "li_reg = LinearRegression()\n",
    "li_reg.fit(X_train_train, Y_train_train)\n",
    "li_reg_pred = li_reg.predict(X_train_validation)\n",
    "\n",
    "end = time.time()\n",
    "\n",
    "li_reg_mae = mean_absolute_error(Y_train_validation, li_reg_pred)\n",
    "print(\"MAE: \", li_reg_mae)\n",
    "\n",
    "li_reg_rmse = np.sqrt(mean_squared_error(Y_train_validation, li_reg_pred))\n",
    "print(\"RMSE: \", li_reg_rmse)\n",
    "\n",
    "print(\"Puntuación: \", li_reg.score(X_train_validation, Y_train_validation))\n",
    "print(\"Tiempo de ejecución: \", end - start)\n"
   ]
  },
  {
   "attachments": {},
   "cell_type": "markdown",
   "id": "cd3a4b85",
   "metadata": {},
   "source": [
    "## Métodos Avanzados"
   ]
  },
  {
   "attachments": {},
   "cell_type": "markdown",
   "id": "50789227",
   "metadata": {},
   "source": [
    "### SVM"
   ]
  },
  {
   "cell_type": "code",
   "execution_count": 94,
   "id": "fb16fca6",
   "metadata": {},
   "outputs": [
    {
     "name": "stdout",
     "output_type": "stream",
     "text": [
      "MAE:  2224652.794901519\n",
      "RMSE:  3353514.5586067806\n",
      "Puntuación:  0.8148594775863227\n",
      "Tiempo de ejecución:  3.9287467002868652\n"
     ]
    }
   ],
   "source": [
    "start = time.time()\n",
    "\n",
    "svm = SVR()\n",
    "\n",
    "svm.fit(X_train_train_norm, Y_train_train_norm)\n",
    "y_pred_norm = svm.predict(X_train_validation_norm)\n",
    "y_pred = scaler_y.inverse_transform(y_pred_norm.reshape(-1, 1)).ravel()\n",
    "\n",
    "end = time.time()\n",
    "\n",
    "svm_mae = mean_absolute_error(Y_train_validation, y_pred)\n",
    "print(\"MAE: \", svm_mae)\n",
    "\n",
    "svm_rmse = np.sqrt(mean_squared_error(Y_train_validation, y_pred))\n",
    "print(\"RMSE: \", svm_rmse)\n",
    "\n",
    "print(\"Puntuación: \", svm.score(X_train_validation_norm, Y_train_validation_norm))\n",
    "print(\"Tiempo de ejecución: \", end - start)\n"
   ]
  },
  {
   "attachments": {},
   "cell_type": "markdown",
   "id": "d8f3d0ff",
   "metadata": {},
   "source": [
    "### Random Forest"
   ]
  },
  {
   "cell_type": "code",
   "execution_count": 95,
   "id": "d3b0cb9e",
   "metadata": {},
   "outputs": [
    {
     "name": "stdout",
     "output_type": "stream",
     "text": [
      "MAE:  2278659.197260274\n",
      "RMSE:  3341026.470443267\n",
      "Puntuación:  0.8162357926282553\n",
      "Tiempo de ejecución:  44.25826406478882\n"
     ]
    }
   ],
   "source": [
    "start = time.time()\n",
    "\n",
    "rfr = RandomForestRegressor(random_state=2)\n",
    "rfr.fit(X_train_train, Y_train_train)\n",
    "rfr_pred = rfr.predict(X_train_validation)\n",
    "\n",
    "end = time.time()\n",
    "\n",
    "rfr_mae = mean_absolute_error(Y_train_validation, rfr_pred)\n",
    "print(\"MAE: \", rfr_mae)\n",
    "\n",
    "rfr_rmse = np.sqrt(mean_squared_error(Y_train_validation, rfr_pred))\n",
    "print(\"RMSE: \", rfr_rmse)\n",
    "\n",
    "print(\"Puntuación: \", rfr.score(X_train_validation, Y_train_validation))\n",
    "print(\"Tiempo de ejecución: \", end - start)\n"
   ]
  },
  {
   "attachments": {},
   "cell_type": "markdown",
   "id": "1d40578d",
   "metadata": {},
   "source": [
    "# Ajuste de hiperparámetros por búsqueda en cuadrícula"
   ]
  },
  {
   "attachments": {},
   "cell_type": "markdown",
   "id": "6771ca8a",
   "metadata": {},
   "source": [
    "## Métodos básicos"
   ]
  },
  {
   "attachments": {},
   "cell_type": "markdown",
   "id": "3c114008",
   "metadata": {},
   "source": [
    "### KNeighborsRegressor"
   ]
  },
  {
   "cell_type": "code",
   "execution_count": 96,
   "id": "21023430",
   "metadata": {},
   "outputs": [
    {
     "name": "stdout",
     "output_type": "stream",
     "text": [
      "Fitting 1 folds for each of 152 candidates, totalling 152 fits\n",
      "Tiempo de ejecución:  97.05150485038757\n",
      "Mejor modelo:  KNeighborsRegressor(n_neighbors=19, p=1, weights='distance')\n"
     ]
    }
   ],
   "source": [
    "start = time.time()\n",
    "\n",
    "param_grid = {\n",
    "    'n_neighbors': np.arange(1, 20), \n",
    "    'weights': ['uniform', 'distance'], \n",
    "    'p': [1, 2, 3, 4]\n",
    "    }\n",
    "\n",
    "grid = GridSearchCV(\n",
    "    estimator=KNeighborsRegressor(),\n",
    "    param_grid=param_grid,\n",
    "    scoring=['neg_mean_absolute_error', 'neg_mean_squared_error'], \n",
    "    refit='neg_mean_squared_error',\n",
    "    cv=split_index,\n",
    "    verbose=3,\n",
    "    n_jobs=-1)\n",
    "\n",
    "grid.fit(X_train_norm, Y_train_norm)\n",
    "\n",
    "end = time.time()\n",
    "\n",
    "knn_best_params = grid.best_params_\n",
    "\n",
    "print(\"Tiempo de ejecución: \", end - start)\n",
    "print(\"Mejor modelo: \", grid.best_estimator_)\n"
   ]
  },
  {
   "attachments": {},
   "cell_type": "markdown",
   "id": "59ff4cd3",
   "metadata": {},
   "source": [
    "Evaluación del modelo"
   ]
  },
  {
   "cell_type": "code",
   "execution_count": 97,
   "id": "2e353549",
   "metadata": {},
   "outputs": [
    {
     "name": "stdout",
     "output_type": "stream",
     "text": [
      "MAE:  2387481.5550863626\n",
      "RMSE:  3461006.5864845184\n",
      "Puntuación:  0.8028004387936578\n"
     ]
    }
   ],
   "source": [
    "# Entrenar modelo\n",
    "mejor_modelo = KNeighborsRegressor(**grid.best_params_)\n",
    "mejor_modelo.fit(X_train_train_norm, Y_train_train_norm)\n",
    "\n",
    "y_pred = mejor_modelo.predict(X_train_validation_norm)\n",
    "y_pred = scaler_y.inverse_transform(y_pred.reshape(-1, 1)).ravel()\n",
    "\n",
    "\n",
    "# Evaluacion\n",
    "mejor_modelo_mae = mean_absolute_error(Y_train_validation, y_pred)\n",
    "print(\"MAE: \", mejor_modelo_mae)\n",
    "mejor_modelo_rmse = np.sqrt(mean_squared_error(Y_train_validation, y_pred))\n",
    "print(\"RMSE: \", mejor_modelo_rmse)\n",
    "print(\"Puntuación: \", mejor_modelo.score(X_train_validation_norm, Y_train_validation_norm))"
   ]
  },
  {
   "attachments": {},
   "cell_type": "markdown",
   "id": "4a5fc82f",
   "metadata": {},
   "source": [
    "### Árboles de regresión"
   ]
  },
  {
   "cell_type": "code",
   "execution_count": 98,
   "id": "7acdde6d",
   "metadata": {},
   "outputs": [
    {
     "name": "stdout",
     "output_type": "stream",
     "text": [
      "Fitting 1 folds for each of 49 candidates, totalling 49 fits\n",
      "[CV 1/1] END max_depth=2, min_samples_split=2; neg_mean_absolute_error: (test=-3244362.219) neg_mean_squared_error: (test=-18202665743970.688) total time=   0.0s\n",
      "[CV 1/1] END max_depth=2, min_samples_split=4; neg_mean_absolute_error: (test=-3244362.219) neg_mean_squared_error: (test=-18202665743970.688) total time=   0.0s\n",
      "[CV 1/1] END max_depth=2, min_samples_split=6; neg_mean_absolute_error: (test=-3244362.219) neg_mean_squared_error: (test=-18202665743970.688) total time=   0.0s\n",
      "[CV 1/1] END max_depth=2, min_samples_split=8; neg_mean_absolute_error: (test=-3244362.219) neg_mean_squared_error: (test=-18202665743970.688) total time=   0.0s\n",
      "[CV 1/1] END max_depth=2, min_samples_split=10; neg_mean_absolute_error: (test=-3244362.219) neg_mean_squared_error: (test=-18202665743970.688) total time=   0.0s\n",
      "[CV 1/1] END max_depth=2, min_samples_split=12; neg_mean_absolute_error: (test=-3244362.219) neg_mean_squared_error: (test=-18202665743970.688) total time=   0.0s\n",
      "[CV 1/1] END max_depth=2, min_samples_split=14; neg_mean_absolute_error: (test=-3244362.219) neg_mean_squared_error: (test=-18202665743970.688) total time=   0.0s\n",
      "[CV 1/1] END max_depth=4, min_samples_split=2; neg_mean_absolute_error: (test=-2632126.200) neg_mean_squared_error: (test=-13985953910890.971) total time=   0.1s\n",
      "[CV 1/1] END max_depth=4, min_samples_split=4; neg_mean_absolute_error: (test=-2632126.200) neg_mean_squared_error: (test=-13985953910890.971) total time=   0.1s\n",
      "[CV 1/1] END max_depth=4, min_samples_split=6; neg_mean_absolute_error: (test=-2632126.200) neg_mean_squared_error: (test=-13985953910890.971) total time=   0.1s\n",
      "[CV 1/1] END max_depth=4, min_samples_split=8; neg_mean_absolute_error: (test=-2632126.200) neg_mean_squared_error: (test=-13985953910890.971) total time=   0.1s\n",
      "[CV 1/1] END max_depth=4, min_samples_split=10; neg_mean_absolute_error: (test=-2632126.200) neg_mean_squared_error: (test=-13985953910890.971) total time=   0.1s\n",
      "[CV 1/1] END max_depth=4, min_samples_split=12; neg_mean_absolute_error: (test=-2632126.200) neg_mean_squared_error: (test=-13985953910890.971) total time=   0.1s\n",
      "[CV 1/1] END max_depth=4, min_samples_split=14; neg_mean_absolute_error: (test=-2632126.200) neg_mean_squared_error: (test=-13985953910890.971) total time=   0.0s\n",
      "[CV 1/1] END max_depth=6, min_samples_split=2; neg_mean_absolute_error: (test=-2700177.685) neg_mean_squared_error: (test=-15046097366189.768) total time=   0.1s\n",
      "[CV 1/1] END max_depth=6, min_samples_split=4; neg_mean_absolute_error: (test=-2706130.041) neg_mean_squared_error: (test=-15092353094683.740) total time=   0.0s\n",
      "[CV 1/1] END max_depth=6, min_samples_split=6; neg_mean_absolute_error: (test=-2706130.041) neg_mean_squared_error: (test=-15092353094683.740) total time=   0.0s\n",
      "[CV 1/1] END max_depth=6, min_samples_split=8; neg_mean_absolute_error: (test=-2710580.794) neg_mean_squared_error: (test=-15165015538750.521) total time=   0.0s\n",
      "[CV 1/1] END max_depth=6, min_samples_split=10; neg_mean_absolute_error: (test=-2704865.154) neg_mean_squared_error: (test=-15051681184645.479) total time=   0.0s\n",
      "[CV 1/1] END max_depth=6, min_samples_split=12; neg_mean_absolute_error: (test=-2702878.392) neg_mean_squared_error: (test=-14998198225593.002) total time=   0.0s\n",
      "[CV 1/1] END max_depth=6, min_samples_split=14; neg_mean_absolute_error: (test=-2690546.342) neg_mean_squared_error: (test=-14726767340253.416) total time=   0.0s\n",
      "[CV 1/1] END max_depth=8, min_samples_split=2; neg_mean_absolute_error: (test=-2951669.794) neg_mean_squared_error: (test=-18623470022719.164) total time=   0.1s\n",
      "[CV 1/1] END max_depth=8, min_samples_split=4; neg_mean_absolute_error: (test=-2958178.759) neg_mean_squared_error: (test=-18757521852837.664) total time=   0.1s\n",
      "[CV 1/1] END max_depth=8, min_samples_split=6; neg_mean_absolute_error: (test=-2938578.800) neg_mean_squared_error: (test=-18263613014435.812) total time=   0.1s\n",
      "[CV 1/1] END max_depth=8, min_samples_split=8; neg_mean_absolute_error: (test=-2899931.104) neg_mean_squared_error: (test=-17505062430500.367) total time=   0.1s\n",
      "[CV 1/1] END max_depth=8, min_samples_split=10; neg_mean_absolute_error: (test=-2914228.182) neg_mean_squared_error: (test=-17827827906302.887) total time=   0.1s\n",
      "[CV 1/1] END max_depth=8, min_samples_split=12; neg_mean_absolute_error: (test=-2890199.186) neg_mean_squared_error: (test=-17434193845264.400) total time=   0.1s\n",
      "[CV 1/1] END max_depth=8, min_samples_split=14; neg_mean_absolute_error: (test=-2858970.788) neg_mean_squared_error: (test=-16699435615881.502) total time=   0.1s\n",
      "[CV 1/1] END max_depth=10, min_samples_split=2; neg_mean_absolute_error: (test=-3091879.952) neg_mean_squared_error: (test=-20458391358618.074) total time=   0.1s\n",
      "[CV 1/1] END max_depth=10, min_samples_split=4; neg_mean_absolute_error: (test=-3085127.999) neg_mean_squared_error: (test=-20113179278310.367) total time=   0.1s\n",
      "[CV 1/1] END max_depth=10, min_samples_split=6; neg_mean_absolute_error: (test=-3141249.478) neg_mean_squared_error: (test=-21344787577858.371) total time=   0.1s\n",
      "[CV 1/1] END max_depth=10, min_samples_split=8; neg_mean_absolute_error: (test=-3078235.156) neg_mean_squared_error: (test=-20166213804837.719) total time=   0.1s\n",
      "[CV 1/1] END max_depth=10, min_samples_split=10; neg_mean_absolute_error: (test=-3059980.685) neg_mean_squared_error: (test=-19746004393871.477) total time=   0.1s\n",
      "[CV 1/1] END max_depth=10, min_samples_split=12; neg_mean_absolute_error: (test=-3010804.992) neg_mean_squared_error: (test=-19240099221648.461) total time=   0.1s\n",
      "[CV 1/1] END max_depth=10, min_samples_split=14; neg_mean_absolute_error: (test=-2974349.210) neg_mean_squared_error: (test=-18490554430094.188) total time=   0.1s\n",
      "[CV 1/1] END max_depth=12, min_samples_split=2; neg_mean_absolute_error: (test=-3279821.281) neg_mean_squared_error: (test=-22746388931179.773) total time=   0.2s\n",
      "[CV 1/1] END max_depth=12, min_samples_split=4; neg_mean_absolute_error: (test=-3280860.955) neg_mean_squared_error: (test=-22878569988969.277) total time=   0.1s\n",
      "[CV 1/1] END max_depth=12, min_samples_split=6; neg_mean_absolute_error: (test=-3235688.145) neg_mean_squared_error: (test=-22133117924931.512) total time=   0.1s\n",
      "[CV 1/1] END max_depth=12, min_samples_split=8; neg_mean_absolute_error: (test=-3229617.636) neg_mean_squared_error: (test=-21818040145775.586) total time=   0.1s\n",
      "[CV 1/1] END max_depth=12, min_samples_split=10; neg_mean_absolute_error: (test=-3125558.385) neg_mean_squared_error: (test=-20075214099126.016) total time=   0.1s\n",
      "[CV 1/1] END max_depth=12, min_samples_split=12; neg_mean_absolute_error: (test=-3106716.551) neg_mean_squared_error: (test=-19915347262798.547) total time=   0.1s\n",
      "[CV 1/1] END max_depth=12, min_samples_split=14; neg_mean_absolute_error: (test=-3146480.877) neg_mean_squared_error: (test=-20421407306854.371) total time=   0.1s\n",
      "[CV 1/1] END max_depth=14, min_samples_split=2; neg_mean_absolute_error: (test=-3326930.642) neg_mean_squared_error: (test=-23876417032607.621) total time=   0.2s\n",
      "[CV 1/1] END max_depth=14, min_samples_split=4; neg_mean_absolute_error: (test=-3318941.807) neg_mean_squared_error: (test=-23169547883173.188) total time=   0.2s\n",
      "[CV 1/1] END max_depth=14, min_samples_split=6; neg_mean_absolute_error: (test=-3297880.931) neg_mean_squared_error: (test=-22878285564515.332) total time=   0.2s\n",
      "[CV 1/1] END max_depth=14, min_samples_split=8; neg_mean_absolute_error: (test=-3271920.853) neg_mean_squared_error: (test=-22043738195090.996) total time=   0.2s\n",
      "[CV 1/1] END max_depth=14, min_samples_split=10; neg_mean_absolute_error: (test=-3265179.469) neg_mean_squared_error: (test=-21802254609684.270) total time=   0.2s\n",
      "[CV 1/1] END max_depth=14, min_samples_split=12; neg_mean_absolute_error: (test=-3179812.089) neg_mean_squared_error: (test=-20745149203353.047) total time=   0.1s\n",
      "[CV 1/1] END max_depth=14, min_samples_split=14; neg_mean_absolute_error: (test=-3152735.225) neg_mean_squared_error: (test=-20395465932253.141) total time=   0.1s\n",
      "Tiempo de ejecución:  9.337000370025635\n",
      "Mejor modelo:  DecisionTreeRegressor(max_depth=4, random_state=2)\n"
     ]
    }
   ],
   "source": [
    "start = time.time()\n",
    "\n",
    "param_grid = {\n",
    "    'max_depth': range(2, 16, 2),\n",
    "    'min_samples_split': range(2, 16, 2)\n",
    "}\n",
    "\n",
    "grid = GridSearchCV(estimator=DecisionTreeRegressor(random_state=2),\n",
    "                    param_grid=param_grid,\n",
    "                    scoring=['neg_mean_absolute_error', 'neg_mean_squared_error'], \n",
    "                    refit='neg_mean_squared_error',\n",
    "                    cv=split_index, \n",
    "                    n_jobs=1,\n",
    "                    verbose=3)\n",
    "\n",
    "grid.fit(X_train, Y_train)\n",
    "\n",
    "end = time.time()\n",
    "\n",
    "tree_reg_best_params = grid.best_params_\n",
    "\n",
    "\n",
    "print(\"Tiempo de ejecución: \", end - start)\n",
    "print(\"Mejor modelo: \", grid.best_estimator_)"
   ]
  },
  {
   "attachments": {},
   "cell_type": "markdown",
   "id": "ebe1f611",
   "metadata": {},
   "source": [
    "Evaluación del modelo"
   ]
  },
  {
   "cell_type": "code",
   "execution_count": 99,
   "id": "5d76d90f",
   "metadata": {},
   "outputs": [
    {
     "name": "stdout",
     "output_type": "stream",
     "text": [
      "MAE:  2632126.199774195\n",
      "RMSE:  3739779.928136276\n",
      "Puntuación:  0.7697534213990718\n"
     ]
    }
   ],
   "source": [
    "# Entrenar modelo\n",
    "mejor_modelo = DecisionTreeRegressor(**grid.best_params_)\n",
    "mejor_modelo.fit(X_train_train, Y_train_train)\n",
    "\n",
    "y_pred = mejor_modelo.predict(X_train_validation)\n",
    "\n",
    "\n",
    "# Evaluacion\n",
    "mejor_modelo_mae = mean_absolute_error(Y_train_validation, y_pred)\n",
    "print(\"MAE: \", mejor_modelo_mae)\n",
    "mejor_modelo_rmse = np.sqrt(mean_squared_error(Y_train_validation, y_pred))\n",
    "print(\"RMSE: \", mejor_modelo_rmse)\n",
    "print(\"Puntuación: \", mejor_modelo.score(X_train_validation, Y_train_validation))"
   ]
  },
  {
   "attachments": {},
   "cell_type": "markdown",
   "id": "b1f5dac0",
   "metadata": {},
   "source": [
    "### Regresión lineal"
   ]
  },
  {
   "cell_type": "code",
   "execution_count": 100,
   "id": "3adf50bd",
   "metadata": {},
   "outputs": [
    {
     "name": "stdout",
     "output_type": "stream",
     "text": [
      "Fitting 1 folds for each of 8 candidates, totalling 8 fits\n",
      "Tiempo de ejecución:  1.2892751693725586\n",
      "Mejor modelo:  LinearRegression()\n"
     ]
    }
   ],
   "source": [
    "start = time.time()\n",
    "\n",
    "param_grid ={\n",
    "    'fit_intercept': [True, False],\n",
    "    'copy_X': [True, False],\n",
    "    'positive': [True, False]\n",
    "    \n",
    "}\n",
    "\n",
    "grid = GridSearchCV(\n",
    "    estimator=LinearRegression(),\n",
    "    param_grid=param_grid,\n",
    "    scoring=['neg_mean_absolute_error', 'neg_mean_squared_error'], \n",
    "    refit='neg_mean_squared_error',\n",
    "    cv=split_index,\n",
    "    n_jobs=-1,\n",
    "    verbose=3)\n",
    "\n",
    "\n",
    "grid.fit(X_train, Y_train)\n",
    "\n",
    "end = time.time()\n",
    "\n",
    "li_reg_best_params = grid.best_params_\n",
    "\n",
    "\n",
    "print(\"Tiempo de ejecución: \", end - start)\n",
    "print(\"Mejor modelo: \", grid.best_estimator_)"
   ]
  },
  {
   "attachments": {},
   "cell_type": "markdown",
   "id": "c5bb0df2",
   "metadata": {},
   "source": [
    "Evaluación del modelo"
   ]
  },
  {
   "cell_type": "code",
   "execution_count": 101,
   "id": "7a39530b",
   "metadata": {},
   "outputs": [
    {
     "name": "stdout",
     "output_type": "stream",
     "text": [
      "MAE:  2265683.8029644764\n",
      "RMSE:  3268115.476041282\n",
      "Puntuación:  0.8241688243985801\n"
     ]
    }
   ],
   "source": [
    "# Entrenar modelo\n",
    "mejor_modelo = LinearRegression(**grid.best_params_)\n",
    "mejor_modelo.fit(X_train_train, Y_train_train)\n",
    "\n",
    "y_pred = mejor_modelo.predict(X_train_validation)\n",
    "\n",
    "\n",
    "# Evaluacion\n",
    "mejor_modelo_mae = mean_absolute_error(Y_train_validation, y_pred)\n",
    "print(\"MAE: \", mejor_modelo_mae)\n",
    "mejor_modelo_rmse = np.sqrt(mean_squared_error(Y_train_validation, y_pred))\n",
    "print(\"RMSE: \", mejor_modelo_rmse)\n",
    "print(\"Puntuación: \", mejor_modelo.score(X_train_validation, Y_train_validation))"
   ]
  },
  {
   "attachments": {},
   "cell_type": "markdown",
   "id": "640394e3",
   "metadata": {},
   "source": [
    "## Métodos avanzados"
   ]
  },
  {
   "cell_type": "markdown",
   "id": "812ddd41",
   "metadata": {},
   "source": [
    "### SVM"
   ]
  },
  {
   "cell_type": "code",
   "execution_count": 102,
   "id": "d93de053",
   "metadata": {},
   "outputs": [
    {
     "name": "stdout",
     "output_type": "stream",
     "text": [
      "Fitting 1 folds for each of 10 candidates, totalling 10 fits\n",
      "Tiempo de ejecución:  46.52617931365967\n",
      "Mejor modelo:  SVR(C=1, gamma='auto')\n"
     ]
    }
   ],
   "source": [
    "start = time.time()\n",
    "\n",
    "param_grid ={\n",
    "    'gamma': ['scale', 'auto'],\n",
    "    'C': [0.1, 1, 10, 100, 1000],\n",
    "}\n",
    "\n",
    "grid = GridSearchCV(\n",
    "    estimator=SVR(),\n",
    "    param_grid=param_grid,\n",
    "    scoring=['neg_mean_squared_error', 'neg_mean_absolute_error'], \n",
    "    refit='neg_mean_squared_error',\n",
    "    cv=split_index,\n",
    "    n_jobs=4,\n",
    "    verbose=3)\n",
    "\n",
    "\n",
    "grid.fit(X_train_norm, Y_train_norm)\n",
    "\n",
    "end = time.time()\n",
    "\n",
    "svm_best_params = grid.best_params_\n",
    "\n",
    "# print(grid.score(X_train_validation, Y_train_validation))\n",
    "print(\"Tiempo de ejecución: \", end - start)\n",
    "print(\"Mejor modelo: \", grid.best_estimator_)\n"
   ]
  },
  {
   "attachments": {},
   "cell_type": "markdown",
   "id": "bd16a54b",
   "metadata": {},
   "source": [
    "Evaluación del modelo"
   ]
  },
  {
   "cell_type": "code",
   "execution_count": 103,
   "id": "33b615d5",
   "metadata": {},
   "outputs": [
    {
     "name": "stdout",
     "output_type": "stream",
     "text": [
      "MAE:  2224652.7949015237\n",
      "RMSE:  3353514.5586067853\n",
      "Puntuación:  0.8148594775863223\n"
     ]
    }
   ],
   "source": [
    "# Entrenar modelo    \n",
    "mejor_modelo = SVR(**svm_best_params) \n",
    "mejor_modelo.fit(X_train_train_norm, Y_train_train_norm)\n",
    "\n",
    "y_pred = mejor_modelo.predict(X_train_validation_norm)\n",
    "y_pred = scaler_y.inverse_transform(y_pred.reshape(-1, 1)).ravel()\n",
    "\n",
    "\n",
    "# Evaluacion\n",
    "svm_mae = mean_absolute_error(Y_train_validation, y_pred)\n",
    "print(\"MAE: \", svm_mae)\n",
    "\n",
    "svm_rmse = np.sqrt(mean_squared_error(Y_train_validation, y_pred))\n",
    "print(\"RMSE: \", svm_rmse)\n",
    "\n",
    "print(\"Puntuación: \", mejor_modelo.score(X_train_validation_norm, Y_train_validation_norm))"
   ]
  },
  {
   "attachments": {},
   "cell_type": "markdown",
   "id": "2d86cf1d",
   "metadata": {},
   "source": [
    "### Random Forest"
   ]
  },
  {
   "cell_type": "code",
   "execution_count": 118,
   "id": "88ff658e",
   "metadata": {},
   "outputs": [
    {
     "name": "stdout",
     "output_type": "stream",
     "text": [
      "Fitting 1 folds for each of 189 candidates, totalling 189 fits\n"
     ]
    },
    {
     "name": "stderr",
     "output_type": "stream",
     "text": [
      "c:\\Python311\\Lib\\site-packages\\joblib\\externals\\loky\\process_executor.py:700: UserWarning: A worker stopped while some jobs were given to the executor. This can be caused by a too short worker timeout or by a memory leak.\n",
      "  warnings.warn(\n"
     ]
    },
    {
     "name": "stdout",
     "output_type": "stream",
     "text": [
      "Tiempo de ejecución:  63.27517342567444\n",
      "Mejor modelo:  RandomForestRegressor(max_depth=10, max_features='log2', n_estimators=70,\n",
      "                      random_state=2)\n"
     ]
    }
   ],
   "source": [
    "start = time.time()\n",
    "\n",
    "param_grid ={\n",
    "    'n_estimators': range(10, 100, 10),\n",
    "    'max_depth': range(2, 16, 2),\n",
    "    'max_features': ['sqrt', 'log2', 25],\n",
    "}\n",
    "\n",
    "grid = GridSearchCV(\n",
    "    estimator=RandomForestRegressor(random_state=2),\n",
    "    param_grid=param_grid,\n",
    "    scoring=['neg_mean_absolute_error', 'neg_mean_squared_error'], \n",
    "    refit='neg_mean_squared_error',\n",
    "    cv= split_index,\n",
    "    n_jobs=-1,\n",
    "    verbose=3)\n",
    "\n",
    "grid.fit(X_train, Y_train)\n",
    "\n",
    "end = time.time()\n",
    "\n",
    "rfr_best_params = grid.best_params_\n",
    "\n",
    "\n",
    "print(\"Tiempo de ejecución: \", end - start)\n",
    "print(\"Mejor modelo: \", grid.best_estimator_)"
   ]
  },
  {
   "attachments": {},
   "cell_type": "markdown",
   "id": "85e786a4",
   "metadata": {},
   "source": [
    "Evaluación del modelo"
   ]
  },
  {
   "cell_type": "code",
   "execution_count": 105,
   "id": "5b73bcb1",
   "metadata": {},
   "outputs": [
    {
     "name": "stdout",
     "output_type": "stream",
     "text": [
      "MAE:  2226507.0585989836\n",
      "RMSE:  3256414.9045332507\n",
      "Puntuación:  0.8254255990874224\n"
     ]
    }
   ],
   "source": [
    "# Entrenar modelo\n",
    "mejor_modelo = RandomForestRegressor(**grid.best_params_)\n",
    "mejor_modelo.fit(X_train_train, Y_train_train)\n",
    "\n",
    "y_pred = mejor_modelo.predict(X_train_validation)\n",
    "\n",
    "\n",
    "# Evaluacion\n",
    "mejor_modelo_mae = mean_absolute_error(Y_train_validation, y_pred)\n",
    "print(\"MAE: \", mejor_modelo_mae)\n",
    "mejor_modelo_rmse = np.sqrt(mean_squared_error(Y_train_validation, y_pred))\n",
    "print(\"RMSE: \", mejor_modelo_rmse)\n",
    "print(\"Puntuación: \", mejor_modelo.score(X_train_validation, Y_train_validation))"
   ]
  },
  {
   "attachments": {},
   "cell_type": "markdown",
   "id": "794124fc",
   "metadata": {},
   "source": [
    "# Reducción de dimensionalidad"
   ]
  },
  {
   "attachments": {},
   "cell_type": "markdown",
   "id": "e00a6ee8",
   "metadata": {},
   "source": [
    "Procedemos a reducir la dimensionalidad de los datos para ver si se mejora el score del modelo. "
   ]
  },
  {
   "attachments": {},
   "cell_type": "markdown",
   "id": "9c5c4eb8",
   "metadata": {},
   "source": [
    "## Métodos básicos"
   ]
  },
  {
   "attachments": {},
   "cell_type": "markdown",
   "id": "fcceb708",
   "metadata": {},
   "source": [
    "### KNeighborsRegressor"
   ]
  },
  {
   "cell_type": "code",
   "execution_count": 106,
   "id": "1635d48f",
   "metadata": {},
   "outputs": [
    {
     "name": "stdout",
     "output_type": "stream",
     "text": [
      "Fitting 1 folds for each of 152 candidates, totalling 152 fits\n",
      "Tiempo de ejecución:  100.0997257232666\n",
      "Mejor modelo:  Pipeline(steps=[('Transform',\n",
      "                 ColumnTransformer(remainder='passthrough',\n",
      "                                   transformers=[('Corr_drop', 'drop',\n",
      "                                                  [35, 36, 37, 38, 39, 44,\n",
      "                                                   47])])),\n",
      "                ('KNN',\n",
      "                 KNeighborsRegressor(n_neighbors=14, p=1, weights='distance'))])\n"
     ]
    }
   ],
   "source": [
    "knn_pipe = Pipeline([('Transform', ColumnTransformer(transformers=[('Corr_drop','drop',to_drop_num)],remainder='passthrough')), ('KNN', KNeighborsRegressor())])\n",
    "\n",
    "start = time.time()\n",
    "\n",
    "\n",
    "param_grid = {\n",
    "    'KNN__n_neighbors': np.arange(1, 20), \n",
    "    'KNN__weights': ['uniform', 'distance'], \n",
    "    'KNN__p': [1, 2, 3, 4]\n",
    "    }\n",
    "\n",
    "grid = GridSearchCV(\n",
    "    estimator=knn_pipe,\n",
    "    param_grid=param_grid,\n",
    "    scoring=['neg_mean_absolute_error', 'neg_mean_squared_error'], \n",
    "    refit='neg_mean_squared_error',\n",
    "    cv=split_index,\n",
    "    verbose=3,\n",
    "    n_jobs=-1)\n",
    "\n",
    "np.random.seed(2)\n",
    "grid.fit(X_train_norm, Y_train_norm)\n",
    "\n",
    "end = time.time()\n",
    "\n",
    "knn_best_params_pipe = grid.best_params_\n",
    "\n",
    "print(\"Tiempo de ejecución: \", end - start)\n",
    "print(\"Mejor modelo: \", grid.best_estimator_)\n"
   ]
  },
  {
   "cell_type": "code",
   "execution_count": 107,
   "id": "c2515a2c",
   "metadata": {},
   "outputs": [
    {
     "name": "stdout",
     "output_type": "stream",
     "text": [
      "MAE:  2375611.737319534\n",
      "RMSE:  3462435.1538447198\n",
      "Puntuación:  0.8026376127547372\n"
     ]
    }
   ],
   "source": [
    "# Entrenar modelo\n",
    "mejor_modelo = Pipeline([('Transform', ColumnTransformer(transformers=[('Corr_drop','drop',to_drop_num)],remainder='passthrough')), ('KNN', KNeighborsRegressor())])\n",
    "mejor_modelo.set_params(**knn_best_params_pipe)\n",
    "mejor_modelo.fit(X_train_train_norm, Y_train_train_norm)\n",
    "\n",
    "y_pred = mejor_modelo.predict(X_train_validation_norm)\n",
    "y_pred = scaler_y.inverse_transform(y_pred.reshape(-1, 1)).ravel()\n",
    "\n",
    "\n",
    "# Evaluacion\n",
    "mejor_modelo_mae = mean_absolute_error(Y_train_validation, y_pred)\n",
    "print(\"MAE: \", mejor_modelo_mae)\n",
    "mejor_modelo_rmse = np.sqrt(mean_squared_error(Y_train_validation, y_pred))\n",
    "print(\"RMSE: \", mejor_modelo_rmse)\n",
    "print(\"Puntuación: \", mejor_modelo.score(X_train_validation_norm, Y_train_validation_norm))"
   ]
  },
  {
   "attachments": {},
   "cell_type": "markdown",
   "id": "7e2d7da0",
   "metadata": {},
   "source": [
    "### Árbol de regresión"
   ]
  },
  {
   "cell_type": "code",
   "execution_count": 108,
   "id": "a55de2c1",
   "metadata": {},
   "outputs": [
    {
     "name": "stdout",
     "output_type": "stream",
     "text": [
      "Fitting 1 folds for each of 147 candidates, totalling 147 fits\n",
      "Tiempo de ejecución:  1.670358657836914\n",
      "Mejor modelo:  Pipeline(steps=[('Transform',\n",
      "                 ColumnTransformer(remainder='passthrough',\n",
      "                                   transformers=[('Corr_drop', 'drop',\n",
      "                                                  [35, 36, 37, 38, 39, 44,\n",
      "                                                   47])])),\n",
      "                ('Tree',\n",
      "                 DecisionTreeRegressor(max_depth=6, max_features='sqrt',\n",
      "                                       min_samples_split=14))])\n"
     ]
    }
   ],
   "source": [
    "tree_pipe = Pipeline([('Transform', ColumnTransformer(transformers=[('Corr_drop','drop',to_drop_num)],remainder='passthrough')), ('Tree', DecisionTreeRegressor())])\n",
    "\n",
    "start = time.time()\n",
    "\n",
    "param_grid = {\n",
    "    'Tree__max_depth': range(2, 16, 2),\n",
    "    'Tree__max_features': ['sqrt', 'log2', 25],\n",
    "    'Tree__min_samples_split': range(2, 16, 2),\n",
    "    }\n",
    "\n",
    "grid = GridSearchCV(\n",
    "    estimator=tree_pipe,\n",
    "    param_grid=param_grid,\n",
    "    scoring=['neg_mean_absolute_error', 'neg_mean_squared_error'],\n",
    "    refit='neg_mean_squared_error',\n",
    "    cv=split_index,\n",
    "    verbose=3,\n",
    "    n_jobs=-1)\n",
    "\n",
    "np.random.seed(2)\n",
    "grid.fit(X_train, Y_train)\n",
    "\n",
    "end = time.time()\n",
    "\n",
    "tree_best_params_pipe = grid.best_params_\n",
    "\n",
    "print(\"Tiempo de ejecución: \", end - start)\n",
    "print(\"Mejor modelo: \", grid.best_estimator_)"
   ]
  },
  {
   "attachments": {},
   "cell_type": "markdown",
   "id": "eb5f4e03",
   "metadata": {},
   "source": [
    "Evalución del modelo"
   ]
  },
  {
   "cell_type": "code",
   "execution_count": 109,
   "id": "f1d7d898",
   "metadata": {},
   "outputs": [
    {
     "name": "stdout",
     "output_type": "stream",
     "text": [
      "MAE:  2729234.6258451277\n",
      "RMSE:  3890320.8869439363\n",
      "Puntuación:  0.7508436601008143\n"
     ]
    }
   ],
   "source": [
    "# Entrenar modelo\n",
    "mejor_modelo = Pipeline([('Transform', ColumnTransformer(transformers=[('Corr_drop','drop',to_drop_num)],remainder='passthrough')), ('Tree', DecisionTreeRegressor())])\n",
    "mejor_modelo.set_params(**tree_best_params_pipe)\n",
    "mejor_modelo.fit(X_train_train, Y_train_train)\n",
    "\n",
    "y_pred = mejor_modelo.predict(X_train_validation)\n",
    "\n",
    "\n",
    "# Evaluacion\n",
    "mejor_modelo_mae = mean_absolute_error(Y_train_validation, y_pred)\n",
    "print(\"MAE: \", mejor_modelo_mae)\n",
    "mejor_modelo_rmse = np.sqrt(mean_squared_error(Y_train_validation, y_pred))\n",
    "print(\"RMSE: \", mejor_modelo_rmse)\n",
    "print(\"Puntuación: \", mejor_modelo.score(X_train_validation, Y_train_validation))\n"
   ]
  },
  {
   "attachments": {},
   "cell_type": "markdown",
   "id": "5c9939bd",
   "metadata": {},
   "source": [
    "### Regresión Linear"
   ]
  },
  {
   "cell_type": "code",
   "execution_count": 110,
   "id": "cf071eb4",
   "metadata": {},
   "outputs": [
    {
     "name": "stdout",
     "output_type": "stream",
     "text": [
      "Fitting 1 folds for each of 8 candidates, totalling 8 fits\n",
      "Tiempo de ejecución:  0.3568723201751709\n",
      "Mejor modelo:  Pipeline(steps=[('Transform',\n",
      "                 ColumnTransformer(remainder='passthrough',\n",
      "                                   transformers=[('Corr_drop', 'drop',\n",
      "                                                  [35, 36, 37, 38, 39, 44,\n",
      "                                                   47])])),\n",
      "                ('li_reg', LinearRegression())])\n"
     ]
    }
   ],
   "source": [
    "li_reg_pipe = Pipeline([('Transform', ColumnTransformer(transformers=[('Corr_drop','drop',to_drop_num)],remainder='passthrough')), ('li_reg', LinearRegression())])\n",
    "\n",
    "start = time.time()\n",
    "\n",
    "param_grid = {\n",
    "    'li_reg__fit_intercept': [True, False],\n",
    "    'li_reg__positive': [True, False],\n",
    "    'li_reg__copy_X': [True, False],\n",
    "}\n",
    "\n",
    "grid = GridSearchCV(\n",
    "    estimator=li_reg_pipe,\n",
    "    param_grid=param_grid,\n",
    "    scoring=['neg_mean_absolute_error', 'neg_mean_squared_error'],\n",
    "    refit='neg_mean_squared_error',\n",
    "    cv=split_index,\n",
    "    verbose=3,\n",
    "    n_jobs=-1)\n",
    "\n",
    "np.random.seed(2)\n",
    "grid.fit(X_train, Y_train)\n",
    "\n",
    "end = time.time()\n",
    "\n",
    "li_reg_best_params_pipe = grid.best_params_\n",
    "\n",
    "print(\"Tiempo de ejecución: \", end - start)\n",
    "print(\"Mejor modelo: \", grid.best_estimator_)"
   ]
  },
  {
   "attachments": {},
   "cell_type": "markdown",
   "id": "bc501472",
   "metadata": {},
   "source": [
    "Evaluación del modelo"
   ]
  },
  {
   "cell_type": "code",
   "execution_count": 111,
   "id": "aa441867",
   "metadata": {},
   "outputs": [
    {
     "name": "stdout",
     "output_type": "stream",
     "text": [
      "MAE:  2257687.430023777\n",
      "RMSE:  3264826.850488732\n",
      "Puntuación:  0.8245225156713238\n"
     ]
    }
   ],
   "source": [
    "# Entrenar modelo\n",
    "mejor_modelo = Pipeline([('Transform', ColumnTransformer(transformers=[('Corr_drop','drop',to_drop_num)],remainder='passthrough')), ('li_reg', LinearRegression())])\n",
    "mejor_modelo.set_params(**li_reg_best_params_pipe)\n",
    "mejor_modelo.fit(X_train_train, Y_train_train)\n",
    "\n",
    "y_pred = mejor_modelo.predict(X_train_validation)\n",
    "\n",
    "\n",
    "# Evaluacion\n",
    "mejor_modelo_mae = mean_absolute_error(Y_train_validation, y_pred) \n",
    "print(\"MAE: \", mejor_modelo_mae)\n",
    "mejor_modelo_rmse = np.sqrt(mean_squared_error(Y_train_validation, y_pred))\n",
    "print(\"RMSE: \", mejor_modelo_rmse)\n",
    "print(\"Puntuación: \", mejor_modelo.score(X_train_validation, Y_train_validation))"
   ]
  },
  {
   "attachments": {},
   "cell_type": "markdown",
   "id": "930f3459",
   "metadata": {},
   "source": [
    "## Métodos avanzados"
   ]
  },
  {
   "attachments": {},
   "cell_type": "markdown",
   "id": "a51e79f2",
   "metadata": {},
   "source": [
    "### SVM"
   ]
  },
  {
   "cell_type": "code",
   "execution_count": 112,
   "id": "fa05eef0",
   "metadata": {},
   "outputs": [
    {
     "name": "stdout",
     "output_type": "stream",
     "text": [
      "Fitting 1 folds for each of 10 candidates, totalling 10 fits\n",
      "Tiempo de ejecución:  43.62321877479553\n",
      "Mejor modelo:  Pipeline(steps=[('Transform',\n",
      "                 ColumnTransformer(remainder='passthrough',\n",
      "                                   transformers=[('Corr_drop', 'drop',\n",
      "                                                  [35, 36, 37, 38, 39, 44,\n",
      "                                                   47])])),\n",
      "                ('svm', SVR(C=1, gamma='auto'))])\n"
     ]
    }
   ],
   "source": [
    "svm_pipe = Pipeline([('Transform', ColumnTransformer(transformers=[('Corr_drop','drop',to_drop_num)],remainder='passthrough')), ('svm', SVR())])\n",
    "\n",
    "start = time.time()\n",
    "\n",
    "param_grid = {\n",
    "    'svm__gamma': ['scale', 'auto'],\n",
    "    'svm__C': [0.1, 1, 10, 100, 1000],\n",
    "    }\n",
    "\n",
    "grid = GridSearchCV(\n",
    "    estimator=svm_pipe,\n",
    "    param_grid=param_grid,\n",
    "    scoring=['neg_mean_absolute_error', 'neg_mean_squared_error'],\n",
    "    refit='neg_mean_squared_error',\n",
    "    cv=split_index,\n",
    "    verbose=3,\n",
    "    n_jobs=-1)\n",
    "\n",
    "np.random.seed(2)\n",
    "grid.fit(X_train_norm, Y_train_norm)\n",
    "\n",
    "end = time.time()\n",
    "\n",
    "svm_best_params_pipe = grid.best_params_\n",
    "\n",
    "print(\"Tiempo de ejecución: \", end - start)\n",
    "print(\"Mejor modelo: \", grid.best_estimator_)"
   ]
  },
  {
   "attachments": {},
   "cell_type": "markdown",
   "id": "e07d223b",
   "metadata": {},
   "source": [
    "Evaluación del modelo"
   ]
  },
  {
   "cell_type": "code",
   "execution_count": 113,
   "id": "e9d46c24",
   "metadata": {},
   "outputs": [
    {
     "name": "stdout",
     "output_type": "stream",
     "text": [
      "MAE:  2211906.0171550796\n",
      "RMSE:  3337790.930145173\n",
      "Puntuación:  0.8165915447311398\n"
     ]
    }
   ],
   "source": [
    "# Entrenar modelo\n",
    "mejor_modelo = Pipeline([('Transform', ColumnTransformer(transformers=[('Corr_drop','drop',to_drop_num)],remainder='passthrough')), ('svm', SVR())])\n",
    "mejor_modelo.set_params(**svm_best_params_pipe)\n",
    "mejor_modelo.fit(X_train_train_norm, Y_train_train_norm)\n",
    "\n",
    "y_pred = mejor_modelo.predict(X_train_validation_norm)\n",
    "y_pred = scaler_y.inverse_transform(y_pred.reshape(-1, 1))\n",
    "\n",
    "\n",
    "# Evaluacion\n",
    "mejor_modelo_mae = mean_absolute_error(Y_train_validation, y_pred)\n",
    "print(\"MAE: \", mejor_modelo_mae)\n",
    "mejor_modelo_rmse = np.sqrt(mean_squared_error(Y_train_validation, y_pred))\n",
    "print(\"RMSE: \", mejor_modelo_rmse)\n",
    "print(\"Puntuación: \", mejor_modelo.score(X_train_validation_norm, Y_train_validation_norm))"
   ]
  },
  {
   "attachments": {},
   "cell_type": "markdown",
   "id": "88d59c93",
   "metadata": {},
   "source": [
    "### Random Forest"
   ]
  },
  {
   "cell_type": "code",
   "execution_count": 114,
   "id": "da30441c",
   "metadata": {},
   "outputs": [
    {
     "name": "stdout",
     "output_type": "stream",
     "text": [
      "Fitting 1 folds for each of 189 candidates, totalling 189 fits\n",
      "Tiempo de ejecución:  57.05414915084839\n",
      "Mejor modelo:  Pipeline(steps=[('Transform',\n",
      "                 ColumnTransformer(remainder='passthrough',\n",
      "                                   transformers=[('Corr_drop', 'drop',\n",
      "                                                  [35, 36, 37, 38, 39, 44,\n",
      "                                                   47])])),\n",
      "                ('rfr',\n",
      "                 RandomForestRegressor(max_depth=12, max_features='log2',\n",
      "                                       n_estimators=70))])\n"
     ]
    }
   ],
   "source": [
    "rfr_pipe = Pipeline([('Transform', ColumnTransformer(transformers=[('Corr_drop','drop',to_drop_num)],remainder='passthrough')), ('rfr', RandomForestRegressor())])\n",
    "\n",
    "start = time.time()\n",
    "\n",
    "param_grid = {\n",
    "    'rfr__n_estimators': range(10, 100, 10),\n",
    "    'rfr__max_depth': range(2, 16, 2),\n",
    "    'rfr__max_features': ['sqrt', 'log2', 25]\n",
    "    }\n",
    "\n",
    "grid = GridSearchCV(\n",
    "    estimator=rfr_pipe,\n",
    "    param_grid=param_grid,\n",
    "    scoring=['neg_mean_absolute_error', 'neg_mean_squared_error'],\n",
    "    refit='neg_mean_squared_error',\n",
    "    cv=split_index,\n",
    "    verbose=3,\n",
    "    n_jobs=-1)\n",
    "\n",
    "np.random.seed(2)\n",
    "grid.fit(X_train, Y_train)\n",
    "\n",
    "end = time.time()\n",
    " \n",
    "rfr_best_params_pipe = grid.best_params_\n",
    "\n",
    "print(\"Tiempo de ejecución: \", end - start)\n",
    "print(\"Mejor modelo: \", grid.best_estimator_)"
   ]
  },
  {
   "attachments": {},
   "cell_type": "markdown",
   "id": "14f0fd66",
   "metadata": {},
   "source": [
    "Evaluación del modelo"
   ]
  },
  {
   "cell_type": "code",
   "execution_count": 115,
   "id": "d7804dcc",
   "metadata": {},
   "outputs": [
    {
     "name": "stdout",
     "output_type": "stream",
     "text": [
      "MAE:  2232560.6443895465\n",
      "RMSE:  3275124.411362825\n",
      "Puntuación:  0.8234138260744011\n"
     ]
    }
   ],
   "source": [
    "# Entrenar modelo\n",
    "mejor_modelo = Pipeline([('Transform', ColumnTransformer(transformers=[('Corr_drop','drop',to_drop_num)],remainder='passthrough')), ('rfr', RandomForestRegressor())])\n",
    "mejor_modelo.set_params(**rfr_best_params_pipe)\n",
    "mejor_modelo.fit(X_train_train, Y_train_train)\n",
    "\n",
    "y_pred = mejor_modelo.predict(X_train_validation)\n",
    "\n",
    "\n",
    "# Evaluacion\n",
    "mejor_modelo_mae = mean_absolute_error(Y_train_validation, y_pred)\n",
    "print(\"MAE: \", mejor_modelo_mae)\n",
    "mejor_modelo_rmse = np.sqrt(mean_squared_error(Y_train_validation, y_pred))\n",
    "print(\"RMSE: \", mejor_modelo_rmse)\n",
    "print(\"Puntuación: \", mejor_modelo.score(X_train_validation, Y_train_validation))"
   ]
  },
  {
   "attachments": {},
   "cell_type": "markdown",
   "id": "e55b4622",
   "metadata": {},
   "source": [
    "# Modelo final"
   ]
  },
  {
   "attachments": {},
   "cell_type": "markdown",
   "id": "904bd43a",
   "metadata": {},
   "source": [
    "Entrenamos el mejor modelo con los datos de train y validación y lo evaluamos con los datos de test."
   ]
  },
  {
   "attachments": {},
   "cell_type": "markdown",
   "id": "26872aa8",
   "metadata": {},
   "source": [
    "## Random Forest"
   ]
  },
  {
   "cell_type": "code",
   "execution_count": 119,
   "id": "299a6b20",
   "metadata": {},
   "outputs": [
    {
     "name": "stdout",
     "output_type": "stream",
     "text": [
      "MAE:  2135706.092736471\n",
      "RMSE:  3095650.8023083075\n",
      "Puntuación:  0.8278774970733207\n"
     ]
    }
   ],
   "source": [
    "rfr = RandomForestRegressor(**rfr_best_params)\n",
    "rfr.fit(X_train, Y_train)\n",
    "\n",
    "rfr_pred = rfr.predict(X_test)\n",
    "\n",
    "# Evaluacion\n",
    "rfr_mae = mean_absolute_error(Y_test, rfr_pred)\n",
    "print(\"MAE: \", rfr_mae)\n",
    "rfr_rmse = np.sqrt(mean_squared_error(Y_test, rfr_pred))\n",
    "print(\"RMSE: \", rfr_rmse)\n",
    "print(\"Puntuación: \", rfr.score(X_test, Y_test))"
   ]
  },
  {
   "attachments": {},
   "cell_type": "markdown",
   "id": "b944f606",
   "metadata": {},
   "source": [
    "Elegimos el modelo de Random Forest como el modelo final."
   ]
  },
  {
   "attachments": {},
   "cell_type": "markdown",
   "id": "244da268",
   "metadata": {},
   "source": [
    "## Entrenamiento del modelo final"
   ]
  },
  {
   "cell_type": "code",
   "execution_count": 120,
   "id": "09ea46e0",
   "metadata": {},
   "outputs": [],
   "source": [
    "import pickle\n",
    "\n",
    "rfr = RandomForestRegressor(**rfr_best_params)\n",
    "rfr.fit(X_disp, Y_disp)\n",
    "\n",
    "\n",
    "filename = 'mejor_modelo.pkl'\n",
    "pickle.dump(mejor_modelo, open(filename, 'wb'))"
   ]
  }
 ],
 "metadata": {
  "kernelspec": {
   "display_name": "Python 3 (ipykernel)",
   "language": "python",
   "name": "python3"
  },
  "language_info": {
   "codemirror_mode": {
    "name": "ipython",
    "version": 3
   },
   "file_extension": ".py",
   "mimetype": "text/x-python",
   "name": "python",
   "nbconvert_exporter": "python",
   "pygments_lexer": "ipython3",
   "version": "3.11.0"
  }
 },
 "nbformat": 4,
 "nbformat_minor": 5
}
