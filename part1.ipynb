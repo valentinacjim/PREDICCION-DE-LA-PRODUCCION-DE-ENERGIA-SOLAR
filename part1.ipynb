{
 "cells": [
  {
   "attachments": {},
   "cell_type": "markdown",
   "id": "97b0fd22",
   "metadata": {},
   "source": [
    "# Importación de librerías"
   ]
  },
  {
   "cell_type": "code",
   "execution_count": 44,
   "id": "1f10d37b",
   "metadata": {},
   "outputs": [],
   "source": [
    "import pandas as pd\n",
    "import numpy as np\n",
    "import matplotlib.pyplot as plt\n",
    "import seaborn as sns\n",
    "import time\n",
    "\n",
    "# Librerías de métricas\n",
    "from sklearn.metrics import mean_absolute_error\n",
    "from sklearn.metrics import mean_squared_error\n",
    "\n",
    "# Librerías de modelos\n",
    "from sklearn.dummy import DummyRegressor\n",
    "from sklearn.neighbors import KNeighborsRegressor\n",
    "from sklearn.linear_model import LinearRegression\n",
    "from sklearn.tree import DecisionTreeRegressor\n",
    "from sklearn.svm import SVR\n",
    "from sklearn.preprocessing import StandardScaler\n",
    "from sklearn.ensemble import RandomForestRegressor\n",
    "\n",
    "from sklearn.pipeline import Pipeline\n",
    "\n",
    "# Librerías de búsqueda de hiperparámetros\n",
    "from sklearn.model_selection import GridSearchCV\n",
    "from sklearn.svm import SVR\n",
    "from sklearn.model_selection import KFold\n"
   ]
  },
  {
   "attachments": {},
   "cell_type": "markdown",
   "id": "831414e0",
   "metadata": {},
   "source": [
    "# Importación de datos"
   ]
  },
  {
   "cell_type": "code",
   "execution_count": 21,
   "id": "6fd2f555",
   "metadata": {
    "scrolled": true
   },
   "outputs": [],
   "source": [
    "disp_df = pd.read_csv(\"datos/disp_st2ns1.txt.bz2\",\n",
    "    compression=\"bz2\",\n",
    "    index_col=0)\n",
    "\n",
    "comp_df = pd.read_csv(\"comp_st2ns1.txt.bz2\",\n",
    "    compression=\"bz2\",\n",
    "    index_col=0)"
   ]
  },
  {
   "attachments": {},
   "cell_type": "markdown",
   "id": "f91e577c",
   "metadata": {},
   "source": [
    "# Analisis Exploratorio de Datos"
   ]
  },
  {
   "attachments": {},
   "cell_type": "markdown",
   "id": "0d0ad362",
   "metadata": {},
   "source": [
    "Comprobamos la cantidad de datos que tenemos en el dataset"
   ]
  },
  {
   "cell_type": "code",
   "execution_count": 32,
   "id": "bc8739ae",
   "metadata": {},
   "outputs": [
    {
     "name": "stdout",
     "output_type": "stream",
     "text": [
      "Cantidad de Filas y columnas: (4380, 76)\n",
      "Nombre columnas: Index(['apcp_sf1_1', 'apcp_sf2_1', 'apcp_sf3_1', 'apcp_sf4_1', 'apcp_sf5_1',\n",
      "       'dlwrf_s1_1', 'dlwrf_s2_1', 'dlwrf_s3_1', 'dlwrf_s4_1', 'dlwrf_s5_1',\n",
      "       'dswrf_s1_1', 'dswrf_s2_1', 'dswrf_s3_1', 'dswrf_s4_1', 'dswrf_s5_1',\n",
      "       'pres_ms1_1', 'pres_ms2_1', 'pres_ms3_1', 'pres_ms4_1', 'pres_ms5_1',\n",
      "       'pwat_ea1_1', 'pwat_ea2_1', 'pwat_ea3_1', 'pwat_ea4_1', 'pwat_ea5_1',\n",
      "       'spfh_2m1_1', 'spfh_2m2_1', 'spfh_2m3_1', 'spfh_2m4_1', 'spfh_2m5_1',\n",
      "       'tcdc_ea1_1', 'tcdc_ea2_1', 'tcdc_ea3_1', 'tcdc_ea4_1', 'tcdc_ea5_1',\n",
      "       'tcolc_e1_1', 'tcolc_e2_1', 'tcolc_e3_1', 'tcolc_e4_1', 'tcolc_e5_1',\n",
      "       'tmax_2m1_1', 'tmax_2m2_1', 'tmax_2m3_1', 'tmax_2m4_1', 'tmax_2m5_1',\n",
      "       'tmin_2m1_1', 'tmin_2m2_1', 'tmin_2m3_1', 'tmin_2m4_1', 'tmin_2m5_1',\n",
      "       'tmp_2m_1_1', 'tmp_2m_2_1', 'tmp_2m_3_1', 'tmp_2m_4_1', 'tmp_2m_5_1',\n",
      "       'tmp_sfc1_1', 'tmp_sfc2_1', 'tmp_sfc3_1', 'tmp_sfc4_1', 'tmp_sfc5_1',\n",
      "       'ulwrf_s1_1', 'ulwrf_s2_1', 'ulwrf_s3_1', 'ulwrf_s4_1', 'ulwrf_s5_1',\n",
      "       'ulwrf_t1_1', 'ulwrf_t2_1', 'ulwrf_t3_1', 'ulwrf_t4_1', 'ulwrf_t5_1',\n",
      "       'uswrf_s1_1', 'uswrf_s2_1', 'uswrf_s3_1', 'uswrf_s4_1', 'uswrf_s5_1',\n",
      "       'salida'],\n",
      "      dtype='object')\n"
     ]
    }
   ],
   "source": [
    "disp_df_eda = disp_df.copy()\n",
    "\n",
    "print('Cantidad de Filas y columnas:', disp_df_eda.shape)\n",
    "print('Nombre columnas:', disp_df_eda.columns)"
   ]
  },
  {
   "cell_type": "code",
   "execution_count": 33,
   "id": "19654e93",
   "metadata": {},
   "outputs": [
    {
     "name": "stdout",
     "output_type": "stream",
     "text": [
      "<class 'pandas.core.frame.DataFrame'>\n",
      "Index: 4380 entries, V1 to V4380\n",
      "Data columns (total 76 columns):\n",
      " #   Column      Non-Null Count  Dtype  \n",
      "---  ------      --------------  -----  \n",
      " 0   apcp_sf1_1  4380 non-null   float64\n",
      " 1   apcp_sf2_1  4380 non-null   float64\n",
      " 2   apcp_sf3_1  4380 non-null   float64\n",
      " 3   apcp_sf4_1  4380 non-null   float64\n",
      " 4   apcp_sf5_1  4380 non-null   float64\n",
      " 5   dlwrf_s1_1  4380 non-null   float64\n",
      " 6   dlwrf_s2_1  4380 non-null   float64\n",
      " 7   dlwrf_s3_1  4380 non-null   float64\n",
      " 8   dlwrf_s4_1  4380 non-null   float64\n",
      " 9   dlwrf_s5_1  4380 non-null   float64\n",
      " 10  dswrf_s1_1  4380 non-null   float64\n",
      " 11  dswrf_s2_1  4380 non-null   float64\n",
      " 12  dswrf_s3_1  4380 non-null   float64\n",
      " 13  dswrf_s4_1  4380 non-null   float64\n",
      " 14  dswrf_s5_1  4380 non-null   float64\n",
      " 15  pres_ms1_1  4380 non-null   float64\n",
      " 16  pres_ms2_1  4380 non-null   float64\n",
      " 17  pres_ms3_1  4380 non-null   float64\n",
      " 18  pres_ms4_1  4380 non-null   float64\n",
      " 19  pres_ms5_1  4380 non-null   float64\n",
      " 20  pwat_ea1_1  4380 non-null   float64\n",
      " 21  pwat_ea2_1  4380 non-null   float64\n",
      " 22  pwat_ea3_1  4380 non-null   float64\n",
      " 23  pwat_ea4_1  4380 non-null   float64\n",
      " 24  pwat_ea5_1  4380 non-null   float64\n",
      " 25  spfh_2m1_1  4380 non-null   float64\n",
      " 26  spfh_2m2_1  4380 non-null   float64\n",
      " 27  spfh_2m3_1  4380 non-null   float64\n",
      " 28  spfh_2m4_1  4380 non-null   float64\n",
      " 29  spfh_2m5_1  4380 non-null   float64\n",
      " 30  tcdc_ea1_1  4380 non-null   float64\n",
      " 31  tcdc_ea2_1  4380 non-null   float64\n",
      " 32  tcdc_ea3_1  4380 non-null   float64\n",
      " 33  tcdc_ea4_1  4380 non-null   float64\n",
      " 34  tcdc_ea5_1  4380 non-null   float64\n",
      " 35  tcolc_e1_1  4380 non-null   float64\n",
      " 36  tcolc_e2_1  4380 non-null   float64\n",
      " 37  tcolc_e3_1  4380 non-null   float64\n",
      " 38  tcolc_e4_1  4380 non-null   float64\n",
      " 39  tcolc_e5_1  4380 non-null   float64\n",
      " 40  tmax_2m1_1  4380 non-null   float64\n",
      " 41  tmax_2m2_1  4380 non-null   float64\n",
      " 42  tmax_2m3_1  4380 non-null   float64\n",
      " 43  tmax_2m4_1  4380 non-null   float64\n",
      " 44  tmax_2m5_1  4380 non-null   float64\n",
      " 45  tmin_2m1_1  4380 non-null   float64\n",
      " 46  tmin_2m2_1  4380 non-null   float64\n",
      " 47  tmin_2m3_1  4380 non-null   float64\n",
      " 48  tmin_2m4_1  4380 non-null   float64\n",
      " 49  tmin_2m5_1  4380 non-null   float64\n",
      " 50  tmp_2m_1_1  4380 non-null   float64\n",
      " 51  tmp_2m_2_1  4380 non-null   float64\n",
      " 52  tmp_2m_3_1  4380 non-null   float64\n",
      " 53  tmp_2m_4_1  4380 non-null   float64\n",
      " 54  tmp_2m_5_1  4380 non-null   float64\n",
      " 55  tmp_sfc1_1  4380 non-null   float64\n",
      " 56  tmp_sfc2_1  4380 non-null   float64\n",
      " 57  tmp_sfc3_1  4380 non-null   float64\n",
      " 58  tmp_sfc4_1  4380 non-null   float64\n",
      " 59  tmp_sfc5_1  4380 non-null   float64\n",
      " 60  ulwrf_s1_1  4380 non-null   float64\n",
      " 61  ulwrf_s2_1  4380 non-null   float64\n",
      " 62  ulwrf_s3_1  4380 non-null   float64\n",
      " 63  ulwrf_s4_1  4380 non-null   float64\n",
      " 64  ulwrf_s5_1  4380 non-null   float64\n",
      " 65  ulwrf_t1_1  4380 non-null   float64\n",
      " 66  ulwrf_t2_1  4380 non-null   float64\n",
      " 67  ulwrf_t3_1  4380 non-null   float64\n",
      " 68  ulwrf_t4_1  4380 non-null   float64\n",
      " 69  ulwrf_t5_1  4380 non-null   float64\n",
      " 70  uswrf_s1_1  4380 non-null   float64\n",
      " 71  uswrf_s2_1  4380 non-null   float64\n",
      " 72  uswrf_s3_1  4380 non-null   float64\n",
      " 73  uswrf_s4_1  4380 non-null   float64\n",
      " 74  uswrf_s5_1  4380 non-null   float64\n",
      " 75  salida      4380 non-null   int64  \n",
      "dtypes: float64(75), int64(1)\n",
      "memory usage: 2.7+ MB\n"
     ]
    }
   ],
   "source": [
    "disp_df_eda.info()"
   ]
  },
  {
   "cell_type": "code",
   "execution_count": 35,
   "id": "846becb9",
   "metadata": {},
   "outputs": [
    {
     "data": {
      "text/html": [
       "<div>\n",
       "<style scoped>\n",
       "    .dataframe tbody tr th:only-of-type {\n",
       "        vertical-align: middle;\n",
       "    }\n",
       "\n",
       "    .dataframe tbody tr th {\n",
       "        vertical-align: top;\n",
       "    }\n",
       "\n",
       "    .dataframe thead th {\n",
       "        text-align: right;\n",
       "    }\n",
       "</style>\n",
       "<table border=\"1\" class=\"dataframe\">\n",
       "  <thead>\n",
       "    <tr style=\"text-align: right;\">\n",
       "      <th></th>\n",
       "      <th>apcp_sf1_1</th>\n",
       "      <th>apcp_sf2_1</th>\n",
       "      <th>apcp_sf3_1</th>\n",
       "      <th>apcp_sf4_1</th>\n",
       "      <th>apcp_sf5_1</th>\n",
       "      <th>dlwrf_s1_1</th>\n",
       "      <th>dlwrf_s2_1</th>\n",
       "      <th>dlwrf_s3_1</th>\n",
       "      <th>dlwrf_s4_1</th>\n",
       "      <th>dlwrf_s5_1</th>\n",
       "      <th>...</th>\n",
       "      <th>ulwrf_t2_1</th>\n",
       "      <th>ulwrf_t3_1</th>\n",
       "      <th>ulwrf_t4_1</th>\n",
       "      <th>ulwrf_t5_1</th>\n",
       "      <th>uswrf_s1_1</th>\n",
       "      <th>uswrf_s2_1</th>\n",
       "      <th>uswrf_s3_1</th>\n",
       "      <th>uswrf_s4_1</th>\n",
       "      <th>uswrf_s5_1</th>\n",
       "      <th>salida</th>\n",
       "    </tr>\n",
       "  </thead>\n",
       "  <tbody>\n",
       "    <tr>\n",
       "      <th>count</th>\n",
       "      <td>4380.000000</td>\n",
       "      <td>4380.000000</td>\n",
       "      <td>4380.000000</td>\n",
       "      <td>4380.000000</td>\n",
       "      <td>4380.000000</td>\n",
       "      <td>4380.000000</td>\n",
       "      <td>4380.000000</td>\n",
       "      <td>4380.000000</td>\n",
       "      <td>4380.000000</td>\n",
       "      <td>4380.000000</td>\n",
       "      <td>...</td>\n",
       "      <td>4380.000000</td>\n",
       "      <td>4380.000000</td>\n",
       "      <td>4380.000000</td>\n",
       "      <td>4380.000000</td>\n",
       "      <td>4380.000000</td>\n",
       "      <td>4380.000000</td>\n",
       "      <td>4380.000000</td>\n",
       "      <td>4380.000000</td>\n",
       "      <td>4380.000000</td>\n",
       "      <td>4.380000e+03</td>\n",
       "    </tr>\n",
       "    <tr>\n",
       "      <th>mean</th>\n",
       "      <td>0.606809</td>\n",
       "      <td>0.252764</td>\n",
       "      <td>0.480446</td>\n",
       "      <td>0.271476</td>\n",
       "      <td>0.514641</td>\n",
       "      <td>316.698532</td>\n",
       "      <td>317.381851</td>\n",
       "      <td>324.682998</td>\n",
       "      <td>343.757513</td>\n",
       "      <td>343.097254</td>\n",
       "      <td>...</td>\n",
       "      <td>247.300145</td>\n",
       "      <td>251.597699</td>\n",
       "      <td>261.916025</td>\n",
       "      <td>260.870143</td>\n",
       "      <td>0.076235</td>\n",
       "      <td>38.585222</td>\n",
       "      <td>76.064674</td>\n",
       "      <td>126.504047</td>\n",
       "      <td>99.087049</td>\n",
       "      <td>1.629826e+07</td>\n",
       "    </tr>\n",
       "    <tr>\n",
       "      <th>std</th>\n",
       "      <td>2.275740</td>\n",
       "      <td>0.999809</td>\n",
       "      <td>1.774720</td>\n",
       "      <td>1.086599</td>\n",
       "      <td>1.886735</td>\n",
       "      <td>55.637609</td>\n",
       "      <td>57.874376</td>\n",
       "      <td>58.702133</td>\n",
       "      <td>60.860672</td>\n",
       "      <td>60.693451</td>\n",
       "      <td>...</td>\n",
       "      <td>36.804219</td>\n",
       "      <td>36.382653</td>\n",
       "      <td>39.190955</td>\n",
       "      <td>38.734023</td>\n",
       "      <td>0.255491</td>\n",
       "      <td>25.984861</td>\n",
       "      <td>30.784078</td>\n",
       "      <td>40.571154</td>\n",
       "      <td>35.454368</td>\n",
       "      <td>7.965298e+06</td>\n",
       "    </tr>\n",
       "    <tr>\n",
       "      <th>min</th>\n",
       "      <td>0.000000</td>\n",
       "      <td>0.000000</td>\n",
       "      <td>0.000000</td>\n",
       "      <td>0.000000</td>\n",
       "      <td>0.000000</td>\n",
       "      <td>158.971770</td>\n",
       "      <td>160.032903</td>\n",
       "      <td>165.524543</td>\n",
       "      <td>183.671312</td>\n",
       "      <td>186.342961</td>\n",
       "      <td>...</td>\n",
       "      <td>113.559602</td>\n",
       "      <td>118.679132</td>\n",
       "      <td>119.393449</td>\n",
       "      <td>121.951425</td>\n",
       "      <td>0.000000</td>\n",
       "      <td>0.000000</td>\n",
       "      <td>3.181818</td>\n",
       "      <td>4.363636</td>\n",
       "      <td>2.545455</td>\n",
       "      <td>5.100000e+05</td>\n",
       "    </tr>\n",
       "    <tr>\n",
       "      <th>25%</th>\n",
       "      <td>0.000000</td>\n",
       "      <td>0.000000</td>\n",
       "      <td>0.000000</td>\n",
       "      <td>0.000000</td>\n",
       "      <td>0.000000</td>\n",
       "      <td>271.219564</td>\n",
       "      <td>268.889864</td>\n",
       "      <td>275.709318</td>\n",
       "      <td>293.757163</td>\n",
       "      <td>292.834810</td>\n",
       "      <td>...</td>\n",
       "      <td>230.482578</td>\n",
       "      <td>233.976283</td>\n",
       "      <td>245.721419</td>\n",
       "      <td>243.850282</td>\n",
       "      <td>0.000000</td>\n",
       "      <td>14.000000</td>\n",
       "      <td>53.431818</td>\n",
       "      <td>108.454545</td>\n",
       "      <td>74.795455</td>\n",
       "      <td>1.062375e+07</td>\n",
       "    </tr>\n",
       "    <tr>\n",
       "      <th>50%</th>\n",
       "      <td>0.000000</td>\n",
       "      <td>0.000000</td>\n",
       "      <td>0.000000</td>\n",
       "      <td>0.000000</td>\n",
       "      <td>0.000000</td>\n",
       "      <td>321.106932</td>\n",
       "      <td>323.063311</td>\n",
       "      <td>329.708327</td>\n",
       "      <td>346.763388</td>\n",
       "      <td>345.883918</td>\n",
       "      <td>...</td>\n",
       "      <td>253.309217</td>\n",
       "      <td>257.270334</td>\n",
       "      <td>270.790095</td>\n",
       "      <td>269.300432</td>\n",
       "      <td>0.000000</td>\n",
       "      <td>35.363636</td>\n",
       "      <td>79.272727</td>\n",
       "      <td>135.909091</td>\n",
       "      <td>104.818182</td>\n",
       "      <td>1.635690e+07</td>\n",
       "    </tr>\n",
       "    <tr>\n",
       "      <th>75%</th>\n",
       "      <td>0.109091</td>\n",
       "      <td>0.051818</td>\n",
       "      <td>0.127500</td>\n",
       "      <td>0.036364</td>\n",
       "      <td>0.090909</td>\n",
       "      <td>366.145476</td>\n",
       "      <td>370.147353</td>\n",
       "      <td>378.509126</td>\n",
       "      <td>399.600853</td>\n",
       "      <td>398.728281</td>\n",
       "      <td>...</td>\n",
       "      <td>274.861445</td>\n",
       "      <td>278.800420</td>\n",
       "      <td>290.139446</td>\n",
       "      <td>289.699652</td>\n",
       "      <td>0.000000</td>\n",
       "      <td>61.818182</td>\n",
       "      <td>102.727273</td>\n",
       "      <td>155.204545</td>\n",
       "      <td>129.545455</td>\n",
       "      <td>2.312775e+07</td>\n",
       "    </tr>\n",
       "    <tr>\n",
       "      <th>max</th>\n",
       "      <td>43.009090</td>\n",
       "      <td>16.846364</td>\n",
       "      <td>28.399091</td>\n",
       "      <td>26.381818</td>\n",
       "      <td>36.875455</td>\n",
       "      <td>426.173970</td>\n",
       "      <td>427.486894</td>\n",
       "      <td>429.693146</td>\n",
       "      <td>455.566337</td>\n",
       "      <td>453.910406</td>\n",
       "      <td>...</td>\n",
       "      <td>311.991660</td>\n",
       "      <td>315.569164</td>\n",
       "      <td>328.920274</td>\n",
       "      <td>327.253141</td>\n",
       "      <td>1.000000</td>\n",
       "      <td>92.272727</td>\n",
       "      <td>192.636364</td>\n",
       "      <td>450.636364</td>\n",
       "      <td>313.909091</td>\n",
       "      <td>3.122700e+07</td>\n",
       "    </tr>\n",
       "  </tbody>\n",
       "</table>\n",
       "<p>8 rows × 76 columns</p>\n",
       "</div>"
      ],
      "text/plain": [
       "        apcp_sf1_1   apcp_sf2_1   apcp_sf3_1   apcp_sf4_1   apcp_sf5_1  \\\n",
       "count  4380.000000  4380.000000  4380.000000  4380.000000  4380.000000   \n",
       "mean      0.606809     0.252764     0.480446     0.271476     0.514641   \n",
       "std       2.275740     0.999809     1.774720     1.086599     1.886735   \n",
       "min       0.000000     0.000000     0.000000     0.000000     0.000000   \n",
       "25%       0.000000     0.000000     0.000000     0.000000     0.000000   \n",
       "50%       0.000000     0.000000     0.000000     0.000000     0.000000   \n",
       "75%       0.109091     0.051818     0.127500     0.036364     0.090909   \n",
       "max      43.009090    16.846364    28.399091    26.381818    36.875455   \n",
       "\n",
       "        dlwrf_s1_1   dlwrf_s2_1   dlwrf_s3_1   dlwrf_s4_1   dlwrf_s5_1  ...  \\\n",
       "count  4380.000000  4380.000000  4380.000000  4380.000000  4380.000000  ...   \n",
       "mean    316.698532   317.381851   324.682998   343.757513   343.097254  ...   \n",
       "std      55.637609    57.874376    58.702133    60.860672    60.693451  ...   \n",
       "min     158.971770   160.032903   165.524543   183.671312   186.342961  ...   \n",
       "25%     271.219564   268.889864   275.709318   293.757163   292.834810  ...   \n",
       "50%     321.106932   323.063311   329.708327   346.763388   345.883918  ...   \n",
       "75%     366.145476   370.147353   378.509126   399.600853   398.728281  ...   \n",
       "max     426.173970   427.486894   429.693146   455.566337   453.910406  ...   \n",
       "\n",
       "        ulwrf_t2_1   ulwrf_t3_1   ulwrf_t4_1   ulwrf_t5_1   uswrf_s1_1  \\\n",
       "count  4380.000000  4380.000000  4380.000000  4380.000000  4380.000000   \n",
       "mean    247.300145   251.597699   261.916025   260.870143     0.076235   \n",
       "std      36.804219    36.382653    39.190955    38.734023     0.255491   \n",
       "min     113.559602   118.679132   119.393449   121.951425     0.000000   \n",
       "25%     230.482578   233.976283   245.721419   243.850282     0.000000   \n",
       "50%     253.309217   257.270334   270.790095   269.300432     0.000000   \n",
       "75%     274.861445   278.800420   290.139446   289.699652     0.000000   \n",
       "max     311.991660   315.569164   328.920274   327.253141     1.000000   \n",
       "\n",
       "        uswrf_s2_1   uswrf_s3_1   uswrf_s4_1   uswrf_s5_1        salida  \n",
       "count  4380.000000  4380.000000  4380.000000  4380.000000  4.380000e+03  \n",
       "mean     38.585222    76.064674   126.504047    99.087049  1.629826e+07  \n",
       "std      25.984861    30.784078    40.571154    35.454368  7.965298e+06  \n",
       "min       0.000000     3.181818     4.363636     2.545455  5.100000e+05  \n",
       "25%      14.000000    53.431818   108.454545    74.795455  1.062375e+07  \n",
       "50%      35.363636    79.272727   135.909091   104.818182  1.635690e+07  \n",
       "75%      61.818182   102.727273   155.204545   129.545455  2.312775e+07  \n",
       "max      92.272727   192.636364   450.636364   313.909091  3.122700e+07  \n",
       "\n",
       "[8 rows x 76 columns]"
      ]
     },
     "execution_count": 35,
     "metadata": {},
     "output_type": "execute_result"
    }
   ],
   "source": [
    "disp_df_eda.describe()"
   ]
  },
  {
   "attachments": {},
   "cell_type": "markdown",
   "id": "94a08406",
   "metadata": {},
   "source": [
    "Tomamos una muestra de las 15 variables en el primer momento del día siguiente para ver como se distribuyen los datos"
   ]
  },
  {
   "cell_type": "code",
   "execution_count": 40,
   "id": "c4000384",
   "metadata": {},
   "outputs": [],
   "source": [
    "for field in disp_df_eda:\n",
    "    if field[-3] != \"i\" and int(field[-3]) != 1:\n",
    "        disp_df_eda.drop(field, axis=1, inplace=True)"
   ]
  },
  {
   "attachments": {},
   "cell_type": "markdown",
   "id": "f37a719a",
   "metadata": {},
   "source": [
    "Detección de valores atípicos"
   ]
  },
  {
   "cell_type": "code",
   "execution_count": 42,
   "id": "8a43f6eb",
   "metadata": {},
   "outputs": [
    {
     "name": "stdout",
     "output_type": "stream",
     "text": [
      "-3.9446717712080748\n",
      "5.158289456511513\n"
     ]
    },
    {
     "data": {
      "text/plain": [
       "<Axes: >"
      ]
     },
     "execution_count": 42,
     "metadata": {},
     "output_type": "execute_result"
    },
    {
     "data": {
      "image/png": "[encoded data removed]",
      "text/plain": [
       "<Figure size 1500x500 with 1 Axes>"
      ]
     },
     "metadata": {},
     "output_type": "display_data"
    }
   ],
   "source": [
    "disp_df_outliers = disp_df.copy()\n",
    "disp_df_std = disp_df_outliers.std()\n",
    "disp_df_mean = disp_df_outliers.mean()\n",
    "anomaly_cut_off = disp_df_std * 2\n",
    "lower_limit  = disp_df_mean - anomaly_cut_off\n",
    "upper_limit = disp_df_mean + anomaly_cut_off\n",
    "\n",
    "print(lower_limit.iloc[0])\n",
    "print(upper_limit.iloc[0])\n",
    "\n",
    "for index, row in disp_df_outliers.iterrows():\n",
    "    if row.iloc[0] < lower_limit.iloc[0] or row.iloc[0] > upper_limit.iloc[0]:\n",
    "        disp_df_outliers.drop(index, inplace=True)\n",
    "\n",
    "disp_df_outliers.plot(kind='line', figsize=(15, 5))"
   ]
  },
  {
   "attachments": {},
   "cell_type": "markdown",
   "id": "7fb8b0b5",
   "metadata": {},
   "source": [
    "Correlación entre variables"
   ]
  },
  {
   "cell_type": "code",
   "execution_count": 23,
   "id": "8a375f20",
   "metadata": {},
   "outputs": [
    {
     "data": {
      "image/png": "[encoded data removed]",
      "text/plain": [
       "<Figure size 640x480 with 2 Axes>"
      ]
     },
     "metadata": {},
     "output_type": "display_data"
    }
   ],
   "source": [
    "corr = disp_df_eda.corr()\n",
    "sns.heatmap(corr, xticklabels=corr.columns, yticklabels=corr.columns)\n",
    "plt.show()"
   ]
  },
  {
   "attachments": {},
   "cell_type": "markdown",
   "id": "b487d6ee",
   "metadata": {},
   "source": [
    "Podemos observar que las variables que mayor correlacción positiva presentan son aquellas correspondientes a la temperatura (tmax_2m1,...,tmp_sfc1) con la variable de ulwrf_t1.\n",
    "corr negativa (pres_ms1 -> dlwrf_s1); (spfh_2m1 -> pres_ms1); (tmax_2m1-ulwrf_s1 -> pres_ms1); (ulwrf_t1 -> tcdc_ea1-tcolc_e1)"
   ]
  },
  {
   "attachments": {},
   "cell_type": "markdown",
   "id": "847d0167",
   "metadata": {},
   "source": [
    "# Preparación de datos\n",
    "## Train, test y validación"
   ]
  },
  {
   "attachments": {},
   "cell_type": "markdown",
   "id": "76699ff9",
   "metadata": {},
   "source": [
    "Dividimos los datos en los conjuntos de train y test. A su vez dividimos el conjunto de train para preparar las comparaciones entre los diferentes modelos."
   ]
  },
  {
   "cell_type": "code",
   "execution_count": 3,
   "id": "23fb0c87",
   "metadata": {},
   "outputs": [],
   "source": [
    "train = disp_df.iloc[:10*365]\n",
    "test = disp_df.iloc[10*365:]\n",
    "\n",
    "train_train = train.iloc[:8*365]\n",
    "train_validation = train.iloc[8*365:]\n",
    "\n",
    "#separamos la variable objetivo en los sets de entrenamiento y validación\n",
    "X_train_train = train_train.iloc[:, :75]\n",
    "Y_train_train = train_train.iloc[:, 75]\n",
    "\n",
    "X_train_validation = train_validation.iloc[:, :75]\n",
    "Y_train_validation = train_validation.iloc[:, 75]\n"
   ]
  },
  {
   "attachments": {},
   "cell_type": "markdown",
   "id": "239cfc6c",
   "metadata": {},
   "source": [
    "## Creación de un modelo dummy"
   ]
  },
  {
   "cell_type": "code",
   "execution_count": 4,
   "id": "d9cc12b7",
   "metadata": {},
   "outputs": [
    {
     "name": "stdout",
     "output_type": "stream",
     "text": [
      "dummy MAE:  6720947.2602739725\n",
      "dummy RMSE:  7809144.902737563\n"
     ]
    }
   ],
   "source": [
    "#create a dummy regressor using the median to compare\n",
    "dummy = DummyRegressor(strategy=\"median\")\n",
    "dummy.fit(X_train_train, Y_train_train)\n",
    "dummy_pred = dummy.predict(X_train_validation)\n",
    "\n",
    "dummy_mae = mean_absolute_error(Y_train_validation, dummy_pred)\n",
    "print(\"dummy MAE: \",dummy_mae)\n",
    "\n",
    "dummy_rmse = np.sqrt(mean_squared_error(Y_train_validation,dummy_pred))\n",
    "print(\"dummy RMSE: \", dummy_rmse)"
   ]
  },
  {
   "attachments": {},
   "cell_type": "markdown",
   "id": "cc0b53bc",
   "metadata": {},
   "source": [
    "# Métodos Básicos\n",
    "## Creación de modelos\n",
    "Usamos KNeighborsRegressor "
   ]
  },
  {
   "cell_type": "code",
   "execution_count": 45,
   "id": "594a3460",
   "metadata": {},
   "outputs": [
    {
     "name": "stdout",
     "output_type": "stream",
     "text": [
      "MAE:  2536714.7671232875\n",
      "RMSE:  3675153.3534838464\n",
      "Puntuación:  0.777642376391267\n",
      "Tiempo de ejecución:  0.03590273857116699\n"
     ]
    }
   ],
   "source": [
    "start = time.time()\n",
    "KNN_reg = KNeighborsRegressor()\n",
    "\n",
    "scaler_x = StandardScaler()\n",
    "X_train_train_norm = scaler_x.fit_transform(X_train_train)\n",
    "X_train_validation_norm = scaler_x.transform(X_train_validation)\n",
    "\n",
    "scaler_y = StandardScaler()\n",
    "Y_train_train_norm = scaler_y.fit_transform(Y_train_train.values.reshape(-1, 1)).ravel()\n",
    "Y_train_validation_norm = scaler_y.transform(Y_train_validation.values.reshape(-1, 1)).ravel()\n",
    "\n",
    "KNN_reg.fit(X_train_train_norm, Y_train_train_norm)\n",
    "KNN_reg_pred_norm = KNN_reg.predict(X_train_validation_norm)\n",
    "KNN_reg_pred = scaler_y.inverse_transform(KNN_reg_pred_norm.reshape(-1, 1)).ravel()\n",
    "\n",
    "end = time.time()\n",
    "\n",
    "# Métricas\n",
    "KNN_reg_mae = mean_absolute_error(Y_train_validation, KNN_reg_pred)\n",
    "print(\"MAE: \", KNN_reg_mae)\n",
    "\n",
    "\n",
    "KNN_reg_rmse = np.sqrt(mean_squared_error(Y_train_validation, KNN_reg_pred))\n",
    "print(\"RMSE: \", KNN_reg_rmse)\n",
    "\n",
    "\n",
    "print(\"Puntuación: \", KNN_reg.score(X_train_validation_norm, Y_train_validation_norm))\n",
    "print(\"Tiempo de ejecución: \", end - start)"
   ]
  },
  {
   "attachments": {},
   "cell_type": "markdown",
   "id": "5107a42e",
   "metadata": {},
   "source": [
    "Procedemos a usar arboles de regresión"
   ]
  },
  {
   "cell_type": "code",
   "execution_count": 46,
   "id": "856cf6c8",
   "metadata": {},
   "outputs": [
    {
     "name": "stdout",
     "output_type": "stream",
     "text": [
      "model MAE:  3344148.493150685\n",
      "model rmse:  4829894.676721137\n",
      "Puntuación:  0.6159600420419615\n",
      "Tiempo de ejecución:  0.16257381439208984\n"
     ]
    }
   ],
   "source": [
    "start = time.time()\n",
    "\n",
    "tree_reg = DecisionTreeRegressor(random_state=2)\n",
    "tree_reg.fit(X_train_train, Y_train_train)\n",
    "tree_reg_pred = tree_reg.predict(X_train_validation)\n",
    "\n",
    "end = time.time()\n",
    "\n",
    "tree_reg_mae = mean_absolute_error(Y_train_validation, tree_reg_pred)\n",
    "print(\"model MAE: \", tree_reg_mae)\n",
    "\n",
    "tree_reg_rmse = np.sqrt(mean_squared_error(Y_train_validation, tree_reg_pred))\n",
    "print(\"model rmse: \", tree_reg_rmse)\n",
    "\n",
    "print(\"Puntuación: \", tree_reg.score(X_train_validation, Y_train_validation))\n",
    "print(\"Tiempo de ejecución: \", end - start)\n"
   ]
  },
  {
   "attachments": {},
   "cell_type": "markdown",
   "id": "bca4e092",
   "metadata": {},
   "source": [
    "Usamos regresion lineal"
   ]
  },
  {
   "cell_type": "code",
   "execution_count": 47,
   "id": "43a6a568",
   "metadata": {},
   "outputs": [
    {
     "name": "stdout",
     "output_type": "stream",
     "text": [
      "model MAE:  2265683.8029644764\n",
      "model rmse:  3268115.476041282\n",
      "Puntuación:  0.8241688243985801\n",
      "Tiempo de ejecución:  0.033890485763549805\n"
     ]
    }
   ],
   "source": [
    "start = time.time()\n",
    "\n",
    "li_reg = LinearRegression()\n",
    "li_reg.fit(X_train_train, Y_train_train)\n",
    "li_reg_pred = li_reg.predict(X_train_validation)\n",
    "\n",
    "end = time.time()\n",
    "\n",
    "li_reg_mae = mean_absolute_error(Y_train_validation, li_reg_pred)\n",
    "print(\"model MAE: \", li_reg_mae)\n",
    "\n",
    "li_reg_rmse = np.sqrt(mean_squared_error(Y_train_validation, li_reg_pred))\n",
    "print(\"model rmse: \", li_reg_rmse)\n",
    "\n",
    "print(\"Puntuación: \", li_reg.score(X_train_validation, Y_train_validation))\n",
    "print(\"Tiempo de ejecución: \", end - start)\n"
   ]
  },
  {
   "attachments": {},
   "cell_type": "markdown",
   "id": "1d40578d",
   "metadata": {},
   "source": [
    "## Ajuste de hiperparámetros por búsqueda en cuadrícula"
   ]
  },
  {
   "attachments": {},
   "cell_type": "markdown",
   "id": "3bed721e",
   "metadata": {},
   "source": [
    "### KNeighborsRegressor"
   ]
  },
  {
   "cell_type": "code",
   "execution_count": 54,
   "id": "21023430",
   "metadata": {},
   "outputs": [
    {
     "name": "stdout",
     "output_type": "stream",
     "text": [
      "Fitting 5 folds for each of 152 candidates, totalling 760 fits\n"
     ]
    },
    {
     "ename": "KeyboardInterrupt",
     "evalue": "",
     "output_type": "error",
     "traceback": [
      "\u001b[1;31m---------------------------------------------------------------------------\u001b[0m",
      "\u001b[1;31mKeyboardInterrupt\u001b[0m                         Traceback (most recent call last)",
      "Cell \u001b[1;32mIn[54], line 11\u001b[0m\n\u001b[0;32m      2\u001b[0m param_grid \u001b[39m=\u001b[39m {\u001b[39m'\u001b[39m\u001b[39mn_neighbors\u001b[39m\u001b[39m'\u001b[39m: np\u001b[39m.\u001b[39marange(\u001b[39m1\u001b[39m, \u001b[39m20\u001b[39m), \u001b[39m'\u001b[39m\u001b[39mweights\u001b[39m\u001b[39m'\u001b[39m: [\u001b[39m'\u001b[39m\u001b[39muniform\u001b[39m\u001b[39m'\u001b[39m, \u001b[39m'\u001b[39m\u001b[39mdistance\u001b[39m\u001b[39m'\u001b[39m], \u001b[39m'\u001b[39m\u001b[39mp\u001b[39m\u001b[39m'\u001b[39m: [\u001b[39m1\u001b[39m, \u001b[39m2\u001b[39m, \u001b[39m3\u001b[39m, \u001b[39m4\u001b[39m]}\n\u001b[0;32m      3\u001b[0m grid \u001b[39m=\u001b[39m GridSearchCV(\n\u001b[0;32m      4\u001b[0m     estimator\u001b[39m=\u001b[39mKNeighborsRegressor(),\n\u001b[0;32m      5\u001b[0m     param_grid\u001b[39m=\u001b[39mparam_grid,\n\u001b[1;32m   (...)\u001b[0m\n\u001b[0;32m      8\u001b[0m     verbose\u001b[39m=\u001b[39m\u001b[39m3\u001b[39m,\n\u001b[0;32m      9\u001b[0m     n_jobs\u001b[39m=\u001b[39m\u001b[39m-\u001b[39m\u001b[39m1\u001b[39m)\n\u001b[1;32m---> 11\u001b[0m grid\u001b[39m.\u001b[39;49mfit(X_train_train_norm, Y_train_train_norm)\n\u001b[0;32m     13\u001b[0m end \u001b[39m=\u001b[39m time\u001b[39m.\u001b[39mtime()\n\u001b[0;32m     15\u001b[0m \u001b[39mprint\u001b[39m(\u001b[39m\"\u001b[39m\u001b[39mTiempo de ejecución: \u001b[39m\u001b[39m\"\u001b[39m, end \u001b[39m-\u001b[39m start)\n",
      "File \u001b[1;32mc:\\Python311\\Lib\\site-packages\\sklearn\\model_selection\\_search.py:874\u001b[0m, in \u001b[0;36mBaseSearchCV.fit\u001b[1;34m(self, X, y, groups, **fit_params)\u001b[0m\n\u001b[0;32m    868\u001b[0m     results \u001b[39m=\u001b[39m \u001b[39mself\u001b[39m\u001b[39m.\u001b[39m_format_results(\n\u001b[0;32m    869\u001b[0m         all_candidate_params, n_splits, all_out, all_more_results\n\u001b[0;32m    870\u001b[0m     )\n\u001b[0;32m    872\u001b[0m     \u001b[39mreturn\u001b[39;00m results\n\u001b[1;32m--> 874\u001b[0m \u001b[39mself\u001b[39;49m\u001b[39m.\u001b[39;49m_run_search(evaluate_candidates)\n\u001b[0;32m    876\u001b[0m \u001b[39m# multimetric is determined here because in the case of a callable\u001b[39;00m\n\u001b[0;32m    877\u001b[0m \u001b[39m# self.scoring the return type is only known after calling\u001b[39;00m\n\u001b[0;32m    878\u001b[0m first_test_score \u001b[39m=\u001b[39m all_out[\u001b[39m0\u001b[39m][\u001b[39m\"\u001b[39m\u001b[39mtest_scores\u001b[39m\u001b[39m\"\u001b[39m]\n",
      "File \u001b[1;32mc:\\Python311\\Lib\\site-packages\\sklearn\\model_selection\\_search.py:1388\u001b[0m, in \u001b[0;36mGridSearchCV._run_search\u001b[1;34m(self, evaluate_candidates)\u001b[0m\n\u001b[0;32m   1386\u001b[0m \u001b[39mdef\u001b[39;00m \u001b[39m_run_search\u001b[39m(\u001b[39mself\u001b[39m, evaluate_candidates):\n\u001b[0;32m   1387\u001b[0m \u001b[39m    \u001b[39m\u001b[39m\"\"\"Search all candidates in param_grid\"\"\"\u001b[39;00m\n\u001b[1;32m-> 1388\u001b[0m     evaluate_candidates(ParameterGrid(\u001b[39mself\u001b[39;49m\u001b[39m.\u001b[39;49mparam_grid))\n",
      "File \u001b[1;32mc:\\Python311\\Lib\\site-packages\\sklearn\\model_selection\\_search.py:821\u001b[0m, in \u001b[0;36mBaseSearchCV.fit.<locals>.evaluate_candidates\u001b[1;34m(candidate_params, cv, more_results)\u001b[0m\n\u001b[0;32m    813\u001b[0m \u001b[39mif\u001b[39;00m \u001b[39mself\u001b[39m\u001b[39m.\u001b[39mverbose \u001b[39m>\u001b[39m \u001b[39m0\u001b[39m:\n\u001b[0;32m    814\u001b[0m     \u001b[39mprint\u001b[39m(\n\u001b[0;32m    815\u001b[0m         \u001b[39m\"\u001b[39m\u001b[39mFitting \u001b[39m\u001b[39m{0}\u001b[39;00m\u001b[39m folds for each of \u001b[39m\u001b[39m{1}\u001b[39;00m\u001b[39m candidates,\u001b[39m\u001b[39m\"\u001b[39m\n\u001b[0;32m    816\u001b[0m         \u001b[39m\"\u001b[39m\u001b[39m totalling \u001b[39m\u001b[39m{2}\u001b[39;00m\u001b[39m fits\u001b[39m\u001b[39m\"\u001b[39m\u001b[39m.\u001b[39mformat(\n\u001b[0;32m    817\u001b[0m             n_splits, n_candidates, n_candidates \u001b[39m*\u001b[39m n_splits\n\u001b[0;32m    818\u001b[0m         )\n\u001b[0;32m    819\u001b[0m     )\n\u001b[1;32m--> 821\u001b[0m out \u001b[39m=\u001b[39m parallel(\n\u001b[0;32m    822\u001b[0m     delayed(_fit_and_score)(\n\u001b[0;32m    823\u001b[0m         clone(base_estimator),\n\u001b[0;32m    824\u001b[0m         X,\n\u001b[0;32m    825\u001b[0m         y,\n\u001b[0;32m    826\u001b[0m         train\u001b[39m=\u001b[39;49mtrain,\n\u001b[0;32m    827\u001b[0m         test\u001b[39m=\u001b[39;49mtest,\n\u001b[0;32m    828\u001b[0m         parameters\u001b[39m=\u001b[39;49mparameters,\n\u001b[0;32m    829\u001b[0m         split_progress\u001b[39m=\u001b[39;49m(split_idx, n_splits),\n\u001b[0;32m    830\u001b[0m         candidate_progress\u001b[39m=\u001b[39;49m(cand_idx, n_candidates),\n\u001b[0;32m    831\u001b[0m         \u001b[39m*\u001b[39;49m\u001b[39m*\u001b[39;49mfit_and_score_kwargs,\n\u001b[0;32m    832\u001b[0m     )\n\u001b[0;32m    833\u001b[0m     \u001b[39mfor\u001b[39;49;00m (cand_idx, parameters), (split_idx, (train, test)) \u001b[39min\u001b[39;49;00m product(\n\u001b[0;32m    834\u001b[0m         \u001b[39menumerate\u001b[39;49m(candidate_params), \u001b[39menumerate\u001b[39;49m(cv\u001b[39m.\u001b[39;49msplit(X, y, groups))\n\u001b[0;32m    835\u001b[0m     )\n\u001b[0;32m    836\u001b[0m )\n\u001b[0;32m    838\u001b[0m \u001b[39mif\u001b[39;00m \u001b[39mlen\u001b[39m(out) \u001b[39m<\u001b[39m \u001b[39m1\u001b[39m:\n\u001b[0;32m    839\u001b[0m     \u001b[39mraise\u001b[39;00m \u001b[39mValueError\u001b[39;00m(\n\u001b[0;32m    840\u001b[0m         \u001b[39m\"\u001b[39m\u001b[39mNo fits were performed. \u001b[39m\u001b[39m\"\u001b[39m\n\u001b[0;32m    841\u001b[0m         \u001b[39m\"\u001b[39m\u001b[39mWas the CV iterator empty? \u001b[39m\u001b[39m\"\u001b[39m\n\u001b[0;32m    842\u001b[0m         \u001b[39m\"\u001b[39m\u001b[39mWere there no candidates?\u001b[39m\u001b[39m\"\u001b[39m\n\u001b[0;32m    843\u001b[0m     )\n",
      "File \u001b[1;32mc:\\Python311\\Lib\\site-packages\\sklearn\\utils\\parallel.py:63\u001b[0m, in \u001b[0;36mParallel.__call__\u001b[1;34m(self, iterable)\u001b[0m\n\u001b[0;32m     58\u001b[0m config \u001b[39m=\u001b[39m get_config()\n\u001b[0;32m     59\u001b[0m iterable_with_config \u001b[39m=\u001b[39m (\n\u001b[0;32m     60\u001b[0m     (_with_config(delayed_func, config), args, kwargs)\n\u001b[0;32m     61\u001b[0m     \u001b[39mfor\u001b[39;00m delayed_func, args, kwargs \u001b[39min\u001b[39;00m iterable\n\u001b[0;32m     62\u001b[0m )\n\u001b[1;32m---> 63\u001b[0m \u001b[39mreturn\u001b[39;00m \u001b[39msuper\u001b[39;49m()\u001b[39m.\u001b[39;49m\u001b[39m__call__\u001b[39;49m(iterable_with_config)\n",
      "File \u001b[1;32mc:\\Python311\\Lib\\site-packages\\joblib\\parallel.py:1098\u001b[0m, in \u001b[0;36mParallel.__call__\u001b[1;34m(self, iterable)\u001b[0m\n\u001b[0;32m   1095\u001b[0m     \u001b[39mself\u001b[39m\u001b[39m.\u001b[39m_iterating \u001b[39m=\u001b[39m \u001b[39mFalse\u001b[39;00m\n\u001b[0;32m   1097\u001b[0m \u001b[39mwith\u001b[39;00m \u001b[39mself\u001b[39m\u001b[39m.\u001b[39m_backend\u001b[39m.\u001b[39mretrieval_context():\n\u001b[1;32m-> 1098\u001b[0m     \u001b[39mself\u001b[39;49m\u001b[39m.\u001b[39;49mretrieve()\n\u001b[0;32m   1099\u001b[0m \u001b[39m# Make sure that we get a last message telling us we are done\u001b[39;00m\n\u001b[0;32m   1100\u001b[0m elapsed_time \u001b[39m=\u001b[39m time\u001b[39m.\u001b[39mtime() \u001b[39m-\u001b[39m \u001b[39mself\u001b[39m\u001b[39m.\u001b[39m_start_time\n",
      "File \u001b[1;32mc:\\Python311\\Lib\\site-packages\\joblib\\parallel.py:975\u001b[0m, in \u001b[0;36mParallel.retrieve\u001b[1;34m(self)\u001b[0m\n\u001b[0;32m    973\u001b[0m \u001b[39mtry\u001b[39;00m:\n\u001b[0;32m    974\u001b[0m     \u001b[39mif\u001b[39;00m \u001b[39mgetattr\u001b[39m(\u001b[39mself\u001b[39m\u001b[39m.\u001b[39m_backend, \u001b[39m'\u001b[39m\u001b[39msupports_timeout\u001b[39m\u001b[39m'\u001b[39m, \u001b[39mFalse\u001b[39;00m):\n\u001b[1;32m--> 975\u001b[0m         \u001b[39mself\u001b[39m\u001b[39m.\u001b[39m_output\u001b[39m.\u001b[39mextend(job\u001b[39m.\u001b[39;49mget(timeout\u001b[39m=\u001b[39;49m\u001b[39mself\u001b[39;49m\u001b[39m.\u001b[39;49mtimeout))\n\u001b[0;32m    976\u001b[0m     \u001b[39melse\u001b[39;00m:\n\u001b[0;32m    977\u001b[0m         \u001b[39mself\u001b[39m\u001b[39m.\u001b[39m_output\u001b[39m.\u001b[39mextend(job\u001b[39m.\u001b[39mget())\n",
      "File \u001b[1;32mc:\\Python311\\Lib\\site-packages\\joblib\\_parallel_backends.py:567\u001b[0m, in \u001b[0;36mLokyBackend.wrap_future_result\u001b[1;34m(future, timeout)\u001b[0m\n\u001b[0;32m    564\u001b[0m \u001b[39m\u001b[39m\u001b[39m\"\"\"Wrapper for Future.result to implement the same behaviour as\u001b[39;00m\n\u001b[0;32m    565\u001b[0m \u001b[39mAsyncResults.get from multiprocessing.\"\"\"\u001b[39;00m\n\u001b[0;32m    566\u001b[0m \u001b[39mtry\u001b[39;00m:\n\u001b[1;32m--> 567\u001b[0m     \u001b[39mreturn\u001b[39;00m future\u001b[39m.\u001b[39;49mresult(timeout\u001b[39m=\u001b[39;49mtimeout)\n\u001b[0;32m    568\u001b[0m \u001b[39mexcept\u001b[39;00m CfTimeoutError \u001b[39mas\u001b[39;00m e:\n\u001b[0;32m    569\u001b[0m     \u001b[39mraise\u001b[39;00m \u001b[39mTimeoutError\u001b[39;00m \u001b[39mfrom\u001b[39;00m \u001b[39me\u001b[39;00m\n",
      "File \u001b[1;32mc:\\Python311\\Lib\\concurrent\\futures\\_base.py:451\u001b[0m, in \u001b[0;36mFuture.result\u001b[1;34m(self, timeout)\u001b[0m\n\u001b[0;32m    448\u001b[0m \u001b[39melif\u001b[39;00m \u001b[39mself\u001b[39m\u001b[39m.\u001b[39m_state \u001b[39m==\u001b[39m FINISHED:\n\u001b[0;32m    449\u001b[0m     \u001b[39mreturn\u001b[39;00m \u001b[39mself\u001b[39m\u001b[39m.\u001b[39m__get_result()\n\u001b[1;32m--> 451\u001b[0m \u001b[39mself\u001b[39;49m\u001b[39m.\u001b[39;49m_condition\u001b[39m.\u001b[39;49mwait(timeout)\n\u001b[0;32m    453\u001b[0m \u001b[39mif\u001b[39;00m \u001b[39mself\u001b[39m\u001b[39m.\u001b[39m_state \u001b[39min\u001b[39;00m [CANCELLED, CANCELLED_AND_NOTIFIED]:\n\u001b[0;32m    454\u001b[0m     \u001b[39mraise\u001b[39;00m CancelledError()\n",
      "File \u001b[1;32mc:\\Python311\\Lib\\threading.py:320\u001b[0m, in \u001b[0;36mCondition.wait\u001b[1;34m(self, timeout)\u001b[0m\n\u001b[0;32m    318\u001b[0m \u001b[39mtry\u001b[39;00m:    \u001b[39m# restore state no matter what (e.g., KeyboardInterrupt)\u001b[39;00m\n\u001b[0;32m    319\u001b[0m     \u001b[39mif\u001b[39;00m timeout \u001b[39mis\u001b[39;00m \u001b[39mNone\u001b[39;00m:\n\u001b[1;32m--> 320\u001b[0m         waiter\u001b[39m.\u001b[39;49macquire()\n\u001b[0;32m    321\u001b[0m         gotit \u001b[39m=\u001b[39m \u001b[39mTrue\u001b[39;00m\n\u001b[0;32m    322\u001b[0m     \u001b[39melse\u001b[39;00m:\n",
      "\u001b[1;31mKeyboardInterrupt\u001b[0m: "
     ]
    }
   ],
   "source": [
    "start = time.time()\n",
    "\n",
    "param_grid = {\n",
    "    'n_neighbors': np.arange(1, 20), \n",
    "    'weights': ['uniform', 'distance'], \n",
    "    'p': [1, 2, 3, 4]\n",
    "    }\n",
    "\n",
    "# 3-Fold cross validation for the inner loop.\n",
    "inner = KFold(n_splits=3, shuffle=True, random_state=42)\n",
    "\n",
    "grid = GridSearchCV(\n",
    "    estimator=KNeighborsRegressor(),\n",
    "    param_grid=param_grid,\n",
    "    scoring=['neg_mean_absolute_error', 'neg_mean_squared_error'], \n",
    "    refit='neg_mean_absolute_error',\n",
    "    cv=inner,\n",
    "    verbose=3,\n",
    "    n_jobs=-1)\n",
    "\n",
    "grid.fit(X_train_train_norm, Y_train_train_norm)\n",
    "\n",
    "end = time.time()\n",
    "\n",
    "print(\"Tiempo de ejecución: \", end - start)\n",
    "print(\"Mejor modelo: \", grid.best_estimator_)\n"
   ]
  },
  {
   "attachments": {},
   "cell_type": "markdown",
   "id": "59ff4cd3",
   "metadata": {},
   "source": [
    "Evaluación del modelo"
   ]
  },
  {
   "cell_type": "code",
   "execution_count": 52,
   "id": "2e353549",
   "metadata": {},
   "outputs": [
    {
     "name": "stdout",
     "output_type": "stream",
     "text": [
      "model score:  0.7940187422020105\n"
     ]
    }
   ],
   "source": [
    "# entrenar modelo\n",
    "mejor_modelo = KNeighborsRegressor(**grid.best_params_)\n",
    "mejor_modelo.fit(X_train_train_norm, Y_train_train_norm)\n",
    "\n",
    "y_pred = mejor_modelo.predict(X_train_validation_norm)\n",
    "\n",
    "# Evaluacion\n",
    "mejor_modelo_mae = mean_absolute_error(Y_train_validation_norm, y_pred)\n",
    "mejor_modelo_rmse = np.sqrt(mean_squared_error(Y_train_validation_norm, y_pred))\n",
    "print(\"model score: \", mejor_modelo.score(X_train_validation_norm, Y_train_validation_norm))"
   ]
  },
  {
   "attachments": {},
   "cell_type": "markdown",
   "id": "4a5fc82f",
   "metadata": {},
   "source": [
    "Árboles de regresión"
   ]
  },
  {
   "cell_type": "code",
   "execution_count": 11,
   "id": "7acdde6d",
   "metadata": {},
   "outputs": [
    {
     "name": "stdout",
     "output_type": "stream",
     "text": [
      "Fitting 3 folds for each of 49 candidates, totalling 147 fits\n",
      "[CV 1/3] END max_depth=2, min_samples_split=2; neg_mean_absolute_error: (test=-3212506.872) neg_mean_squared_error: (test=-18059187546806.449) total time=   0.0s\n",
      "[CV 2/3] END max_depth=2, min_samples_split=2; neg_mean_absolute_error: (test=-3281765.249) neg_mean_squared_error: (test=-18277726057453.273) total time=   0.0s\n",
      "[CV 3/3] END max_depth=2, min_samples_split=2; neg_mean_absolute_error: (test=-3347544.442) neg_mean_squared_error: (test=-20100450567010.918) total time=   0.0s\n",
      "[CV 1/3] END max_depth=2, min_samples_split=4; neg_mean_absolute_error: (test=-3212506.872) neg_mean_squared_error: (test=-18059187546806.449) total time=   0.0s\n",
      "[CV 2/3] END max_depth=2, min_samples_split=4; neg_mean_absolute_error: (test=-3281765.249) neg_mean_squared_error: (test=-18277726057453.273) total time=   0.0s\n",
      "[CV 3/3] END max_depth=2, min_samples_split=4; neg_mean_absolute_error: (test=-3347544.442) neg_mean_squared_error: (test=-20100450567010.918) total time=   0.0s\n",
      "[CV 1/3] END max_depth=2, min_samples_split=6; neg_mean_absolute_error: (test=-3212506.872) neg_mean_squared_error: (test=-18059187546806.449) total time=   0.0s\n",
      "[CV 2/3] END max_depth=2, min_samples_split=6; neg_mean_absolute_error: (test=-3281765.249) neg_mean_squared_error: (test=-18277726057453.273) total time=   0.0s\n",
      "[CV 3/3] END max_depth=2, min_samples_split=6; neg_mean_absolute_error: (test=-3347544.442) neg_mean_squared_error: (test=-20100450567010.918) total time=   0.0s\n",
      "[CV 1/3] END max_depth=2, min_samples_split=8; neg_mean_absolute_error: (test=-3212506.872) neg_mean_squared_error: (test=-18059187546806.449) total time=   0.0s\n",
      "[CV 2/3] END max_depth=2, min_samples_split=8; neg_mean_absolute_error: (test=-3281765.249) neg_mean_squared_error: (test=-18277726057453.273) total time=   0.0s\n",
      "[CV 3/3] END max_depth=2, min_samples_split=8; neg_mean_absolute_error: (test=-3347544.442) neg_mean_squared_error: (test=-20100450567010.918) total time=   0.0s\n",
      "[CV 1/3] END max_depth=2, min_samples_split=10; neg_mean_absolute_error: (test=-3212506.872) neg_mean_squared_error: (test=-18059187546806.449) total time=   0.0s\n",
      "[CV 2/3] END max_depth=2, min_samples_split=10; neg_mean_absolute_error: (test=-3281765.249) neg_mean_squared_error: (test=-18277726057453.273) total time=   0.0s\n",
      "[CV 3/3] END max_depth=2, min_samples_split=10; neg_mean_absolute_error: (test=-3347544.442) neg_mean_squared_error: (test=-20100450567010.918) total time=   0.0s\n",
      "[CV 1/3] END max_depth=2, min_samples_split=12; neg_mean_absolute_error: (test=-3212506.872) neg_mean_squared_error: (test=-18059187546806.449) total time=   0.0s\n",
      "[CV 2/3] END max_depth=2, min_samples_split=12; neg_mean_absolute_error: (test=-3281765.249) neg_mean_squared_error: (test=-18277726057453.273) total time=   0.0s\n",
      "[CV 3/3] END max_depth=2, min_samples_split=12; neg_mean_absolute_error: (test=-3347544.442) neg_mean_squared_error: (test=-20100450567010.918) total time=   0.0s\n",
      "[CV 1/3] END max_depth=2, min_samples_split=14; neg_mean_absolute_error: (test=-3212506.872) neg_mean_squared_error: (test=-18059187546806.449) total time=   0.0s\n",
      "[CV 2/3] END max_depth=2, min_samples_split=14; neg_mean_absolute_error: (test=-3281765.249) neg_mean_squared_error: (test=-18277726057453.273) total time=   0.0s\n",
      "[CV 3/3] END max_depth=2, min_samples_split=14; neg_mean_absolute_error: (test=-3347544.442) neg_mean_squared_error: (test=-20100450567010.918) total time=   0.0s\n",
      "[CV 1/3] END max_depth=4, min_samples_split=2; neg_mean_absolute_error: (test=-2742841.788) neg_mean_squared_error: (test=-14309356370671.531) total time=   0.0s\n",
      "[CV 2/3] END max_depth=4, min_samples_split=2; neg_mean_absolute_error: (test=-2703429.589) neg_mean_squared_error: (test=-14011845544737.887) total time=   0.0s\n",
      "[CV 3/3] END max_depth=4, min_samples_split=2; neg_mean_absolute_error: (test=-2918268.682) neg_mean_squared_error: (test=-15769604085411.742) total time=   0.0s\n",
      "[CV 1/3] END max_depth=4, min_samples_split=4; neg_mean_absolute_error: (test=-2742841.788) neg_mean_squared_error: (test=-14309356370671.531) total time=   0.0s\n",
      "[CV 2/3] END max_depth=4, min_samples_split=4; neg_mean_absolute_error: (test=-2703429.589) neg_mean_squared_error: (test=-14011845544737.887) total time=   0.0s\n",
      "[CV 3/3] END max_depth=4, min_samples_split=4; neg_mean_absolute_error: (test=-2918268.682) neg_mean_squared_error: (test=-15769604085411.742) total time=   0.0s\n",
      "[CV 1/3] END max_depth=4, min_samples_split=6; neg_mean_absolute_error: (test=-2742841.788) neg_mean_squared_error: (test=-14309356370671.531) total time=   0.0s\n",
      "[CV 2/3] END max_depth=4, min_samples_split=6; neg_mean_absolute_error: (test=-2703429.589) neg_mean_squared_error: (test=-14011845544737.887) total time=   0.0s\n",
      "[CV 3/3] END max_depth=4, min_samples_split=6; neg_mean_absolute_error: (test=-2918268.682) neg_mean_squared_error: (test=-15769604085411.742) total time=   0.0s\n",
      "[CV 1/3] END max_depth=4, min_samples_split=8; neg_mean_absolute_error: (test=-2742841.788) neg_mean_squared_error: (test=-14309356370671.531) total time=   0.0s\n",
      "[CV 2/3] END max_depth=4, min_samples_split=8; neg_mean_absolute_error: (test=-2703429.589) neg_mean_squared_error: (test=-14011845544737.887) total time=   0.0s\n",
      "[CV 3/3] END max_depth=4, min_samples_split=8; neg_mean_absolute_error: (test=-2918268.682) neg_mean_squared_error: (test=-15769604085411.742) total time=   0.0s\n",
      "[CV 1/3] END max_depth=4, min_samples_split=10; neg_mean_absolute_error: (test=-2742841.788) neg_mean_squared_error: (test=-14309356370671.531) total time=   0.0s\n",
      "[CV 2/3] END max_depth=4, min_samples_split=10; neg_mean_absolute_error: (test=-2703429.589) neg_mean_squared_error: (test=-14011845544737.887) total time=   0.0s\n",
      "[CV 3/3] END max_depth=4, min_samples_split=10; neg_mean_absolute_error: (test=-2918268.682) neg_mean_squared_error: (test=-15769604085411.742) total time=   0.0s\n",
      "[CV 1/3] END max_depth=4, min_samples_split=12; neg_mean_absolute_error: (test=-2742841.788) neg_mean_squared_error: (test=-14309356370671.531) total time=   0.0s\n",
      "[CV 2/3] END max_depth=4, min_samples_split=12; neg_mean_absolute_error: (test=-2703429.589) neg_mean_squared_error: (test=-14011845544737.887) total time=   0.0s\n",
      "[CV 3/3] END max_depth=4, min_samples_split=12; neg_mean_absolute_error: (test=-2918268.682) neg_mean_squared_error: (test=-15769604085411.742) total time=   0.0s\n",
      "[CV 1/3] END max_depth=4, min_samples_split=14; neg_mean_absolute_error: (test=-2742841.788) neg_mean_squared_error: (test=-14309356370671.531) total time=   0.0s\n",
      "[CV 2/3] END max_depth=4, min_samples_split=14; neg_mean_absolute_error: (test=-2706300.343) neg_mean_squared_error: (test=-14043888829573.102) total time=   0.0s\n",
      "[CV 3/3] END max_depth=4, min_samples_split=14; neg_mean_absolute_error: (test=-2918268.682) neg_mean_squared_error: (test=-15769604085411.742) total time=   0.0s\n",
      "[CV 1/3] END max_depth=6, min_samples_split=2; neg_mean_absolute_error: (test=-2702369.959) neg_mean_squared_error: (test=-15316425344402.164) total time=   0.0s\n",
      "[CV 2/3] END max_depth=6, min_samples_split=2; neg_mean_absolute_error: (test=-2687498.968) neg_mean_squared_error: (test=-14835494095635.920) total time=   0.0s\n",
      "[CV 3/3] END max_depth=6, min_samples_split=2; neg_mean_absolute_error: (test=-2910840.991) neg_mean_squared_error: (test=-17189351687729.238) total time=   0.0s\n",
      "[CV 1/3] END max_depth=6, min_samples_split=4; neg_mean_absolute_error: (test=-2700087.464) neg_mean_squared_error: (test=-15292927179466.332) total time=   0.0s\n",
      "[CV 2/3] END max_depth=6, min_samples_split=4; neg_mean_absolute_error: (test=-2681498.916) neg_mean_squared_error: (test=-14710973693351.748) total time=   0.0s\n",
      "[CV 3/3] END max_depth=6, min_samples_split=4; neg_mean_absolute_error: (test=-2868384.693) neg_mean_squared_error: (test=-16666532179374.939) total time=   0.0s\n",
      "[CV 1/3] END max_depth=6, min_samples_split=6; neg_mean_absolute_error: (test=-2736270.645) neg_mean_squared_error: (test=-15869260521064.525) total time=   0.0s\n",
      "[CV 2/3] END max_depth=6, min_samples_split=6; neg_mean_absolute_error: (test=-2680180.789) neg_mean_squared_error: (test=-14758658429921.475) total time=   0.0s\n",
      "[CV 3/3] END max_depth=6, min_samples_split=6; neg_mean_absolute_error: (test=-2890361.064) neg_mean_squared_error: (test=-16994925878841.492) total time=   0.0s\n",
      "[CV 1/3] END max_depth=6, min_samples_split=8; neg_mean_absolute_error: (test=-2736270.645) neg_mean_squared_error: (test=-15869260521064.525) total time=   0.0s\n",
      "[CV 2/3] END max_depth=6, min_samples_split=8; neg_mean_absolute_error: (test=-2669367.104) neg_mean_squared_error: (test=-14661449266060.936) total time=   0.0s\n",
      "[CV 3/3] END max_depth=6, min_samples_split=8; neg_mean_absolute_error: (test=-2903973.224) neg_mean_squared_error: (test=-17126912338059.678) total time=   0.0s\n",
      "[CV 1/3] END max_depth=6, min_samples_split=10; neg_mean_absolute_error: (test=-2736270.645) neg_mean_squared_error: (test=-15869260521064.525) total time=   0.0s\n",
      "[CV 2/3] END max_depth=6, min_samples_split=10; neg_mean_absolute_error: (test=-2672759.542) neg_mean_squared_error: (test=-14694331458235.943) total time=   0.0s\n",
      "[CV 3/3] END max_depth=6, min_samples_split=10; neg_mean_absolute_error: (test=-2903973.224) neg_mean_squared_error: (test=-17126912338059.678) total time=   0.0s\n",
      "[CV 1/3] END max_depth=6, min_samples_split=12; neg_mean_absolute_error: (test=-2737905.155) neg_mean_squared_error: (test=-15899190898467.979) total time=   0.0s\n",
      "[CV 2/3] END max_depth=6, min_samples_split=12; neg_mean_absolute_error: (test=-2686498.497) neg_mean_squared_error: (test=-14816326173650.033) total time=   0.0s\n",
      "[CV 3/3] END max_depth=6, min_samples_split=12; neg_mean_absolute_error: (test=-2882794.385) neg_mean_squared_error: (test=-16805446951964.281) total time=   0.0s\n",
      "[CV 1/3] END max_depth=6, min_samples_split=14; neg_mean_absolute_error: (test=-2737376.810) neg_mean_squared_error: (test=-15996440665088.568) total time=   0.0s\n",
      "[CV 2/3] END max_depth=6, min_samples_split=14; neg_mean_absolute_error: (test=-2689369.251) neg_mean_squared_error: (test=-14848369458485.246) total time=   0.0s\n",
      "[CV 3/3] END max_depth=6, min_samples_split=14; neg_mean_absolute_error: (test=-2882794.385) neg_mean_squared_error: (test=-16805446951964.281) total time=   0.0s\n",
      "[CV 1/3] END max_depth=8, min_samples_split=2; neg_mean_absolute_error: (test=-2883942.401) neg_mean_squared_error: (test=-18461860095560.496) total time=   0.0s\n",
      "[CV 2/3] END max_depth=8, min_samples_split=2; neg_mean_absolute_error: (test=-2881986.620) neg_mean_squared_error: (test=-17908186232381.023) total time=   0.0s\n",
      "[CV 3/3] END max_depth=8, min_samples_split=2; neg_mean_absolute_error: (test=-3054630.531) neg_mean_squared_error: (test=-20121214573999.645) total time=   0.0s\n",
      "[CV 1/3] END max_depth=8, min_samples_split=4; neg_mean_absolute_error: (test=-2826166.845) neg_mean_squared_error: (test=-17476974698164.516) total time=   0.0s\n",
      "[CV 2/3] END max_depth=8, min_samples_split=4; neg_mean_absolute_error: (test=-2883383.058) neg_mean_squared_error: (test=-17656456505038.316) total time=   0.0s\n",
      "[CV 3/3] END max_depth=8, min_samples_split=4; neg_mean_absolute_error: (test=-3000388.285) neg_mean_squared_error: (test=-19188763823753.617) total time=   0.0s\n",
      "[CV 1/3] END max_depth=8, min_samples_split=6; neg_mean_absolute_error: (test=-2841791.501) neg_mean_squared_error: (test=-17812093058729.195) total time=   0.0s\n",
      "[CV 2/3] END max_depth=8, min_samples_split=6; neg_mean_absolute_error: (test=-2877158.310) neg_mean_squared_error: (test=-17633202278702.285) total time=   0.0s\n",
      "[CV 3/3] END max_depth=8, min_samples_split=6; neg_mean_absolute_error: (test=-2989071.369) neg_mean_squared_error: (test=-18944086930225.965) total time=   0.0s\n",
      "[CV 1/3] END max_depth=8, min_samples_split=8; neg_mean_absolute_error: (test=-2802547.611) neg_mean_squared_error: (test=-16907894069316.299) total time=   0.0s\n",
      "[CV 2/3] END max_depth=8, min_samples_split=8; neg_mean_absolute_error: (test=-2885962.029) neg_mean_squared_error: (test=-17752492558245.723) total time=   0.0s\n",
      "[CV 3/3] END max_depth=8, min_samples_split=8; neg_mean_absolute_error: (test=-3020890.372) neg_mean_squared_error: (test=-19076945108046.996) total time=   0.0s\n",
      "[CV 1/3] END max_depth=8, min_samples_split=10; neg_mean_absolute_error: (test=-2789647.619) neg_mean_squared_error: (test=-16848510974759.494) total time=   0.0s\n",
      "[CV 2/3] END max_depth=8, min_samples_split=10; neg_mean_absolute_error: (test=-2855282.217) neg_mean_squared_error: (test=-17400831959901.369) total time=   0.0s\n",
      "[CV 3/3] END max_depth=8, min_samples_split=10; neg_mean_absolute_error: (test=-3003034.927) neg_mean_squared_error: (test=-19056385999511.043) total time=   0.0s\n",
      "[CV 1/3] END max_depth=8, min_samples_split=12; neg_mean_absolute_error: (test=-2783068.587) neg_mean_squared_error: (test=-16900246574721.930) total time=   0.0s\n",
      "[CV 2/3] END max_depth=8, min_samples_split=12; neg_mean_absolute_error: (test=-2853426.499) neg_mean_squared_error: (test=-17075650351952.131) total time=   0.0s\n",
      "[CV 3/3] END max_depth=8, min_samples_split=12; neg_mean_absolute_error: (test=-2958797.488) neg_mean_squared_error: (test=-18471057840371.203) total time=   0.0s\n",
      "[CV 1/3] END max_depth=8, min_samples_split=14; neg_mean_absolute_error: (test=-2770288.896) neg_mean_squared_error: (test=-16329713740896.764) total time=   0.0s\n",
      "[CV 2/3] END max_depth=8, min_samples_split=14; neg_mean_absolute_error: (test=-2845132.375) neg_mean_squared_error: (test=-17158908747289.514) total time=   0.0s\n",
      "[CV 3/3] END max_depth=8, min_samples_split=14; neg_mean_absolute_error: (test=-2951693.920) neg_mean_squared_error: (test=-18228319562107.398) total time=   0.0s\n",
      "[CV 1/3] END max_depth=10, min_samples_split=2; neg_mean_absolute_error: (test=-2940970.745) neg_mean_squared_error: (test=-19281096480638.375) total time=   0.0s\n",
      "[CV 2/3] END max_depth=10, min_samples_split=2; neg_mean_absolute_error: (test=-3131418.878) neg_mean_squared_error: (test=-21168147802732.168) total time=   0.0s\n",
      "[CV 3/3] END max_depth=10, min_samples_split=2; neg_mean_absolute_error: (test=-3068183.787) neg_mean_squared_error: (test=-20648356082350.789) total time=   0.0s\n",
      "[CV 1/3] END max_depth=10, min_samples_split=4; neg_mean_absolute_error: (test=-2960546.533) neg_mean_squared_error: (test=-19831863148222.246) total time=   0.0s\n",
      "[CV 2/3] END max_depth=10, min_samples_split=4; neg_mean_absolute_error: (test=-3056649.934) neg_mean_squared_error: (test=-20040855095273.742) total time=   0.0s\n",
      "[CV 3/3] END max_depth=10, min_samples_split=4; neg_mean_absolute_error: (test=-3096640.338) neg_mean_squared_error: (test=-20867329662368.930) total time=   0.0s\n",
      "[CV 1/3] END max_depth=10, min_samples_split=6; neg_mean_absolute_error: (test=-2956446.236) neg_mean_squared_error: (test=-19550442078713.363) total time=   0.0s\n",
      "[CV 2/3] END max_depth=10, min_samples_split=6; neg_mean_absolute_error: (test=-3084980.379) neg_mean_squared_error: (test=-19998565919010.195) total time=   0.0s\n",
      "[CV 3/3] END max_depth=10, min_samples_split=6; neg_mean_absolute_error: (test=-3100499.075) neg_mean_squared_error: (test=-20870151044292.566) total time=   0.0s\n",
      "[CV 1/3] END max_depth=10, min_samples_split=8; neg_mean_absolute_error: (test=-2899486.252) neg_mean_squared_error: (test=-18596274778161.707) total time=   0.0s\n",
      "[CV 2/3] END max_depth=10, min_samples_split=8; neg_mean_absolute_error: (test=-3047849.138) neg_mean_squared_error: (test=-19679164793395.938) total time=   0.0s\n",
      "[CV 3/3] END max_depth=10, min_samples_split=8; neg_mean_absolute_error: (test=-3094134.997) neg_mean_squared_error: (test=-20500539846143.680) total time=   0.0s\n",
      "[CV 1/3] END max_depth=10, min_samples_split=10; neg_mean_absolute_error: (test=-2949777.812) neg_mean_squared_error: (test=-19135220232338.387) total time=   0.0s\n",
      "[CV 2/3] END max_depth=10, min_samples_split=10; neg_mean_absolute_error: (test=-3028648.565) neg_mean_squared_error: (test=-19352514658077.223) total time=   0.0s\n",
      "[CV 3/3] END max_depth=10, min_samples_split=10; neg_mean_absolute_error: (test=-3081308.680) neg_mean_squared_error: (test=-20561023711581.148) total time=   0.0s\n",
      "[CV 1/3] END max_depth=10, min_samples_split=12; neg_mean_absolute_error: (test=-2929610.142) neg_mean_squared_error: (test=-19059788640009.734) total time=   0.0s\n",
      "[CV 2/3] END max_depth=10, min_samples_split=12; neg_mean_absolute_error: (test=-2982070.725) neg_mean_squared_error: (test=-18672219680664.113) total time=   0.0s\n",
      "[CV 3/3] END max_depth=10, min_samples_split=12; neg_mean_absolute_error: (test=-3024518.084) neg_mean_squared_error: (test=-19799747055841.012) total time=   0.0s\n",
      "[CV 1/3] END max_depth=10, min_samples_split=14; neg_mean_absolute_error: (test=-2938434.523) neg_mean_squared_error: (test=-18939996007410.828) total time=   0.0s\n",
      "[CV 2/3] END max_depth=10, min_samples_split=14; neg_mean_absolute_error: (test=-3014614.879) neg_mean_squared_error: (test=-19102166383628.957) total time=   0.0s\n",
      "[CV 3/3] END max_depth=10, min_samples_split=14; neg_mean_absolute_error: (test=-3019795.169) neg_mean_squared_error: (test=-19535873805772.281) total time=   0.0s\n",
      "[CV 1/3] END max_depth=12, min_samples_split=2; neg_mean_absolute_error: (test=-3039818.616) neg_mean_squared_error: (test=-20620929306260.145) total time=   0.0s\n",
      "[CV 2/3] END max_depth=12, min_samples_split=2; neg_mean_absolute_error: (test=-3236459.106) neg_mean_squared_error: (test=-22019316459284.742) total time=   0.0s\n",
      "[CV 3/3] END max_depth=12, min_samples_split=2; neg_mean_absolute_error: (test=-3244188.575) neg_mean_squared_error: (test=-23024508706618.094) total time=   0.0s\n",
      "[CV 1/3] END max_depth=12, min_samples_split=4; neg_mean_absolute_error: (test=-3115472.593) neg_mean_squared_error: (test=-21457987581520.500) total time=   0.0s\n",
      "[CV 2/3] END max_depth=12, min_samples_split=4; neg_mean_absolute_error: (test=-3212586.150) neg_mean_squared_error: (test=-21759554425300.566) total time=   0.0s\n",
      "[CV 3/3] END max_depth=12, min_samples_split=4; neg_mean_absolute_error: (test=-3155874.988) neg_mean_squared_error: (test=-21660703435578.039) total time=   0.0s\n",
      "[CV 1/3] END max_depth=12, min_samples_split=6; neg_mean_absolute_error: (test=-3079675.937) neg_mean_squared_error: (test=-21012800630664.207) total time=   0.0s\n",
      "[CV 2/3] END max_depth=12, min_samples_split=6; neg_mean_absolute_error: (test=-3167602.031) neg_mean_squared_error: (test=-21153243248994.918) total time=   0.0s\n",
      "[CV 3/3] END max_depth=12, min_samples_split=6; neg_mean_absolute_error: (test=-3164833.966) neg_mean_squared_error: (test=-21739908128374.207) total time=   0.0s\n",
      "[CV 1/3] END max_depth=12, min_samples_split=8; neg_mean_absolute_error: (test=-3046927.492) neg_mean_squared_error: (test=-20611406283748.723) total time=   0.0s\n",
      "[CV 2/3] END max_depth=12, min_samples_split=8; neg_mean_absolute_error: (test=-3127819.081) neg_mean_squared_error: (test=-20411567276553.414) total time=   0.0s\n",
      "[CV 3/3] END max_depth=12, min_samples_split=8; neg_mean_absolute_error: (test=-3171651.154) neg_mean_squared_error: (test=-21511273753558.523) total time=   0.0s\n",
      "[CV 1/3] END max_depth=12, min_samples_split=10; neg_mean_absolute_error: (test=-2972849.372) neg_mean_squared_error: (test=-19398057664999.887) total time=   0.0s\n",
      "[CV 2/3] END max_depth=12, min_samples_split=10; neg_mean_absolute_error: (test=-3103542.144) neg_mean_squared_error: (test=-19743823953449.199) total time=   0.0s\n",
      "[CV 3/3] END max_depth=12, min_samples_split=10; neg_mean_absolute_error: (test=-3174963.322) neg_mean_squared_error: (test=-22149244828107.102) total time=   0.0s\n",
      "[CV 1/3] END max_depth=12, min_samples_split=12; neg_mean_absolute_error: (test=-2926637.671) neg_mean_squared_error: (test=-18785739753987.867) total time=   0.0s\n",
      "[CV 2/3] END max_depth=12, min_samples_split=12; neg_mean_absolute_error: (test=-3033475.159) neg_mean_squared_error: (test=-18892273586803.246) total time=   0.0s\n",
      "[CV 3/3] END max_depth=12, min_samples_split=12; neg_mean_absolute_error: (test=-3077660.153) neg_mean_squared_error: (test=-20577011831160.469) total time=   0.0s\n",
      "[CV 1/3] END max_depth=12, min_samples_split=14; neg_mean_absolute_error: (test=-2904986.591) neg_mean_squared_error: (test=-18505810175711.785) total time=   0.0s\n",
      "[CV 2/3] END max_depth=12, min_samples_split=14; neg_mean_absolute_error: (test=-3018156.122) neg_mean_squared_error: (test=-18885354679259.379) total time=   0.0s\n",
      "[CV 3/3] END max_depth=12, min_samples_split=14; neg_mean_absolute_error: (test=-3106286.347) neg_mean_squared_error: (test=-20585475017280.461) total time=   0.0s\n",
      "[CV 1/3] END max_depth=14, min_samples_split=2; neg_mean_absolute_error: (test=-3113247.288) neg_mean_squared_error: (test=-22069806402789.402) total time=   0.0s\n",
      "[CV 2/3] END max_depth=14, min_samples_split=2; neg_mean_absolute_error: (test=-3298179.060) neg_mean_squared_error: (test=-23770786056958.344) total time=   0.0s\n",
      "[CV 3/3] END max_depth=14, min_samples_split=2; neg_mean_absolute_error: (test=-3344748.121) neg_mean_squared_error: (test=-24446241323230.223) total time=   0.0s\n",
      "[CV 1/3] END max_depth=14, min_samples_split=4; neg_mean_absolute_error: (test=-3148429.346) neg_mean_squared_error: (test=-21484788593441.379) total time=   0.0s\n",
      "[CV 2/3] END max_depth=14, min_samples_split=4; neg_mean_absolute_error: (test=-3263793.617) neg_mean_squared_error: (test=-22657873294474.461) total time=   0.0s\n",
      "[CV 3/3] END max_depth=14, min_samples_split=4; neg_mean_absolute_error: (test=-3259435.251) neg_mean_squared_error: (test=-22851285980813.434) total time=   0.0s\n",
      "[CV 1/3] END max_depth=14, min_samples_split=6; neg_mean_absolute_error: (test=-3163220.278) neg_mean_squared_error: (test=-21494523147829.035) total time=   0.0s\n",
      "[CV 2/3] END max_depth=14, min_samples_split=6; neg_mean_absolute_error: (test=-3160872.010) neg_mean_squared_error: (test=-20955642514893.066) total time=   0.0s\n",
      "[CV 3/3] END max_depth=14, min_samples_split=6; neg_mean_absolute_error: (test=-3277909.909) neg_mean_squared_error: (test=-22693213987506.695) total time=   0.0s\n",
      "[CV 1/3] END max_depth=14, min_samples_split=8; neg_mean_absolute_error: (test=-3112125.310) neg_mean_squared_error: (test=-20867196983734.465) total time=   0.1s\n",
      "[CV 2/3] END max_depth=14, min_samples_split=8; neg_mean_absolute_error: (test=-3151438.726) neg_mean_squared_error: (test=-20859306757912.418) total time=   0.0s\n",
      "[CV 3/3] END max_depth=14, min_samples_split=8; neg_mean_absolute_error: (test=-3168137.047) neg_mean_squared_error: (test=-21415325979028.211) total time=   0.0s\n",
      "[CV 1/3] END max_depth=14, min_samples_split=10; neg_mean_absolute_error: (test=-3043117.331) neg_mean_squared_error: (test=-19717262066258.582) total time=   0.0s\n",
      "[CV 2/3] END max_depth=14, min_samples_split=10; neg_mean_absolute_error: (test=-3153421.994) neg_mean_squared_error: (test=-20498897918805.227) total time=   0.0s\n",
      "[CV 3/3] END max_depth=14, min_samples_split=10; neg_mean_absolute_error: (test=-3169730.810) neg_mean_squared_error: (test=-21710893652289.113) total time=   0.0s\n",
      "[CV 1/3] END max_depth=14, min_samples_split=12; neg_mean_absolute_error: (test=-3035478.437) neg_mean_squared_error: (test=-19901967930496.652) total time=   0.0s\n",
      "[CV 2/3] END max_depth=14, min_samples_split=12; neg_mean_absolute_error: (test=-3066686.072) neg_mean_squared_error: (test=-19471807035198.379) total time=   0.0s\n",
      "[CV 3/3] END max_depth=14, min_samples_split=12; neg_mean_absolute_error: (test=-3164409.245) neg_mean_squared_error: (test=-21398814907991.168) total time=   0.0s\n",
      "[CV 1/3] END max_depth=14, min_samples_split=14; neg_mean_absolute_error: (test=-2964058.283) neg_mean_squared_error: (test=-18963431288054.031) total time=   0.0s\n",
      "[CV 2/3] END max_depth=14, min_samples_split=14; neg_mean_absolute_error: (test=-3029836.603) neg_mean_squared_error: (test=-19118460339150.047) total time=   0.0s\n",
      "[CV 3/3] END max_depth=14, min_samples_split=14; neg_mean_absolute_error: (test=-3065051.070) neg_mean_squared_error: (test=-19979591969483.219) total time=   0.0s\n",
      "-2749990.357974209\n",
      "{'max_depth': 6, 'min_samples_split': 4}\n"
     ]
    }
   ],
   "source": [
    "start = time.time()\n",
    "\n",
    "param_grid = {\n",
    "    'max_depth': range(2, 16, 2),\n",
    "    'min_samples_split': range(2, 16, 2)\n",
    "}\n",
    "\n",
    "# 3-Fold cross validation for the inner loop.\n",
    "inner = KFold(n_splits=3, shuffle=True, random_state=42)\n",
    "\n",
    "grid = GridSearchCV(estimator=DecisionTreeRegressor(random_state=2),\n",
    "                    param_grid=param_grid,\n",
    "                    scoring=['neg_mean_absolute_error', 'neg_mean_squared_error'], \n",
    "                    refit='neg_mean_absolute_error',\n",
    "                    cv=inner, \n",
    "                    n_jobs=1,\n",
    "                    verbose=3)\n",
    "\n",
    "grid.fit(X_train_train, Y_train_train)\n",
    "\n",
    "end = time.time()\n",
    "\n",
    "#print the best score throughout the grid search\n",
    "print(grid.best_score_)\n",
    "#print the best parameter used for the highest score of the model.\n",
    "print(grid.best_params_)"
   ]
  },
  {
   "attachments": {},
   "cell_type": "markdown",
   "id": "ebe1f611",
   "metadata": {},
   "source": [
    "Evaluación del modelo"
   ]
  },
  {
   "cell_type": "code",
   "execution_count": 12,
   "id": "5d76d90f",
   "metadata": {},
   "outputs": [
    {
     "name": "stdout",
     "output_type": "stream",
     "text": [
      "model score:  0.7515391023573957\n"
     ]
    }
   ],
   "source": [
    "# entrenar modelo\n",
    "mejor_modelo = DecisionTreeRegressor(**grid.best_params_)\n",
    "mejor_modelo.fit(X_train_train, Y_train_train)\n",
    "\n",
    "y_pred = mejor_modelo.predict(X_train_validation)\n",
    "\n",
    "# Evaluacion\n",
    "print(\"model score: \", mejor_modelo.score(X_train_validation, Y_train_validation))"
   ]
  },
  {
   "attachments": {},
   "cell_type": "markdown",
   "id": "b1f5dac0",
   "metadata": {},
   "source": [
    "Regresión lineal"
   ]
  },
  {
   "cell_type": "code",
   "execution_count": 13,
   "id": "3adf50bd",
   "metadata": {},
   "outputs": [
    {
     "name": "stdout",
     "output_type": "stream",
     "text": [
      "Fitting 5 folds for each of 8 candidates, totalling 40 fits\n",
      "-2444518.1938794027\n",
      "{'copy_X': True, 'fit_intercept': True, 'positive': False}\n"
     ]
    }
   ],
   "source": [
    "start = time.time()\n",
    "\n",
    "param_grid ={\n",
    "    #hiperparametros para regresion lineal\n",
    "    'fit_intercept': [True, False],\n",
    "    'copy_X': [True, False],\n",
    "    'positive': [True, False]\n",
    "    \n",
    "}\n",
    "\n",
    "# 3-Fold cross validation for the inner loop.\n",
    "inner = KFold(n_splits=3, shuffle=True, random_state=42)\n",
    "\n",
    "grid = GridSearchCV(\n",
    "    estimator=LinearRegression(),\n",
    "    param_grid=param_grid,\n",
    "    scoring=['neg_mean_absolute_error', 'neg_mean_squared_error'], \n",
    "    refit='neg_mean_absolute_error',\n",
    "    n_jobs=-1,\n",
    "    verbose=3)\n",
    "\n",
    "grid.fit(X_train_train, Y_train_train)\n",
    "\n",
    "end = time.time()\n",
    "\n",
    "#print the best score throughout the grid search\n",
    "print(grid.best_score_)\n",
    "#print the best parameter used for the highest score of the model.\n",
    "print(grid.best_params_)"
   ]
  },
  {
   "attachments": {},
   "cell_type": "markdown",
   "id": "c5bb0df2",
   "metadata": {},
   "source": [
    "Evaluación del modelo"
   ]
  },
  {
   "cell_type": "code",
   "execution_count": 14,
   "id": "7a39530b",
   "metadata": {},
   "outputs": [
    {
     "name": "stdout",
     "output_type": "stream",
     "text": [
      "model score:  0.8241688243985801\n"
     ]
    }
   ],
   "source": [
    "# entrenar modelo\n",
    "mejor_modelo = LinearRegression(**grid.best_params_)\n",
    "mejor_modelo.fit(X_train_train, Y_train_train)\n",
    "\n",
    "y_pred = mejor_modelo.predict(X_train_validation)\n",
    "\n",
    "# Evaluacion\n",
    "print(\"model score: \", mejor_modelo.score(X_train_validation, Y_train_validation))"
   ]
  },
  {
   "attachments": {},
   "cell_type": "markdown",
   "id": "fad996fc",
   "metadata": {},
   "source": [
    "El modelo con mayor score es el de regresión lineal, por lo que procedemos a usarlo para predecir los valores de la variable de test."
   ]
  },
  {
   "attachments": {},
   "cell_type": "markdown",
   "id": "cd3a4b85",
   "metadata": {},
   "source": [
    "# Métodos Avanzados\n",
    "## Creación de modelos"
   ]
  },
  {
   "attachments": {},
   "cell_type": "markdown",
   "id": "50789227",
   "metadata": {},
   "source": [
    "SVM"
   ]
  },
  {
   "cell_type": "code",
   "execution_count": 15,
   "id": "fb16fca6",
   "metadata": {},
   "outputs": [
    {
     "name": "stdout",
     "output_type": "stream",
     "text": [
      "model MAE:  2224652.794901519\n",
      "model rmse:  3353514.5586067806\n",
      "model score:  0.8148594775863227\n"
     ]
    }
   ],
   "source": [
    "\n",
    "svm = SVR()\n",
    "scaler = StandardScaler()\n",
    "\n",
    "X_train_train_norm = scaler.fit_transform(X_train_train)\n",
    "X_train_validation_norm = scaler.transform(X_train_validation)\n",
    "\n",
    "scaler_y = StandardScaler()\n",
    "Y_train_train_norm = scaler_y.fit_transform(Y_train_train.values.reshape(-1, 1)).ravel()\n",
    "Y_train_validation_norm = scaler_y.transform(Y_train_validation.values.reshape(-1, 1)).ravel()\n",
    "svm.fit(X_train_train_norm, Y_train_train_norm)\n",
    "y_pred_norm = svm.predict(X_train_validation_norm)\n",
    "y_pred = scaler_y.inverse_transform(y_pred_norm.reshape(-1, 1)).ravel()\n",
    "\n",
    "#pip_svm = Pipeline([('scaler', scaler), ('svm', svm)])\n",
    "\n",
    "# pip_svm.fit(X_train_train, Y_train_train)\n",
    "# svm_pred = pip_svm.predict(X_train_validation)\n",
    "\n",
    "svm_mae = mean_absolute_error(Y_train_validation, y_pred)\n",
    "print(\"model MAE: \",svm_mae)\n",
    "\n",
    "svm_rmse = np.sqrt(mean_squared_error(Y_train_validation, y_pred))\n",
    "print(\"model rmse: \", svm_rmse)\n",
    "\n",
    "print(\"model score: \", svm.score(X_train_validation_norm, Y_train_validation_norm))"
   ]
  },
  {
   "attachments": {},
   "cell_type": "markdown",
   "id": "d8f3d0ff",
   "metadata": {},
   "source": [
    "Random Forest"
   ]
  },
  {
   "cell_type": "code",
   "execution_count": 16,
   "id": "d3b0cb9e",
   "metadata": {},
   "outputs": [
    {
     "name": "stdout",
     "output_type": "stream",
     "text": [
      "model MAE:  2278659.197260274\n",
      "model rmse:  3341026.470443267\n",
      "model score:  0.8162357926282553\n"
     ]
    }
   ],
   "source": [
    "rfr = RandomForestRegressor(random_state=2)\n",
    "rfr.fit(X_train_train, Y_train_train)\n",
    "rfr_pred = rfr.predict(X_train_validation)\n",
    "\n",
    "rfr_mae = mean_absolute_error(Y_train_validation, rfr_pred)\n",
    "print(\"model MAE: \",rfr_mae)\n",
    "\n",
    "rfr_rmse = np.sqrt(mean_squared_error(Y_train_validation, rfr_pred))\n",
    "print(\"model rmse: \", rfr_rmse)\n",
    "\n",
    "print(\"model score: \", rfr.score(X_train_validation, Y_train_validation))"
   ]
  },
  {
   "attachments": {},
   "cell_type": "markdown",
   "id": "640394e3",
   "metadata": {},
   "source": [
    "## Ajuste de hiperparámetros por búsqueda en cuadrícula\n",
    "SVM"
   ]
  },
  {
   "cell_type": "code",
   "execution_count": 17,
   "id": "d93de053",
   "metadata": {},
   "outputs": [
    {
     "name": "stdout",
     "output_type": "stream",
     "text": [
      "Fitting 3 folds for each of 12 candidates, totalling 36 fits\n",
      "-0.28019596865005186\n",
      "{'SVM__C': 1, 'SVM__gamma': 0.01}\n"
     ]
    }
   ],
   "source": [
    "pipe_svr = Pipeline([('scale', scaler), ('SVM', svm)])\n",
    "\n",
    "np.random.seed(42)\n",
    "pipe_svr.fit(X_train_train, Y_train_train)\n",
    "\n",
    "\n",
    "\n",
    "param_grid ={\n",
    "    # 'kernel': ['poly', 'rbf', 'sigmoid', 'linear'],\n",
    "    'SVM__C' : [0.1, 1, 10, 100],\n",
    "    'SVM__gamma': [0.01, 0.1, 1],    \n",
    "}\n",
    "\n",
    "inner = KFold(n_splits=3, shuffle=True, random_state=42)\n",
    "\n",
    "grid = GridSearchCV(\n",
    "    # estimator=SVR(),\n",
    "    pipe_svr,\n",
    "    param_grid=param_grid,\n",
    "    scoring=['neg_mean_squared_error', 'neg_mean_absolute_error'], \n",
    "    refit='neg_mean_absolute_error',\n",
    "    cv=inner,\n",
    "    n_jobs=4,\n",
    "    verbose=1)\n",
    "\n",
    "np.random.seed(42)\n",
    "grid.fit(X_train_train_norm, Y_train_train_norm)\n",
    "\n",
    "#print the best score throughout the grid search\n",
    "print(grid.best_score_)\n",
    "#print the best parameter used for the highest score of the model.\n",
    "print(grid.best_params_)\n"
   ]
  },
  {
   "attachments": {},
   "cell_type": "markdown",
   "id": "bd16a54b",
   "metadata": {},
   "source": [
    "Evaluación del modelo"
   ]
  },
  {
   "cell_type": "code",
   "execution_count": 18,
   "id": "33b615d5",
   "metadata": {},
   "outputs": [
    {
     "name": "stdout",
     "output_type": "stream",
     "text": [
      "model MAE:  2207095.8581021917\n",
      "model rmse:  3341132.405893116\n",
      "model score:  0.8162241390524618\n"
     ]
    }
   ],
   "source": [
    "# entrenar modelo    \n",
    "mejor_modelo = SVR(\n",
    "    C= grid.best_params_['SVM__C'],\n",
    "    gamma= grid.best_params_['SVM__gamma'],\n",
    "    ) \n",
    "mejor_modelo.fit(X_train_train_norm, Y_train_train_norm)\n",
    "\n",
    "y_pred = mejor_modelo.predict(X_train_validation_norm)\n",
    "y_pred = scaler_y.inverse_transform(y_pred.reshape(-1, 1)).ravel()\n",
    "\n",
    "# Evaluacion\n",
    "svm_mae = mean_absolute_error(Y_train_validation, y_pred)\n",
    "print(\"model MAE: \", svm_mae)\n",
    "\n",
    "svm_rmse = np.sqrt(mean_squared_error(Y_train_validation, y_pred))\n",
    "print(\"model rmse: \", svm_rmse)\n",
    "\n",
    "print(\"model score: \", mejor_modelo.score(X_train_validation_norm, Y_train_validation_norm))"
   ]
  },
  {
   "attachments": {},
   "cell_type": "markdown",
   "id": "2d86cf1d",
   "metadata": {},
   "source": [
    "Random Forest"
   ]
  },
  {
   "cell_type": "code",
   "execution_count": 19,
   "id": "88ff658e",
   "metadata": {},
   "outputs": [
    {
     "name": "stdout",
     "output_type": "stream",
     "text": [
      "Fitting 5 folds for each of 8 candidates, totalling 40 fits\n",
      "-2364523.3130136984\n",
      "{'max_features': 'sqrt', 'n_estimators': 1000}\n"
     ]
    }
   ],
   "source": [
    "param_grid ={\n",
    "    'n_estimators': [10, 100, 1000, 10000],\n",
    "    'max_features': ['sqrt', 'log2']\n",
    "}\n",
    "\n",
    "grid = GridSearchCV(\n",
    "    estimator=RandomForestRegressor(random_state=2),\n",
    "    param_grid=param_grid,\n",
    "    scoring=['neg_mean_absolute_error', 'neg_mean_squared_error'], \n",
    "    refit='neg_mean_absolute_error',\n",
    "    n_jobs=-1,\n",
    "    verbose=3)\n",
    "\n",
    "grid.fit(X_train_train, Y_train_train)\n",
    "\n",
    "#print the best score throughout the grid search\n",
    "print(grid.best_score_)\n",
    "#print the best parameter used for the highest score of the model.\n",
    "print(grid.best_params_)"
   ]
  },
  {
   "attachments": {},
   "cell_type": "markdown",
   "id": "85e786a4",
   "metadata": {},
   "source": [
    "Evaluación del modelo"
   ]
  },
  {
   "cell_type": "code",
   "execution_count": 20,
   "id": "5b73bcb1",
   "metadata": {},
   "outputs": [
    {
     "name": "stdout",
     "output_type": "stream",
     "text": [
      "model score:  0.8289982876768693\n"
     ]
    }
   ],
   "source": [
    "# entrenar modelo\n",
    "mejor_modelo = RandomForestRegressor(**grid.best_params_)\n",
    "mejor_modelo.fit(X_train_train, Y_train_train)\n",
    "\n",
    "y_pred = mejor_modelo.predict(X_train_validation)\n",
    "\n",
    "# Evaluacion\n",
    "print(\"model score: \", mejor_modelo.score(X_train_validation, Y_train_validation))"
   ]
  }
 ],
 "metadata": {
  "kernelspec": {
   "display_name": "Python 3 (ipykernel)",
   "language": "python",
   "name": "python3"
  },
  "language_info": {
   "codemirror_mode": {
    "name": "ipython",
    "version": 3
   },
   "file_extension": ".py",
   "mimetype": "text/x-python",
   "name": "python",
   "nbconvert_exporter": "python",
   "pygments_lexer": "ipython3",
   "version": "3.11.0"
  }
 },
 "nbformat": 4,
 "nbformat_minor": 5
}
