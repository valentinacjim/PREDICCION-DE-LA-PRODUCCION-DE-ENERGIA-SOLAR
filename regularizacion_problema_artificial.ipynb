{
 "cells": [
  {
   "cell_type": "code",
   "execution_count": null,
   "metadata": {
    "id": "lSyuFrnyd5L9"
   },
   "outputs": [],
   "source": [
    "import numpy as np\n",
    "import matplotlib.pyplot as plt\n",
    "from sklearn.model_selection import train_test_split\n",
    "from sklearn.pipeline import Pipeline\n",
    "from sklearn.preprocessing import StandardScaler\n",
    "from sklearn.linear_model import LinearRegression, RidgeCV, LassoCV, ElasticNetCV\n",
    "from sklearn.metrics import mean_squared_error\n",
    "from sklearn.dummy import DummyRegressor"
   ]
  },
  {
   "cell_type": "code",
   "execution_count": null,
   "metadata": {
    "colab": {
     "base_uri": "https://localhost:8080/",
     "height": 282
    },
    "id": "Od5aP-qjc01V",
    "outputId": "80d460fb-9d29-4d0b-d4b7-809e24342467"
   },
   "outputs": [
    {
     "data": {
      "text/plain": [
       "[<matplotlib.lines.Line2D at 0x7f297c1a0f40>]"
      ]
     },
     "execution_count": 248,
     "metadata": {},
     "output_type": "execute_result"
    },
    {
     "data": {
      "image/png": "[encoded data removed]",
      "text/plain": [
       "<Figure size 432x288 with 1 Axes>"
      ]
     },
     "metadata": {
      "needs_background": "light"
     },
     "output_type": "display_data"
    }
   ],
   "source": [
    "num_instances = 10000\n",
    "x = np.linspace(-5,+5,num_instances)\n",
    "np.random.seed(42)\n",
    "y = 4*x+3+6*np.random.random(num_instances)\n",
    "plt.plot(x, y, '.')"
   ]
  },
  {
   "cell_type": "code",
   "execution_count": null,
   "metadata": {
    "colab": {
     "base_uri": "https://localhost:8080/"
    },
    "id": "sv8dldZofJp8",
    "outputId": "8369f388-21d0-4187-da69-f4df66d16440"
   },
   "outputs": [
    {
     "name": "stdout",
     "output_type": "stream",
     "text": [
      "(10000, 21)\n"
     ]
    }
   ],
   "source": [
    "# Anañdimos 20 columnas aleatorias a la variable relevante\n",
    "X = np.vstack((x, np.random.uniform(1,10,(20,num_instances)))).transpose()\n",
    "print(X.shape)\n",
    "X_train, X_test, y_train, y_test = train_test_split(X, y, train_size=1/200, random_state=42)"
   ]
  },
  {
   "cell_type": "code",
   "execution_count": null,
   "metadata": {
    "id": "Xqlb_aSJf7pl"
   },
   "outputs": [],
   "source": [
    "# Montamos la pipeline lineal con escalado\n",
    "regr = Pipeline([\n",
    "    ('escalado', StandardScaler()),\n",
    "    ('lineal', LinearRegression())\n",
    "])"
   ]
  },
  {
   "cell_type": "code",
   "execution_count": null,
   "metadata": {
    "id": "EfutHFiSpn1H"
   },
   "outputs": [],
   "source": [
    "def entrena_y_evalua(regr, X_train, y_train, X_test, y_test):\n",
    "  regr.fit(X_train, y_train)\n",
    "  coeficientes = regr[1].coef_\n",
    "\n",
    "  y_train_predicciones = regr.predict(X_train)\n",
    "  y_test_predicciones = regr.predict(X_test)\n",
    "  # RMSE con atributos aleatorios\n",
    "  rmse_train = mean_squared_error(y_train, y_train_predicciones, squared=False) \n",
    "  rmse_test = mean_squared_error(y_test, y_test_predicciones, squared=False) \n",
    "\n",
    "  print(f'RMSE: Train={rmse_train}, Test={rmse_test}')\n",
    "\n",
    "  plt.plot(X_train[:,[0]], y_train, '.')\n",
    "  plt.plot(X_train[:,[0]], y_train_predicciones, 'r.')\n",
    "  plt.show()\n",
    "  return(regr, rmse_train, rmse_test)"
   ]
  },
  {
   "cell_type": "code",
   "execution_count": null,
   "metadata": {
    "colab": {
     "base_uri": "https://localhost:8080/",
     "height": 739
    },
    "id": "rZ0A8OpSmguX",
    "outputId": "b467d6c0-e9a7-4cfe-d1ea-144023b14868"
   },
   "outputs": [
    {
     "name": "stdout",
     "output_type": "stream",
     "text": [
      "============================================\n",
      "MODELO LINEAL SÓLO CON ATRIBUTO RELEVANTE\n",
      "============================================\n",
      "RMSE: Train=1.8301653133939477, Test=1.730851791763501\n"
     ]
    },
    {
     "data": {
      "image/png": "[encoded data removed]",
      "text/plain": [
       "<Figure size 432x288 with 1 Axes>"
      ]
     },
     "metadata": {
      "needs_background": "light"
     },
     "output_type": "display_data"
    },
    {
     "name": "stdout",
     "output_type": "stream",
     "text": [
      "[10.9159501]\n",
      "============================================\n",
      "MODELO LINEAL CON ATRIBUTOS IRRELEVANTES\n",
      "============================================\n",
      "RMSE: Train=1.453029678418241, Test=2.2977712543992777\n"
     ]
    },
    {
     "data": {
      "image/png": "[encoded data removed]",
      "text/plain": [
       "<Figure size 432x288 with 1 Axes>"
      ]
     },
     "metadata": {
      "needs_background": "light"
     },
     "output_type": "display_data"
    },
    {
     "name": "stdout",
     "output_type": "stream",
     "text": [
      "[10.71036357  0.203929    0.09509534  0.06096274 -0.26444248  0.03469528\n",
      " -0.46220782 -0.79132774  0.18786121  0.32013688  0.23130853 -0.04231014\n",
      "  0.79400464  0.27146499 -0.04332671 -0.1918135  -0.12709915  0.21276508\n",
      " -0.0874786  -0.31309394 -0.31887784]\n"
     ]
    }
   ],
   "source": [
    "# Aquí entrenamos y evaluamos un modelo lineal con sólo el atributo relevante\n",
    "\n",
    "X_train_0 = X_train[:,[0]]\n",
    "X_test_0 = X_test[:,[0]]\n",
    "\n",
    "print('============================================')\n",
    "print('MODELO LINEAL SÓLO CON ATRIBUTO RELEVANTE')\n",
    "print('============================================')\n",
    "modelo_lineal_relevante, *_ = entrena_y_evalua(regr, X_train_0, y_train, X_test_0, y_test)\n",
    "print(modelo_lineal_relevante[1].coef_)\n",
    "\n",
    "print('============================================')\n",
    "print('MODELO LINEAL CON ATRIBUTOS IRRELEVANTES')\n",
    "print('============================================')\n",
    "modelo_lineal_irrelevantes, *_ = entrena_y_evalua(regr, X_train, y_train, X_test, y_test)\n",
    "print(modelo_lineal_irrelevantes[1].coef_)\n",
    "\n",
    "# Vemos que incluso el modelo lineal puede sobreajustarse a los datos\n",
    "# si hay demasiados atributos irrelevantes"
   ]
  },
  {
   "cell_type": "code",
   "execution_count": null,
   "metadata": {
    "colab": {
     "base_uri": "https://localhost:8080/"
    },
    "id": "jmRn7NyFeDok",
    "outputId": "aab434dc-8a18-4af6-be4d-4bd3f97286dc"
   },
   "outputs": [
    {
     "name": "stdout",
     "output_type": "stream",
     "text": [
      "[ 0.01        0.01268961  0.01610262  0.0204336   0.02592944  0.03290345\n",
      "  0.04175319  0.05298317  0.06723358  0.08531679  0.10826367  0.13738238\n",
      "  0.17433288  0.22122163  0.28072162  0.35622479  0.45203537  0.57361525\n",
      "  0.72789538  0.92367086  1.1721023   1.48735211  1.88739182  2.39502662\n",
      "  3.03919538  3.85662042  4.89390092  6.21016942  7.88046282 10.        ]\n"
     ]
    }
   ],
   "source": [
    "alphas = np.logspace(-2, 1, 30)\n",
    "print(alphas)\n",
    "\n",
    "regr_ridge = Pipeline([\n",
    "    ('escalado', StandardScaler()),\n",
    "    ('lineal', RidgeCV(alphas= alphas))\n",
    "])\n",
    "\n",
    "regr_lasso = Pipeline([\n",
    "    ('escalado', StandardScaler()),\n",
    "    ('lineal', LassoCV(alphas= alphas, random_state=42))\n",
    "])"
   ]
  },
  {
   "cell_type": "code",
   "execution_count": null,
   "metadata": {
    "colab": {
     "base_uri": "https://localhost:8080/",
     "height": 825
    },
    "id": "E2Grklx8owH_",
    "outputId": "d2281496-6e64-4c9f-a355-626c91300fa0"
   },
   "outputs": [
    {
     "name": "stdout",
     "output_type": "stream",
     "text": [
      "============================================\n",
      "MODELO RIDGE CON ATRIBUTOS IRRELEVANTES\n",
      "============================================\n",
      "RMSE: Train=1.4623466424932807, Test=2.349763531526142\n"
     ]
    },
    {
     "data": {
      "image/png": "[encoded data removed]",
      "text/plain": [
       "<Figure size 432x288 with 1 Axes>"
      ]
     },
     "metadata": {
      "needs_background": "light"
     },
     "output_type": "display_data"
    },
    {
     "name": "stdout",
     "output_type": "stream",
     "text": [
      "[10.48218857  0.24467193  0.15594697  0.05791819 -0.31019704  0.02000103\n",
      " -0.39201631 -0.78675775  0.18464406  0.34343264  0.19845424  0.04200672\n",
      "  0.77452262  0.30592681 -0.03254357 -0.17519489 -0.1540055   0.23884649\n",
      " -0.12642484 -0.37076177 -0.27848849]\n",
      "0.5736152510448679\n",
      "============================================\n",
      "MODELO LASSO CON ATRIBUTOS IRRELEVANTES\n",
      "============================================\n",
      "RMSE: Train=1.7135605379615242, Test=1.8328610030403236\n"
     ]
    },
    {
     "data": {
      "image/png": "[encoded data removed]",
      "text/plain": [
       "<Figure size 432x288 with 1 Axes>"
      ]
     },
     "metadata": {
      "needs_background": "light"
     },
     "output_type": "display_data"
    },
    {
     "name": "stdout",
     "output_type": "stream",
     "text": [
      "coeficientes_lasso=[10.59055536  0.          0.          0.         -0.          0.\n",
      " -0.         -0.30252835  0.          0.04613084  0.          0.\n",
      "  0.27409182  0.         -0.         -0.         -0.          0.03104117\n",
      " -0.         -0.         -0.        ]\n",
      "alpha_lasso=0.2807216203941177\n"
     ]
    }
   ],
   "source": [
    "print('============================================')\n",
    "print('MODELO RIDGE CON ATRIBUTOS IRRELEVANTES')\n",
    "print('============================================')\n",
    "modelo_ridge_irrelevantes, *_ = entrena_y_evalua(regr_ridge, X_train, y_train, X_test, y_test)\n",
    "print(modelo_ridge_irrelevantes[1].coef_)\n",
    "print(modelo_ridge_irrelevantes[1].alpha_)\n",
    "\n",
    "print('============================================')\n",
    "print('MODELO LASSO CON ATRIBUTOS IRRELEVANTES')\n",
    "print('============================================')\n",
    "modelo_lasso_irrelevantes, *_ = entrena_y_evalua(regr_lasso, X_train, y_train, X_test, y_test)\n",
    "print(f'coeficientes_lasso={modelo_lasso_irrelevantes[1].coef_}')\n",
    "print(f'alpha_lasso={modelo_lasso_irrelevantes[1].alpha_}')"
   ]
  },
  {
   "cell_type": "code",
   "execution_count": null,
   "metadata": {
    "id": "i0bzmnt4ddwT"
   },
   "outputs": [],
   "source": []
  }
 ],
 "metadata": {
  "colab": {
   "provenance": []
  },
  "kernelspec": {
   "display_name": "Python 3 (ipykernel)",
   "language": "python",
   "name": "python3"
  },
  "language_info": {
   "codemirror_mode": {
    "name": "ipython",
    "version": 3
   },
   "file_extension": ".py",
   "mimetype": "text/x-python",
   "name": "python",
   "nbconvert_exporter": "python",
   "pygments_lexer": "ipython3",
   "version": "3.10.6"
  }
 },
 "nbformat": 4,
 "nbformat_minor": 4
}
